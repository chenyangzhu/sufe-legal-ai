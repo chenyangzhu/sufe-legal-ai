{
 "cells": [
  {
   "cell_type": "markdown",
   "metadata": {},
   "source": [
    "# Law 软件包的教程（一）——读取数据并推荐法律\n",
    "\n",
    "这篇教程教你如何从数据库中导出数据，并且利用字典把所有的文字转换为数字表达形式，从而可以直接使用tensorflow进行深度学习，或scikit learn学习\n",
    "\n",
    "你可以配合https://chenyangzhu.github.io/sufelaw2019/ 官方文档查看这个介绍"
   ]
  },
  {
   "cell_type": "code",
   "execution_count": 22,
   "metadata": {},
   "outputs": [],
   "source": [
    "import law\n",
    "import pandas as pd\n",
    "import numpy as np\n",
    "import mysql.connector\n",
    "import sklearn.model_selection\n",
    "import matplotlib.pyplot as plt\n",
    "\n",
    "%matplotlib inline"
   ]
  },
  {
   "cell_type": "markdown",
   "metadata": {},
   "source": [
    "首先，连接数据库，你的账户和密码分别为你的姓名拼音和law+拼音例如：\n",
    "```\n",
    "user = 'zhuchenyang'\n",
    "password = 'law-zhuchenyang'\n",
    "```"
   ]
  },
  {
   "cell_type": "code",
   "execution_count": 2,
   "metadata": {
    "scrolled": true
   },
   "outputs": [],
   "source": [
    "cnx_case = mysql.connector.connect(user=\"root\", password=\"sufelaw2019\",  # 注意修改\n",
    "                              host=\"cdb-74dx1ytr.gz.tencentcdb.com\",\n",
    "                              port = \"10008\",\n",
    "                              database=\"law\")"
   ]
  },
  {
   "cell_type": "markdown",
   "metadata": {},
   "source": [
    "在你连接了数据库之后，使用SQL 语言查询任何你想要的数据\n",
    "\n",
    "数据库的详细构造和可使用的数据类型，可以在[这里](https://chenyangzhu.github.io/sufelaw2019/#/database)查看"
   ]
  },
  {
   "cell_type": "code",
   "execution_count": 3,
   "metadata": {},
   "outputs": [],
   "source": [
    "data = pd.read_sql('SELECT * FROM Civil WHERE result LIKE \"%劳动法%\";',con=cnx_case)"
   ]
  },
  {
   "cell_type": "markdown",
   "metadata": {},
   "source": [
    "# 一、构建embedding model\n",
    "\n",
    "接下来我们处理NLP，我们直接使用Embedding这个主类来处理。注意：尽管我们**并没有真正做embedding**，但现在的函数就先叫这个名字，embedding可以直接用tensorflow来完成，我们这里做的是cutting，mapping和padding。"
   ]
  },
  {
   "cell_type": "code",
   "execution_count": 4,
   "metadata": {
    "scrolled": false
   },
   "outputs": [
    {
     "name": "stdout",
     "output_type": "stream",
     "text": [
      "Building Dictionary from  ./law/dict/dictionary.csv\n"
     ]
    },
    {
     "name": "stderr",
     "output_type": "stream",
     "text": [
      "Building prefix dict from the default dictionary ...\n",
      "Loading model from cache /tmp/jieba.cache\n",
      "Loading model cost 0.581 seconds.\n",
      "Prefix dict has been built succesfully.\n"
     ]
    }
   ],
   "source": [
    "mtd = law.embedding.Embedding(\"./law/dict/dictionary.csv\", \"./law/dict/jieba_dict.txt\")"
   ]
  },
  {
   "cell_type": "markdown",
   "metadata": {},
   "source": [
    "在这一个embed_pandas文件里，我们对每一条信息做一下处理：\n",
    "\n",
    "- 首先做entity recognition，即找到其中的被告姓名，原告姓名，并用特定符号代替，从而我们有consistent的人称指代。\n",
    "- 其次我们用jieba分词cut所有的字符串，得到一系列的string list\n",
    "- 然后我们把这些string list通过字典map到数字域中，从而得到int list\n",
    "- 最后，我们利用padding，把所有的字符int list全部拓展到指定的维度，默认为2000个字符。"
   ]
  },
  {
   "cell_type": "code",
   "execution_count": 5,
   "metadata": {
    "scrolled": true
   },
   "outputs": [
    {
     "name": "stdout",
     "output_type": "stream",
     "text": [
      "Doing 0 . Total 1183\n",
      "Doing 20 . Total 1183\n",
      "Doing 40 . Total 1183\n",
      "Doing 60 . Total 1183\n",
      "Doing 80 . Total 1183\n",
      "Doing 100 . Total 1183\n",
      "Doing 120 . Total 1183\n",
      "Doing 140 . Total 1183\n",
      "Doing 160 . Total 1183\n",
      "Doing 180 . Total 1183\n",
      "Doing 200 . Total 1183\n",
      "Doing 220 . Total 1183\n",
      "Doing 240 . Total 1183\n",
      "Doing 260 . Total 1183\n",
      "Doing 280 . Total 1183\n",
      "Doing 300 . Total 1183\n",
      "Doing 320 . Total 1183\n",
      "Doing 340 . Total 1183\n",
      "Doing 360 . Total 1183\n",
      "Doing 380 . Total 1183\n",
      "Doing 400 . Total 1183\n",
      "Doing 420 . Total 1183\n",
      "Doing 440 . Total 1183\n",
      "Doing 460 . Total 1183\n",
      "Doing 480 . Total 1183\n",
      "Doing 500 . Total 1183\n",
      "Doing 520 . Total 1183\n",
      "Doing 540 . Total 1183\n",
      "Doing 560 . Total 1183\n",
      "Doing 580 . Total 1183\n",
      "Doing 600 . Total 1183\n",
      "Doing 620 . Total 1183\n",
      "Doing 640 . Total 1183\n",
      "Doing 660 . Total 1183\n",
      "Doing 680 . Total 1183\n",
      "Doing 700 . Total 1183\n",
      "Doing 720 . Total 1183\n",
      "Doing 740 . Total 1183\n",
      "Doing 760 . Total 1183\n",
      "Doing 780 . Total 1183\n",
      "Doing 800 . Total 1183\n",
      "Doing 820 . Total 1183\n",
      "Doing 840 . Total 1183\n",
      "Doing 860 . Total 1183\n",
      "Doing 880 . Total 1183\n",
      "Doing 900 . Total 1183\n",
      "Doing 920 . Total 1183\n",
      "Doing 940 . Total 1183\n",
      "Doing 960 . Total 1183\n",
      "Doing 980 . Total 1183\n",
      "Doing 1000 . Total 1183\n",
      "Doing 1020 . Total 1183\n",
      "Doing 1040 . Total 1183\n",
      "Doing 1060 . Total 1183\n",
      "Doing 1080 . Total 1183\n",
      "Doing 1100 . Total 1183\n",
      "Doing 1120 . Total 1183\n",
      "Doing 1140 . Total 1183\n",
      "Doing 1160 . Total 1183\n",
      "Doing 1180 . Total 1183\n"
     ]
    }
   ],
   "source": [
    "num_list = mtd.embed_pandas(df=data,targets = \"process\")"
   ]
  },
  {
   "cell_type": "code",
   "execution_count": 6,
   "metadata": {
    "scrolled": true
   },
   "outputs": [],
   "source": [
    "mapped_and_padded = np.array(num_list)"
   ]
  },
  {
   "cell_type": "code",
   "execution_count": 7,
   "metadata": {},
   "outputs": [
    {
     "data": {
      "text/plain": [
       "(1183, 2000)"
      ]
     },
     "execution_count": 7,
     "metadata": {},
     "output_type": "execute_result"
    }
   ],
   "source": [
    "mapped_and_padded.shape"
   ]
  },
  {
   "cell_type": "code",
   "execution_count": 8,
   "metadata": {},
   "outputs": [
    {
     "data": {
      "text/plain": [
       "array([[   6,   45,    6, ...,    0,    0,    0],\n",
       "       [1059,    6,   29, ...,    0,    0,    0],\n",
       "       [1059,   20,   11, ...,    0,    0,    0],\n",
       "       ...,\n",
       "       [1059,    6,  442, ...,    0,    0,    0],\n",
       "       [1059,    6,  442, ...,    0,    0,    0],\n",
       "       [1059,    6,  442, ...,    0,    0,    0]])"
      ]
     },
     "execution_count": 8,
     "metadata": {},
     "output_type": "execute_result"
    }
   ],
   "source": [
    "mapped_and_padded[:10]"
   ]
  },
  {
   "cell_type": "markdown",
   "metadata": {},
   "source": [
    "`mapped_and_padded`矩阵就是我们已经cut、map和pad过的X矩阵了。接下来我们来处理标签y"
   ]
  },
  {
   "cell_type": "markdown",
   "metadata": {},
   "source": [
    "# 二、使用API 找到文本中出现的全部法律\n",
    "\n",
    "我们使用`law.utils.find_law_in_series`的函数来调取`result`中出现的所有法律和条款名称"
   ]
  },
  {
   "cell_type": "code",
   "execution_count": 9,
   "metadata": {},
   "outputs": [],
   "source": [
    "used_law = law.utils.find_law_in_series(data['result'])"
   ]
  },
  {
   "cell_type": "code",
   "execution_count": 10,
   "metadata": {},
   "outputs": [
    {
     "data": {
      "text/plain": [
       "[[['《中华人民共和国民事诉讼法》', ['第二百五十三条'], []],\n",
       "  ['《中华人民共和国劳动合同法》', ['第四十四条'], []],\n",
       "  ['《中华人民共和国劳动法》', ['第四十五条'], []]],\n",
       " [['《中华人民共和国民事诉讼法》', ['第一百一十九条', '第一百五十四条'], ['第一百五十四条第一款']],\n",
       "  ['《最高人民法院关于审理劳动争议案件适用法律若干问题的解释》', ['第一条'], []],\n",
       "  ['《中华人民共和国劳动法》', ['第二条'], []]],\n",
       " [['《中华人民共和国民事诉讼法》', ['第二百五十三条'], []], ['《中华人民共和国劳动法》', ['第三条'], []]],\n",
       " [['《中华人民共和国民事诉讼法》', ['第二百五十三条'], []], ['《中华人民共和国劳动法》', ['第三条'], []]],\n",
       " [['《中华人民共和国民事诉讼法》', ['第二百五十三条'], []], ['《中华人民共和国劳动法》', ['第三条'], []]],\n",
       " [['《中华人民共和国民事诉讼法》', ['第二百五十三条'], []], ['《中华人民共和国劳动法》', ['第三条'], []]],\n",
       " [['《中华人民共和国民事诉讼法》', ['第二百五十三条'], []], ['《中华人民共和国劳动法》', ['第三条'], []]],\n",
       " [['《中华人民共和国民事诉讼法》', ['第二百五十三条'], []],\n",
       "  ['《中华人民共和国劳动法》', ['第七十二条', '第七十三条'], []]],\n",
       " [['《中华人民共和国民事诉讼法》', ['第二百五十三条'], []], ['《中华人民共和国劳动法》', ['第五十条'], []]],\n",
       " [['《中华人民共和国民事诉讼法》', ['第二百五十三条'], []],\n",
       "  ['《中华人民共和国劳动争议调解仲裁法》', ['第六条'], []],\n",
       "  ['《中华人民共和国劳动法》', ['第四十四条'], []],\n",
       "  ['《职工带薪年休假条例》', ['第三条、第五条'], []]]]"
      ]
     },
     "execution_count": 10,
     "metadata": {},
     "output_type": "execute_result"
    }
   ],
   "source": [
    "used_law[:10]"
   ]
  },
  {
   "cell_type": "markdown",
   "metadata": {},
   "source": [
    "可以看到，这个结果是用数组存储的，为了方便之后的回归模型等，我们对每一个case，只选择一条法律（本例为劳动法）和出现的第一条来做后面的回归。"
   ]
  },
  {
   "cell_type": "code",
   "execution_count": 11,
   "metadata": {},
   "outputs": [],
   "source": [
    "law_list = []\n",
    "for each_case in used_law:\n",
    "    case_law = []\n",
    "    flag = 0\n",
    "    for each_law in each_case:\n",
    "        if \"劳动法\" in each_law[0]:\n",
    "            try:\n",
    "                # 注意这里只取了一个法律\n",
    "                only_one_tiao = each_law[1][0]\n",
    "            except:\n",
    "                only_one_tiao = ' '\n",
    "            case_law = [each_law[0],only_one_tiao]\n",
    "            flag = 1\n",
    "    if not flag:\n",
    "        case_law = [\" \"]\n",
    "    law_list.append(case_law)\n",
    "\n",
    "law_list = pd.DataFrame(law_list)\n",
    "law_list = law_list.rename(columns={0:\"law_used\",1:\"tiao_used\"})"
   ]
  },
  {
   "cell_type": "markdown",
   "metadata": {},
   "source": [
    "处理结束后，得到了如下的表，这里的index和我们原始的表中的index是一致的。"
   ]
  },
  {
   "cell_type": "code",
   "execution_count": 12,
   "metadata": {},
   "outputs": [
    {
     "data": {
      "text/html": [
       "<div>\n",
       "<style scoped>\n",
       "    .dataframe tbody tr th:only-of-type {\n",
       "        vertical-align: middle;\n",
       "    }\n",
       "\n",
       "    .dataframe tbody tr th {\n",
       "        vertical-align: top;\n",
       "    }\n",
       "\n",
       "    .dataframe thead th {\n",
       "        text-align: right;\n",
       "    }\n",
       "</style>\n",
       "<table border=\"1\" class=\"dataframe\">\n",
       "  <thead>\n",
       "    <tr style=\"text-align: right;\">\n",
       "      <th></th>\n",
       "      <th>law_used</th>\n",
       "      <th>tiao_used</th>\n",
       "    </tr>\n",
       "  </thead>\n",
       "  <tbody>\n",
       "    <tr>\n",
       "      <th>0</th>\n",
       "      <td>《中华人民共和国劳动法》</td>\n",
       "      <td>第四十五条</td>\n",
       "    </tr>\n",
       "    <tr>\n",
       "      <th>1</th>\n",
       "      <td>《中华人民共和国劳动法》</td>\n",
       "      <td>第二条</td>\n",
       "    </tr>\n",
       "    <tr>\n",
       "      <th>2</th>\n",
       "      <td>《中华人民共和国劳动法》</td>\n",
       "      <td>第三条</td>\n",
       "    </tr>\n",
       "    <tr>\n",
       "      <th>3</th>\n",
       "      <td>《中华人民共和国劳动法》</td>\n",
       "      <td>第三条</td>\n",
       "    </tr>\n",
       "    <tr>\n",
       "      <th>4</th>\n",
       "      <td>《中华人民共和国劳动法》</td>\n",
       "      <td>第三条</td>\n",
       "    </tr>\n",
       "  </tbody>\n",
       "</table>\n",
       "</div>"
      ],
      "text/plain": [
       "       law_used tiao_used\n",
       "0  《中华人民共和国劳动法》     第四十五条\n",
       "1  《中华人民共和国劳动法》       第二条\n",
       "2  《中华人民共和国劳动法》       第三条\n",
       "3  《中华人民共和国劳动法》       第三条\n",
       "4  《中华人民共和国劳动法》       第三条"
      ]
     },
     "execution_count": 12,
     "metadata": {},
     "output_type": "execute_result"
    }
   ],
   "source": [
    "law_list.head()"
   ]
  },
  {
   "cell_type": "code",
   "execution_count": 13,
   "metadata": {},
   "outputs": [
    {
     "data": {
      "text/plain": [
       "True"
      ]
     },
     "execution_count": 13,
     "metadata": {},
     "output_type": "execute_result"
    }
   ],
   "source": [
    "# 看看我们的y和x的维度是否一致\n",
    "law_list.shape[0] == mapped_and_padded.shape[0]"
   ]
  },
  {
   "cell_type": "markdown",
   "metadata": {},
   "source": [
    "事实由于我只取了劳动法，所以我们其实只需要tiao即可了，但可以看到tiao其实还有没有请洗干净的，例如none和\" \"，我们不想要这些数据"
   ]
  },
  {
   "cell_type": "code",
   "execution_count": 15,
   "metadata": {},
   "outputs": [
    {
     "data": {
      "text/plain": [
       "[96,\n",
       " 112,\n",
       " 128,\n",
       " 230,\n",
       " 232,\n",
       " 333,\n",
       " 351,\n",
       " 358,\n",
       " 420,\n",
       " 495,\n",
       " 496,\n",
       " 646,\n",
       " 808,\n",
       " 809,\n",
       " 952,\n",
       " 991,\n",
       " 1004,\n",
       " 1038,\n",
       " 1048]"
      ]
     },
     "execution_count": 15,
     "metadata": {},
     "output_type": "execute_result"
    }
   ],
   "source": [
    "# 需要排除的index包括\n",
    "drop_list = list(law_list[law_list['tiao_used'] == ' '].index)\n",
    "drop_list.extend(list(law_list[law_list['tiao_used'] == None].index))\n",
    "\n",
    "drop_list"
   ]
  },
  {
   "cell_type": "markdown",
   "metadata": {},
   "source": [
    "我们需要同时在X 和Y中drop这些点"
   ]
  },
  {
   "cell_type": "code",
   "execution_count": 17,
   "metadata": {},
   "outputs": [],
   "source": [
    "X = np.delete(mapped_and_padded,drop_list,0)\n",
    "y = law_list.drop(index=drop_list,axis=0)['tiao_used']"
   ]
  },
  {
   "cell_type": "markdown",
   "metadata": {},
   "source": [
    "最后，我们把y变为数字向量，当然还有很多其他方法，这里只列举一种。\n",
    "\n",
    "+1 是因为factorize时候会生成一个 -1，所以我们要把他移到0的位置"
   ]
  },
  {
   "cell_type": "code",
   "execution_count": 19,
   "metadata": {},
   "outputs": [],
   "source": [
    "y = pd.factorize(y)[0] + 1"
   ]
  },
  {
   "cell_type": "code",
   "execution_count": 20,
   "metadata": {},
   "outputs": [
    {
     "data": {
      "text/plain": [
       "(array([594., 135., 162.,  25., 102.,  88.,  15.,  23.,  10.,  10.]),\n",
       " array([ 0.,  6., 12., 18., 24., 30., 36., 42., 48., 54., 60.]),\n",
       " <a list of 10 Patch objects>)"
      ]
     },
     "execution_count": 20,
     "metadata": {},
     "output_type": "execute_result"
    },
    {
     "data": {
      "image/png": "[encoded data removed]",
      "text/plain": [
       "<Figure size 432x288 with 1 Axes>"
      ]
     },
     "metadata": {},
     "output_type": "display_data"
    }
   ],
   "source": [
    "plt.hist(y)"
   ]
  },
  {
   "cell_type": "markdown",
   "metadata": {},
   "source": [
    "至此，X 和y已经构建完毕，我们接着划分train val 和test"
   ]
  },
  {
   "cell_type": "code",
   "execution_count": 23,
   "metadata": {},
   "outputs": [],
   "source": [
    "X_train, X_test, y_train, y_test = sklearn.model_selection.train_test_split(X, y, test_size=0.2, random_state=1)\n",
    "X_train, X_val, y_train, y_val = sklearn.model_selection.train_test_split(X_train, y_train, test_size=0.2, random_state=2)"
   ]
  },
  {
   "cell_type": "markdown",
   "metadata": {},
   "source": [
    "# 三、模型\n",
    "\n",
    "由于我们的模型还是以deep learning为主，这里随意套一个多分类模型，作为教程示范。"
   ]
  },
  {
   "cell_type": "code",
   "execution_count": 25,
   "metadata": {},
   "outputs": [
    {
     "data": {
      "text/plain": [
       "'2.0.0-alpha0'"
      ]
     },
     "execution_count": 25,
     "metadata": {},
     "output_type": "execute_result"
    }
   ],
   "source": [
    "import tensorflow as tf\n",
    "\n",
    "tf.__version__"
   ]
  },
  {
   "cell_type": "code",
   "execution_count": 28,
   "metadata": {},
   "outputs": [
    {
     "name": "stdout",
     "output_type": "stream",
     "text": [
      "Model: \"sequential_1\"\n",
      "_________________________________________________________________\n",
      "Layer (type)                 Output Shape              Param #   \n",
      "=================================================================\n",
      "embedding_1 (Embedding)      (None, None, 16)          78336     \n",
      "_________________________________________________________________\n",
      "global_average_pooling1d_1 ( (None, 16)                0         \n",
      "_________________________________________________________________\n",
      "dense_1 (Dense)              (None, 16)                272       \n",
      "_________________________________________________________________\n",
      "dense_2 (Dense)              (None, 61)                1037      \n",
      "=================================================================\n",
      "Total params: 79,645\n",
      "Trainable params: 79,645\n",
      "Non-trainable params: 0\n",
      "_________________________________________________________________\n"
     ]
    }
   ],
   "source": [
    "model = tf.keras.Sequential()\n",
    "\n",
    "model.add(tf.keras.layers.Embedding(4896, 16)) # 4896是字典的大小\n",
    "model.add(tf.keras.layers.GlobalAveragePooling1D())\n",
    "model.add(tf.keras.layers.Dense(16, activation='relu'))\n",
    "model.add(tf.keras.layers.Dense(61, activation='sigmoid'))\n",
    "\n",
    "model.summary()"
   ]
  },
  {
   "cell_type": "code",
   "execution_count": 29,
   "metadata": {},
   "outputs": [],
   "source": [
    "model.compile(optimizer='adam',\n",
    "              loss='sparse_categorical_crossentropy',\n",
    "              metrics=['acc'])"
   ]
  },
  {
   "cell_type": "code",
   "execution_count": 30,
   "metadata": {
    "scrolled": true
   },
   "outputs": [
    {
     "name": "stdout",
     "output_type": "stream",
     "text": [
      "Train on 1164 samples, validate on 187 samples\n",
      "Epoch 1/200\n",
      "1164/1164 [==============================] - 1s 495us/sample - loss: 4.0378 - acc: 0.0816 - val_loss: 3.8528 - val_acc: 0.1818\n",
      "Epoch 2/200\n",
      "1164/1164 [==============================] - 0s 334us/sample - loss: 3.4086 - acc: 0.1718 - val_loss: 2.9947 - val_acc: 0.1818\n",
      "Epoch 3/200\n",
      "1164/1164 [==============================] - 0s 323us/sample - loss: 3.0020 - acc: 0.1718 - val_loss: 2.8885 - val_acc: 0.1818\n",
      "Epoch 4/200\n",
      "1164/1164 [==============================] - 0s 320us/sample - loss: 2.9560 - acc: 0.1718 - val_loss: 2.8490 - val_acc: 0.1818\n",
      "Epoch 5/200\n",
      "1164/1164 [==============================] - 0s 347us/sample - loss: 2.9337 - acc: 0.1718 - val_loss: 2.8291 - val_acc: 0.1818\n",
      "Epoch 6/200\n",
      "1164/1164 [==============================] - 0s 330us/sample - loss: 2.9220 - acc: 0.1718 - val_loss: 2.8153 - val_acc: 0.1818\n",
      "Epoch 7/200\n",
      "1164/1164 [==============================] - 0s 341us/sample - loss: 2.9144 - acc: 0.1718 - val_loss: 2.8147 - val_acc: 0.1818\n",
      "Epoch 8/200\n",
      "1164/1164 [==============================] - 0s 334us/sample - loss: 2.9074 - acc: 0.1718 - val_loss: 2.8048 - val_acc: 0.1818\n",
      "Epoch 9/200\n",
      "1164/1164 [==============================] - 0s 326us/sample - loss: 2.9010 - acc: 0.1718 - val_loss: 2.7990 - val_acc: 0.1818\n",
      "Epoch 10/200\n",
      "1164/1164 [==============================] - 0s 325us/sample - loss: 2.8948 - acc: 0.1718 - val_loss: 2.7936 - val_acc: 0.1818\n",
      "Epoch 11/200\n",
      "1164/1164 [==============================] - 0s 340us/sample - loss: 2.8884 - acc: 0.1718 - val_loss: 2.7845 - val_acc: 0.1818\n",
      "Epoch 12/200\n",
      "1164/1164 [==============================] - 0s 325us/sample - loss: 2.8824 - acc: 0.1718 - val_loss: 2.7805 - val_acc: 0.1818\n",
      "Epoch 13/200\n",
      "1164/1164 [==============================] - 0s 333us/sample - loss: 2.8759 - acc: 0.1718 - val_loss: 2.7747 - val_acc: 0.1818\n",
      "Epoch 14/200\n",
      "1164/1164 [==============================] - 0s 334us/sample - loss: 2.8694 - acc: 0.1718 - val_loss: 2.7673 - val_acc: 0.1818\n",
      "Epoch 15/200\n",
      "1164/1164 [==============================] - 0s 341us/sample - loss: 2.8619 - acc: 0.1718 - val_loss: 2.7595 - val_acc: 0.1818\n",
      "Epoch 16/200\n",
      "1164/1164 [==============================] - 0s 327us/sample - loss: 2.8509 - acc: 0.1718 - val_loss: 2.7419 - val_acc: 0.1818\n",
      "Epoch 17/200\n",
      "1164/1164 [==============================] - 0s 332us/sample - loss: 2.8334 - acc: 0.1718 - val_loss: 2.7262 - val_acc: 0.1818\n",
      "Epoch 18/200\n",
      "1164/1164 [==============================] - 0s 345us/sample - loss: 2.8135 - acc: 0.1753 - val_loss: 2.7006 - val_acc: 0.1872\n",
      "Epoch 19/200\n",
      "1164/1164 [==============================] - 0s 349us/sample - loss: 2.7897 - acc: 0.1821 - val_loss: 2.6764 - val_acc: 0.1711\n",
      "Epoch 20/200\n",
      "1164/1164 [==============================] - 0s 326us/sample - loss: 2.7662 - acc: 0.1770 - val_loss: 2.6549 - val_acc: 0.1765\n",
      "Epoch 21/200\n",
      "1164/1164 [==============================] - 0s 334us/sample - loss: 2.7365 - acc: 0.1753 - val_loss: 2.6152 - val_acc: 0.1765\n",
      "Epoch 22/200\n",
      "1164/1164 [==============================] - 0s 319us/sample - loss: 2.7027 - acc: 0.1796 - val_loss: 2.5901 - val_acc: 0.1872\n",
      "Epoch 23/200\n",
      "1164/1164 [==============================] - 0s 345us/sample - loss: 2.6695 - acc: 0.1830 - val_loss: 2.5501 - val_acc: 0.1925\n",
      "Epoch 24/200\n",
      "1164/1164 [==============================] - 0s 352us/sample - loss: 2.6307 - acc: 0.2036 - val_loss: 2.5057 - val_acc: 0.2299\n",
      "Epoch 25/200\n",
      "1164/1164 [==============================] - 0s 328us/sample - loss: 2.5926 - acc: 0.2285 - val_loss: 2.4620 - val_acc: 0.2460\n",
      "Epoch 26/200\n",
      "1164/1164 [==============================] - 0s 332us/sample - loss: 2.5549 - acc: 0.2414 - val_loss: 2.4320 - val_acc: 0.2406\n",
      "Epoch 27/200\n",
      "1164/1164 [==============================] - 0s 333us/sample - loss: 2.5185 - acc: 0.2560 - val_loss: 2.3965 - val_acc: 0.2353\n",
      "Epoch 28/200\n",
      "1164/1164 [==============================] - 0s 334us/sample - loss: 2.4835 - acc: 0.2826 - val_loss: 2.3568 - val_acc: 0.3422\n",
      "Epoch 29/200\n",
      "1164/1164 [==============================] - 0s 331us/sample - loss: 2.4518 - acc: 0.3076 - val_loss: 2.3205 - val_acc: 0.3476\n",
      "Epoch 30/200\n",
      "1164/1164 [==============================] - 0s 338us/sample - loss: 2.4122 - acc: 0.3282 - val_loss: 2.2837 - val_acc: 0.3369\n",
      "Epoch 31/200\n",
      "1164/1164 [==============================] - 0s 338us/sample - loss: 2.3839 - acc: 0.3316 - val_loss: 2.2525 - val_acc: 0.3422\n",
      "Epoch 32/200\n",
      "1164/1164 [==============================] - 0s 331us/sample - loss: 2.3532 - acc: 0.3385 - val_loss: 2.2267 - val_acc: 0.3369\n",
      "Epoch 33/200\n",
      "1164/1164 [==============================] - 0s 327us/sample - loss: 2.3171 - acc: 0.3445 - val_loss: 2.1924 - val_acc: 0.3529\n",
      "Epoch 34/200\n",
      "1164/1164 [==============================] - 0s 354us/sample - loss: 2.2894 - acc: 0.3411 - val_loss: 2.1634 - val_acc: 0.3690\n",
      "Epoch 35/200\n",
      "1164/1164 [==============================] - 0s 325us/sample - loss: 2.2575 - acc: 0.3514 - val_loss: 2.1446 - val_acc: 0.3957\n",
      "Epoch 36/200\n",
      "1164/1164 [==============================] - 0s 332us/sample - loss: 2.2281 - acc: 0.3608 - val_loss: 2.1151 - val_acc: 0.3957\n",
      "Epoch 37/200\n",
      "1164/1164 [==============================] - 0s 334us/sample - loss: 2.2012 - acc: 0.3651 - val_loss: 2.0785 - val_acc: 0.3957\n",
      "Epoch 38/200\n",
      "1164/1164 [==============================] - 0s 324us/sample - loss: 2.1738 - acc: 0.3703 - val_loss: 2.0573 - val_acc: 0.4011\n",
      "Epoch 39/200\n",
      "1164/1164 [==============================] - 0s 324us/sample - loss: 2.1455 - acc: 0.3763 - val_loss: 2.0222 - val_acc: 0.3957\n",
      "Epoch 40/200\n",
      "1164/1164 [==============================] - 0s 351us/sample - loss: 2.1193 - acc: 0.3875 - val_loss: 2.0025 - val_acc: 0.4118\n",
      "Epoch 41/200\n",
      "1164/1164 [==============================] - 0s 322us/sample - loss: 2.0917 - acc: 0.3969 - val_loss: 1.9834 - val_acc: 0.4225\n",
      "Epoch 42/200\n",
      "1164/1164 [==============================] - 0s 337us/sample - loss: 2.0663 - acc: 0.4046 - val_loss: 1.9593 - val_acc: 0.4171\n",
      "Epoch 43/200\n",
      "1164/1164 [==============================] - 0s 320us/sample - loss: 2.0403 - acc: 0.4115 - val_loss: 1.9322 - val_acc: 0.4545\n",
      "Epoch 44/200\n",
      "1164/1164 [==============================] - 0s 324us/sample - loss: 2.0207 - acc: 0.4287 - val_loss: 1.9062 - val_acc: 0.4439\n",
      "Epoch 45/200\n",
      "1164/1164 [==============================] - 0s 327us/sample - loss: 1.9955 - acc: 0.4235 - val_loss: 1.8876 - val_acc: 0.4385\n",
      "Epoch 46/200\n",
      "1164/1164 [==============================] - 0s 325us/sample - loss: 1.9714 - acc: 0.4278 - val_loss: 1.8655 - val_acc: 0.4439\n",
      "Epoch 47/200\n",
      "1164/1164 [==============================] - 0s 333us/sample - loss: 1.9491 - acc: 0.4467 - val_loss: 1.8433 - val_acc: 0.4920\n",
      "Epoch 48/200\n",
      "1164/1164 [==============================] - 0s 343us/sample - loss: 1.9264 - acc: 0.4476 - val_loss: 1.8227 - val_acc: 0.4599\n",
      "Epoch 49/200\n",
      "1164/1164 [==============================] - 0s 346us/sample - loss: 1.9070 - acc: 0.4519 - val_loss: 1.8056 - val_acc: 0.4813\n",
      "Epoch 50/200\n",
      "1164/1164 [==============================] - 0s 346us/sample - loss: 1.8855 - acc: 0.4802 - val_loss: 1.7797 - val_acc: 0.4545\n",
      "Epoch 51/200\n",
      "1164/1164 [==============================] - 0s 329us/sample - loss: 1.8620 - acc: 0.4648 - val_loss: 1.7666 - val_acc: 0.5080\n",
      "Epoch 52/200\n",
      "1164/1164 [==============================] - 0s 354us/sample - loss: 1.8448 - acc: 0.5077 - val_loss: 1.7430 - val_acc: 0.4866\n",
      "Epoch 53/200\n",
      "1164/1164 [==============================] - 0s 335us/sample - loss: 1.8226 - acc: 0.4820 - val_loss: 1.7307 - val_acc: 0.4759\n",
      "Epoch 54/200\n",
      "1164/1164 [==============================] - 0s 333us/sample - loss: 1.8006 - acc: 0.5077 - val_loss: 1.7005 - val_acc: 0.5187\n",
      "Epoch 55/200\n",
      "1164/1164 [==============================] - 0s 330us/sample - loss: 1.7826 - acc: 0.5086 - val_loss: 1.6867 - val_acc: 0.5508\n",
      "Epoch 56/200\n",
      "1164/1164 [==============================] - 0s 336us/sample - loss: 1.7609 - acc: 0.5189 - val_loss: 1.6709 - val_acc: 0.4973\n",
      "Epoch 57/200\n",
      "1164/1164 [==============================] - 0s 341us/sample - loss: 1.7417 - acc: 0.5215 - val_loss: 1.6566 - val_acc: 0.5134\n",
      "Epoch 58/200\n",
      "1164/1164 [==============================] - 0s 337us/sample - loss: 1.7231 - acc: 0.5043 - val_loss: 1.6270 - val_acc: 0.5241\n",
      "Epoch 59/200\n"
     ]
    },
    {
     "name": "stdout",
     "output_type": "stream",
     "text": [
      "1164/1164 [==============================] - 0s 314us/sample - loss: 1.7034 - acc: 0.5318 - val_loss: 1.6048 - val_acc: 0.5401\n",
      "Epoch 60/200\n",
      "1164/1164 [==============================] - 0s 330us/sample - loss: 1.6797 - acc: 0.5550 - val_loss: 1.5874 - val_acc: 0.5401\n",
      "Epoch 61/200\n",
      "1164/1164 [==============================] - 0s 345us/sample - loss: 1.6599 - acc: 0.5576 - val_loss: 1.5718 - val_acc: 0.5989\n",
      "Epoch 62/200\n",
      "1164/1164 [==============================] - 0s 355us/sample - loss: 1.6402 - acc: 0.5619 - val_loss: 1.5491 - val_acc: 0.5989\n",
      "Epoch 63/200\n",
      "1164/1164 [==============================] - 0s 336us/sample - loss: 1.6181 - acc: 0.5722 - val_loss: 1.5320 - val_acc: 0.5989\n",
      "Epoch 64/200\n",
      "1164/1164 [==============================] - 0s 333us/sample - loss: 1.6004 - acc: 0.5790 - val_loss: 1.5083 - val_acc: 0.6043\n",
      "Epoch 65/200\n",
      "1164/1164 [==============================] - 0s 351us/sample - loss: 1.5803 - acc: 0.5756 - val_loss: 1.4980 - val_acc: 0.5508\n",
      "Epoch 66/200\n",
      "1164/1164 [==============================] - 0s 333us/sample - loss: 1.5593 - acc: 0.6014 - val_loss: 1.4650 - val_acc: 0.6364\n",
      "Epoch 67/200\n",
      "1164/1164 [==============================] - 0s 339us/sample - loss: 1.5380 - acc: 0.6151 - val_loss: 1.4591 - val_acc: 0.6043\n",
      "Epoch 68/200\n",
      "1164/1164 [==============================] - 0s 324us/sample - loss: 1.5153 - acc: 0.6125 - val_loss: 1.4247 - val_acc: 0.6364\n",
      "Epoch 69/200\n",
      "1164/1164 [==============================] - 0s 326us/sample - loss: 1.5000 - acc: 0.6177 - val_loss: 1.4078 - val_acc: 0.6524\n",
      "Epoch 70/200\n",
      "1164/1164 [==============================] - 0s 338us/sample - loss: 1.4775 - acc: 0.6314 - val_loss: 1.3909 - val_acc: 0.6684\n",
      "Epoch 71/200\n",
      "1164/1164 [==============================] - 0s 321us/sample - loss: 1.4578 - acc: 0.6538 - val_loss: 1.3605 - val_acc: 0.6631\n",
      "Epoch 72/200\n",
      "1164/1164 [==============================] - 0s 326us/sample - loss: 1.4374 - acc: 0.6581 - val_loss: 1.3404 - val_acc: 0.6898\n",
      "Epoch 73/200\n",
      "1164/1164 [==============================] - 0s 347us/sample - loss: 1.4187 - acc: 0.6598 - val_loss: 1.3321 - val_acc: 0.6898\n",
      "Epoch 74/200\n",
      "1164/1164 [==============================] - 0s 321us/sample - loss: 1.3971 - acc: 0.6778 - val_loss: 1.3139 - val_acc: 0.6684\n",
      "Epoch 75/200\n",
      "1164/1164 [==============================] - 0s 337us/sample - loss: 1.3831 - acc: 0.6572 - val_loss: 1.2888 - val_acc: 0.7380\n",
      "Epoch 76/200\n",
      "1164/1164 [==============================] - 0s 325us/sample - loss: 1.3577 - acc: 0.6778 - val_loss: 1.2782 - val_acc: 0.7219\n",
      "Epoch 77/200\n",
      "1164/1164 [==============================] - 0s 348us/sample - loss: 1.3401 - acc: 0.6959 - val_loss: 1.2574 - val_acc: 0.7166\n",
      "Epoch 78/200\n",
      "1164/1164 [==============================] - 0s 338us/sample - loss: 1.3191 - acc: 0.6950 - val_loss: 1.2312 - val_acc: 0.7433\n",
      "Epoch 79/200\n",
      "1164/1164 [==============================] - 0s 328us/sample - loss: 1.3029 - acc: 0.7010 - val_loss: 1.2156 - val_acc: 0.7380\n",
      "Epoch 80/200\n",
      "1164/1164 [==============================] - 0s 340us/sample - loss: 1.2799 - acc: 0.7070 - val_loss: 1.1998 - val_acc: 0.7433\n",
      "Epoch 81/200\n",
      "1164/1164 [==============================] - 0s 328us/sample - loss: 1.2649 - acc: 0.7070 - val_loss: 1.1742 - val_acc: 0.7487\n",
      "Epoch 82/200\n",
      "1164/1164 [==============================] - 0s 340us/sample - loss: 1.2444 - acc: 0.7113 - val_loss: 1.1628 - val_acc: 0.7487\n",
      "Epoch 83/200\n",
      "1164/1164 [==============================] - 0s 343us/sample - loss: 1.2254 - acc: 0.7268 - val_loss: 1.1328 - val_acc: 0.7433\n",
      "Epoch 84/200\n",
      "1164/1164 [==============================] - 0s 338us/sample - loss: 1.2089 - acc: 0.7242 - val_loss: 1.1196 - val_acc: 0.7701\n",
      "Epoch 85/200\n",
      "1164/1164 [==============================] - 0s 323us/sample - loss: 1.1929 - acc: 0.7259 - val_loss: 1.1103 - val_acc: 0.7594\n",
      "Epoch 86/200\n",
      "1164/1164 [==============================] - 0s 340us/sample - loss: 1.1762 - acc: 0.7320 - val_loss: 1.0810 - val_acc: 0.7754\n",
      "Epoch 87/200\n",
      "1164/1164 [==============================] - 0s 334us/sample - loss: 1.1560 - acc: 0.7354 - val_loss: 1.0698 - val_acc: 0.7754\n",
      "Epoch 88/200\n",
      "1164/1164 [==============================] - 0s 343us/sample - loss: 1.1372 - acc: 0.7380 - val_loss: 1.0625 - val_acc: 0.7701\n",
      "Epoch 89/200\n",
      "1164/1164 [==============================] - 0s 331us/sample - loss: 1.1297 - acc: 0.7388 - val_loss: 1.0351 - val_acc: 0.7647\n",
      "Epoch 90/200\n",
      "1164/1164 [==============================] - 0s 330us/sample - loss: 1.1082 - acc: 0.7448 - val_loss: 1.0238 - val_acc: 0.7594\n",
      "Epoch 91/200\n",
      "1164/1164 [==============================] - 0s 325us/sample - loss: 1.0938 - acc: 0.7474 - val_loss: 1.0102 - val_acc: 0.7701\n",
      "Epoch 92/200\n",
      "1164/1164 [==============================] - 0s 339us/sample - loss: 1.0812 - acc: 0.7448 - val_loss: 0.9900 - val_acc: 0.7754\n",
      "Epoch 93/200\n",
      "1164/1164 [==============================] - 0s 323us/sample - loss: 1.0654 - acc: 0.7526 - val_loss: 0.9704 - val_acc: 0.7701\n",
      "Epoch 94/200\n",
      "1164/1164 [==============================] - 0s 333us/sample - loss: 1.0480 - acc: 0.7500 - val_loss: 0.9596 - val_acc: 0.7861\n",
      "Epoch 95/200\n",
      "1164/1164 [==============================] - 0s 375us/sample - loss: 1.0364 - acc: 0.7655 - val_loss: 0.9435 - val_acc: 0.7754\n",
      "Epoch 96/200\n",
      "1164/1164 [==============================] - 0s 374us/sample - loss: 1.0201 - acc: 0.7569 - val_loss: 0.9375 - val_acc: 0.7754\n",
      "Epoch 97/200\n",
      "1164/1164 [==============================] - 0s 393us/sample - loss: 1.0092 - acc: 0.7595 - val_loss: 0.9139 - val_acc: 0.7861\n",
      "Epoch 98/200\n",
      "1164/1164 [==============================] - 0s 355us/sample - loss: 0.9924 - acc: 0.7637 - val_loss: 0.9280 - val_acc: 0.7807\n",
      "Epoch 99/200\n",
      "1164/1164 [==============================] - 0s 353us/sample - loss: 0.9781 - acc: 0.7646 - val_loss: 0.8996 - val_acc: 0.7861\n",
      "Epoch 100/200\n",
      "1164/1164 [==============================] - 0s 336us/sample - loss: 0.9667 - acc: 0.7680 - val_loss: 0.8837 - val_acc: 0.7914\n",
      "Epoch 101/200\n",
      "1164/1164 [==============================] - 0s 350us/sample - loss: 0.9557 - acc: 0.7698 - val_loss: 0.8641 - val_acc: 0.7861\n",
      "Epoch 102/200\n",
      "1164/1164 [==============================] - 0s 333us/sample - loss: 0.9443 - acc: 0.7646 - val_loss: 0.8579 - val_acc: 0.7968\n",
      "Epoch 103/200\n",
      "1164/1164 [==============================] - 0s 332us/sample - loss: 0.9328 - acc: 0.7732 - val_loss: 0.8457 - val_acc: 0.7754\n",
      "Epoch 104/200\n",
      "1164/1164 [==============================] - 0s 336us/sample - loss: 0.9197 - acc: 0.7741 - val_loss: 0.8305 - val_acc: 0.8021\n",
      "Epoch 105/200\n",
      "1164/1164 [==============================] - 0s 339us/sample - loss: 0.9056 - acc: 0.7792 - val_loss: 0.8266 - val_acc: 0.7861\n",
      "Epoch 106/200\n",
      "1164/1164 [==============================] - 0s 332us/sample - loss: 0.8943 - acc: 0.7826 - val_loss: 0.8124 - val_acc: 0.8021\n",
      "Epoch 107/200\n",
      "1164/1164 [==============================] - 0s 334us/sample - loss: 0.8855 - acc: 0.7784 - val_loss: 0.7973 - val_acc: 0.8021\n",
      "Epoch 108/200\n",
      "1164/1164 [==============================] - 0s 335us/sample - loss: 0.8748 - acc: 0.7878 - val_loss: 0.7830 - val_acc: 0.8021\n",
      "Epoch 109/200\n",
      "1164/1164 [==============================] - 0s 336us/sample - loss: 0.8605 - acc: 0.7852 - val_loss: 0.7807 - val_acc: 0.8021\n",
      "Epoch 110/200\n",
      "1164/1164 [==============================] - 0s 327us/sample - loss: 0.8495 - acc: 0.7904 - val_loss: 0.7720 - val_acc: 0.8075\n",
      "Epoch 111/200\n",
      "1164/1164 [==============================] - 0s 341us/sample - loss: 0.8430 - acc: 0.7887 - val_loss: 0.7572 - val_acc: 0.8235\n",
      "Epoch 112/200\n",
      "1164/1164 [==============================] - 0s 329us/sample - loss: 0.8317 - acc: 0.7904 - val_loss: 0.7505 - val_acc: 0.8235\n",
      "Epoch 113/200\n",
      "1164/1164 [==============================] - 0s 319us/sample - loss: 0.8215 - acc: 0.8024 - val_loss: 0.7380 - val_acc: 0.8342\n",
      "Epoch 114/200\n",
      "1164/1164 [==============================] - 0s 338us/sample - loss: 0.8076 - acc: 0.7947 - val_loss: 0.7337 - val_acc: 0.8182\n",
      "Epoch 115/200\n",
      "1164/1164 [==============================] - 0s 325us/sample - loss: 0.8002 - acc: 0.8015 - val_loss: 0.7210 - val_acc: 0.8289\n",
      "Epoch 116/200\n",
      "1164/1164 [==============================] - 0s 337us/sample - loss: 0.7886 - acc: 0.8033 - val_loss: 0.7157 - val_acc: 0.8289\n",
      "Epoch 117/200\n"
     ]
    },
    {
     "name": "stdout",
     "output_type": "stream",
     "text": [
      "1164/1164 [==============================] - 0s 324us/sample - loss: 0.7798 - acc: 0.8024 - val_loss: 0.6968 - val_acc: 0.8342\n",
      "Epoch 118/200\n",
      "1164/1164 [==============================] - 0s 333us/sample - loss: 0.7683 - acc: 0.8084 - val_loss: 0.6872 - val_acc: 0.8396\n",
      "Epoch 119/200\n",
      "1164/1164 [==============================] - 0s 318us/sample - loss: 0.7590 - acc: 0.8084 - val_loss: 0.6809 - val_acc: 0.8396\n",
      "Epoch 120/200\n",
      "1164/1164 [==============================] - 0s 324us/sample - loss: 0.7520 - acc: 0.8127 - val_loss: 0.6737 - val_acc: 0.8396\n",
      "Epoch 121/200\n",
      "1164/1164 [==============================] - 0s 326us/sample - loss: 0.7423 - acc: 0.8093 - val_loss: 0.6770 - val_acc: 0.8342\n",
      "Epoch 122/200\n",
      "1164/1164 [==============================] - 0s 330us/sample - loss: 0.7317 - acc: 0.8144 - val_loss: 0.6616 - val_acc: 0.8342\n",
      "Epoch 123/200\n",
      "1164/1164 [==============================] - 0s 329us/sample - loss: 0.7212 - acc: 0.8162 - val_loss: 0.6604 - val_acc: 0.8396\n",
      "Epoch 124/200\n",
      "1164/1164 [==============================] - 0s 335us/sample - loss: 0.7139 - acc: 0.8179 - val_loss: 0.6476 - val_acc: 0.8449\n",
      "Epoch 125/200\n",
      "1164/1164 [==============================] - 0s 384us/sample - loss: 0.7050 - acc: 0.8204 - val_loss: 0.6309 - val_acc: 0.8503\n",
      "Epoch 126/200\n",
      "1164/1164 [==============================] - 0s 369us/sample - loss: 0.6978 - acc: 0.8247 - val_loss: 0.6290 - val_acc: 0.8396\n",
      "Epoch 127/200\n",
      "1164/1164 [==============================] - 0s 321us/sample - loss: 0.6877 - acc: 0.8256 - val_loss: 0.6121 - val_acc: 0.8449\n",
      "Epoch 128/200\n",
      "1164/1164 [==============================] - 0s 328us/sample - loss: 0.6782 - acc: 0.8222 - val_loss: 0.6101 - val_acc: 0.8449\n",
      "Epoch 129/200\n",
      "1164/1164 [==============================] - 0s 315us/sample - loss: 0.6684 - acc: 0.8290 - val_loss: 0.6070 - val_acc: 0.8449\n",
      "Epoch 130/200\n",
      "1164/1164 [==============================] - 0s 317us/sample - loss: 0.6608 - acc: 0.8333 - val_loss: 0.6038 - val_acc: 0.8449\n",
      "Epoch 131/200\n",
      "1164/1164 [==============================] - 0s 318us/sample - loss: 0.6521 - acc: 0.8308 - val_loss: 0.5856 - val_acc: 0.8556\n",
      "Epoch 132/200\n",
      "1164/1164 [==============================] - 0s 322us/sample - loss: 0.6430 - acc: 0.8342 - val_loss: 0.5746 - val_acc: 0.8556\n",
      "Epoch 133/200\n",
      "1164/1164 [==============================] - 0s 322us/sample - loss: 0.6386 - acc: 0.8351 - val_loss: 0.5721 - val_acc: 0.8449\n",
      "Epoch 134/200\n",
      "1164/1164 [==============================] - 0s 324us/sample - loss: 0.6259 - acc: 0.8333 - val_loss: 0.5578 - val_acc: 0.8610\n",
      "Epoch 135/200\n",
      "1164/1164 [==============================] - 0s 325us/sample - loss: 0.6215 - acc: 0.8402 - val_loss: 0.5523 - val_acc: 0.8610\n",
      "Epoch 136/200\n",
      "1164/1164 [==============================] - 0s 331us/sample - loss: 0.6113 - acc: 0.8454 - val_loss: 0.5508 - val_acc: 0.8556\n",
      "Epoch 137/200\n",
      "1164/1164 [==============================] - 0s 324us/sample - loss: 0.6035 - acc: 0.8419 - val_loss: 0.5391 - val_acc: 0.8610\n",
      "Epoch 138/200\n",
      "1164/1164 [==============================] - 0s 326us/sample - loss: 0.5962 - acc: 0.8428 - val_loss: 0.5328 - val_acc: 0.8663\n",
      "Epoch 139/200\n",
      "1164/1164 [==============================] - 0s 322us/sample - loss: 0.5889 - acc: 0.8497 - val_loss: 0.5384 - val_acc: 0.8610\n",
      "Epoch 140/200\n",
      "1164/1164 [==============================] - 0s 324us/sample - loss: 0.5824 - acc: 0.8488 - val_loss: 0.5212 - val_acc: 0.8610\n",
      "Epoch 141/200\n",
      "1164/1164 [==============================] - 0s 319us/sample - loss: 0.5737 - acc: 0.8557 - val_loss: 0.5105 - val_acc: 0.8610\n",
      "Epoch 142/200\n",
      "1164/1164 [==============================] - 0s 320us/sample - loss: 0.5679 - acc: 0.8514 - val_loss: 0.5087 - val_acc: 0.8610\n",
      "Epoch 143/200\n",
      "1164/1164 [==============================] - 0s 320us/sample - loss: 0.5622 - acc: 0.8582 - val_loss: 0.5007 - val_acc: 0.8610\n",
      "Epoch 144/200\n",
      "1164/1164 [==============================] - 0s 324us/sample - loss: 0.5541 - acc: 0.8548 - val_loss: 0.4952 - val_acc: 0.8610\n",
      "Epoch 145/200\n",
      "1164/1164 [==============================] - 0s 318us/sample - loss: 0.5469 - acc: 0.8634 - val_loss: 0.4891 - val_acc: 0.8717\n",
      "Epoch 146/200\n",
      "1164/1164 [==============================] - 0s 329us/sample - loss: 0.5408 - acc: 0.8625 - val_loss: 0.4842 - val_acc: 0.8663\n",
      "Epoch 147/200\n",
      "1164/1164 [==============================] - 0s 337us/sample - loss: 0.5334 - acc: 0.8625 - val_loss: 0.4747 - val_acc: 0.8663\n",
      "Epoch 148/200\n",
      "1164/1164 [==============================] - 0s 333us/sample - loss: 0.5260 - acc: 0.8694 - val_loss: 0.4698 - val_acc: 0.8824\n",
      "Epoch 149/200\n",
      "1164/1164 [==============================] - 0s 336us/sample - loss: 0.5164 - acc: 0.8729 - val_loss: 0.4720 - val_acc: 0.8717\n",
      "Epoch 150/200\n",
      "1164/1164 [==============================] - 0s 320us/sample - loss: 0.5102 - acc: 0.8771 - val_loss: 0.4597 - val_acc: 0.8717\n",
      "Epoch 151/200\n",
      "1164/1164 [==============================] - 0s 334us/sample - loss: 0.5043 - acc: 0.8780 - val_loss: 0.4591 - val_acc: 0.8717\n",
      "Epoch 152/200\n",
      "1164/1164 [==============================] - 0s 350us/sample - loss: 0.4981 - acc: 0.8789 - val_loss: 0.4491 - val_acc: 0.8770\n",
      "Epoch 153/200\n",
      "1164/1164 [==============================] - 0s 359us/sample - loss: 0.4917 - acc: 0.8797 - val_loss: 0.4397 - val_acc: 0.8824\n",
      "Epoch 154/200\n",
      "1164/1164 [==============================] - 0s 350us/sample - loss: 0.4860 - acc: 0.8866 - val_loss: 0.4326 - val_acc: 0.8770\n",
      "Epoch 155/200\n",
      "1164/1164 [==============================] - 0s 371us/sample - loss: 0.4787 - acc: 0.8840 - val_loss: 0.4316 - val_acc: 0.8877\n",
      "Epoch 156/200\n",
      "1164/1164 [==============================] - 0s 357us/sample - loss: 0.4738 - acc: 0.8849 - val_loss: 0.4216 - val_acc: 0.8824\n",
      "Epoch 157/200\n",
      "1164/1164 [==============================] - 0s 355us/sample - loss: 0.4672 - acc: 0.8892 - val_loss: 0.4297 - val_acc: 0.8824\n",
      "Epoch 158/200\n",
      "1164/1164 [==============================] - 0s 329us/sample - loss: 0.4627 - acc: 0.8892 - val_loss: 0.4133 - val_acc: 0.8877\n",
      "Epoch 159/200\n",
      "1164/1164 [==============================] - 0s 329us/sample - loss: 0.4554 - acc: 0.8918 - val_loss: 0.4087 - val_acc: 0.8877\n",
      "Epoch 160/200\n",
      "1164/1164 [==============================] - 0s 323us/sample - loss: 0.4487 - acc: 0.8909 - val_loss: 0.4053 - val_acc: 0.8930\n",
      "Epoch 161/200\n",
      "1164/1164 [==============================] - 0s 325us/sample - loss: 0.4450 - acc: 0.8935 - val_loss: 0.4071 - val_acc: 0.8930\n",
      "Epoch 162/200\n",
      "1164/1164 [==============================] - 0s 332us/sample - loss: 0.4414 - acc: 0.8918 - val_loss: 0.3991 - val_acc: 0.8877\n",
      "Epoch 163/200\n",
      "1164/1164 [==============================] - 0s 322us/sample - loss: 0.4329 - acc: 0.9021 - val_loss: 0.3919 - val_acc: 0.8877\n",
      "Epoch 164/200\n",
      "1164/1164 [==============================] - 0s 330us/sample - loss: 0.4283 - acc: 0.8986 - val_loss: 0.3900 - val_acc: 0.8930\n",
      "Epoch 165/200\n",
      "1164/1164 [==============================] - 0s 322us/sample - loss: 0.4215 - acc: 0.9038 - val_loss: 0.3790 - val_acc: 0.8877\n",
      "Epoch 166/200\n",
      "1164/1164 [==============================] - 0s 328us/sample - loss: 0.4180 - acc: 0.8986 - val_loss: 0.3778 - val_acc: 0.8984\n",
      "Epoch 167/200\n",
      "1164/1164 [==============================] - 0s 320us/sample - loss: 0.4123 - acc: 0.9064 - val_loss: 0.3785 - val_acc: 0.9037\n",
      "Epoch 168/200\n",
      "1164/1164 [==============================] - 0s 324us/sample - loss: 0.4071 - acc: 0.9072 - val_loss: 0.3651 - val_acc: 0.8984\n",
      "Epoch 169/200\n",
      "1164/1164 [==============================] - 0s 350us/sample - loss: 0.4022 - acc: 0.9038 - val_loss: 0.3651 - val_acc: 0.9091\n",
      "Epoch 170/200\n",
      "1164/1164 [==============================] - 0s 372us/sample - loss: 0.3996 - acc: 0.9055 - val_loss: 0.3588 - val_acc: 0.9144\n",
      "Epoch 171/200\n",
      "1164/1164 [==============================] - 0s 335us/sample - loss: 0.3933 - acc: 0.9072 - val_loss: 0.3550 - val_acc: 0.9144\n",
      "Epoch 172/200\n",
      "1164/1164 [==============================] - 0s 324us/sample - loss: 0.3882 - acc: 0.9175 - val_loss: 0.3594 - val_acc: 0.9037\n",
      "Epoch 173/200\n",
      "1164/1164 [==============================] - 0s 361us/sample - loss: 0.3841 - acc: 0.9141 - val_loss: 0.3539 - val_acc: 0.9091\n",
      "Epoch 174/200\n",
      "1164/1164 [==============================] - 0s 335us/sample - loss: 0.3783 - acc: 0.9089 - val_loss: 0.3471 - val_acc: 0.8984\n",
      "Epoch 175/200\n"
     ]
    },
    {
     "name": "stdout",
     "output_type": "stream",
     "text": [
      "1164/1164 [==============================] - 0s 352us/sample - loss: 0.3737 - acc: 0.9132 - val_loss: 0.3546 - val_acc: 0.8930\n",
      "Epoch 176/200\n",
      "1164/1164 [==============================] - 0s 343us/sample - loss: 0.3708 - acc: 0.9141 - val_loss: 0.3383 - val_acc: 0.9091\n",
      "Epoch 177/200\n",
      "1164/1164 [==============================] - 0s 325us/sample - loss: 0.3653 - acc: 0.9184 - val_loss: 0.3340 - val_acc: 0.9037\n",
      "Epoch 178/200\n",
      "1164/1164 [==============================] - 0s 321us/sample - loss: 0.3636 - acc: 0.9167 - val_loss: 0.3249 - val_acc: 0.9091\n",
      "Epoch 179/200\n",
      "1164/1164 [==============================] - 0s 325us/sample - loss: 0.3564 - acc: 0.9227 - val_loss: 0.3318 - val_acc: 0.9091\n",
      "Epoch 180/200\n",
      "1164/1164 [==============================] - 0s 345us/sample - loss: 0.3526 - acc: 0.9201 - val_loss: 0.3143 - val_acc: 0.9144\n",
      "Epoch 181/200\n",
      "1164/1164 [==============================] - 0s 338us/sample - loss: 0.3485 - acc: 0.9201 - val_loss: 0.3207 - val_acc: 0.8984\n",
      "Epoch 182/200\n",
      "1164/1164 [==============================] - 0s 333us/sample - loss: 0.3457 - acc: 0.9218 - val_loss: 0.3076 - val_acc: 0.9144\n",
      "Epoch 183/200\n",
      "1164/1164 [==============================] - 0s 323us/sample - loss: 0.3414 - acc: 0.9244 - val_loss: 0.3135 - val_acc: 0.9091\n",
      "Epoch 184/200\n",
      "1164/1164 [==============================] - 0s 331us/sample - loss: 0.3349 - acc: 0.9235 - val_loss: 0.3134 - val_acc: 0.9091\n",
      "Epoch 185/200\n",
      "1164/1164 [==============================] - 0s 326us/sample - loss: 0.3312 - acc: 0.9253 - val_loss: 0.3034 - val_acc: 0.9198\n",
      "Epoch 186/200\n",
      "1164/1164 [==============================] - 0s 343us/sample - loss: 0.3289 - acc: 0.9287 - val_loss: 0.3080 - val_acc: 0.9305\n",
      "Epoch 187/200\n",
      "1164/1164 [==============================] - 0s 334us/sample - loss: 0.3240 - acc: 0.9278 - val_loss: 0.2980 - val_acc: 0.9251\n",
      "Epoch 188/200\n",
      "1164/1164 [==============================] - 0s 349us/sample - loss: 0.3220 - acc: 0.9313 - val_loss: 0.2994 - val_acc: 0.9305\n",
      "Epoch 189/200\n",
      "1164/1164 [==============================] - 0s 332us/sample - loss: 0.3171 - acc: 0.9296 - val_loss: 0.2866 - val_acc: 0.9198\n",
      "Epoch 190/200\n",
      "1164/1164 [==============================] - 0s 332us/sample - loss: 0.3143 - acc: 0.9296 - val_loss: 0.2860 - val_acc: 0.9305\n",
      "Epoch 191/200\n",
      "1164/1164 [==============================] - 0s 326us/sample - loss: 0.3097 - acc: 0.9313 - val_loss: 0.2854 - val_acc: 0.9305\n",
      "Epoch 192/200\n",
      "1164/1164 [==============================] - 0s 332us/sample - loss: 0.3069 - acc: 0.9313 - val_loss: 0.2733 - val_acc: 0.9305\n",
      "Epoch 193/200\n",
      "1164/1164 [==============================] - 0s 332us/sample - loss: 0.3020 - acc: 0.9330 - val_loss: 0.2810 - val_acc: 0.9198\n",
      "Epoch 194/200\n",
      "1164/1164 [==============================] - 0s 333us/sample - loss: 0.2996 - acc: 0.9313 - val_loss: 0.2679 - val_acc: 0.9305\n",
      "Epoch 195/200\n",
      "1164/1164 [==============================] - 0s 328us/sample - loss: 0.2932 - acc: 0.9356 - val_loss: 0.2700 - val_acc: 0.9198\n",
      "Epoch 196/200\n",
      "1164/1164 [==============================] - 0s 337us/sample - loss: 0.2941 - acc: 0.9313 - val_loss: 0.2643 - val_acc: 0.9305\n",
      "Epoch 197/200\n",
      "1164/1164 [==============================] - 0s 361us/sample - loss: 0.2897 - acc: 0.9313 - val_loss: 0.2619 - val_acc: 0.9305\n",
      "Epoch 198/200\n",
      "1164/1164 [==============================] - 0s 349us/sample - loss: 0.2846 - acc: 0.9321 - val_loss: 0.2664 - val_acc: 0.9305\n",
      "Epoch 199/200\n",
      "1164/1164 [==============================] - 0s 347us/sample - loss: 0.2838 - acc: 0.9381 - val_loss: 0.2570 - val_acc: 0.9305\n",
      "Epoch 200/200\n",
      "1164/1164 [==============================] - 0s 350us/sample - loss: 0.2797 - acc: 0.9347 - val_loss: 0.2573 - val_acc: 0.9358\n"
     ]
    }
   ],
   "source": [
    "history = model.fit(X,y,epochs=200, batch_size=64, validation_data=(X_val, y_val))"
   ]
  },
  {
   "cell_type": "code",
   "execution_count": 37,
   "metadata": {},
   "outputs": [],
   "source": [
    "loss = history.history['loss']\n",
    "acc = history.history['acc']\n",
    "val_loss = history.history['val_loss']\n",
    "val_acc = history.history['val_acc']"
   ]
  },
  {
   "cell_type": "code",
   "execution_count": 44,
   "metadata": {},
   "outputs": [
    {
     "data": {
      "text/plain": [
       "<matplotlib.legend.Legend at 0x7fdb06adf128>"
      ]
     },
     "execution_count": 44,
     "metadata": {},
     "output_type": "execute_result"
    },
    {
     "data": {
      "image/png": "[encoded data removed]",
      "text/plain": [
       "<Figure size 720x720 with 1 Axes>"
      ]
     },
     "metadata": {},
     "output_type": "display_data"
    }
   ],
   "source": [
    "plt.figure(figsize=(10,10))\n",
    "plt.plot(acc,label=\"Accuracy\")\n",
    "plt.plot(val_acc,label=\"Validation Accuracy\")\n",
    "plt.legend()"
   ]
  },
  {
   "cell_type": "code",
   "execution_count": 45,
   "metadata": {},
   "outputs": [
    {
     "data": {
      "text/plain": [
       "<matplotlib.legend.Legend at 0x7fda9c39c9e8>"
      ]
     },
     "execution_count": 45,
     "metadata": {},
     "output_type": "execute_result"
    },
    {
     "data": {
      "image/png": "[encoded data removed]",
      "text/plain": [
       "<Figure size 720x720 with 1 Axes>"
      ]
     },
     "metadata": {},
     "output_type": "display_data"
    }
   ],
   "source": [
    "plt.figure(figsize=(10,10))\n",
    "plt.plot(loss,label=\"loss\")\n",
    "plt.plot(val_loss,label=\"validation loss\")\n",
    "plt.legend()"
   ]
  },
  {
   "cell_type": "markdown",
   "metadata": {},
   "source": [
    "# 总结"
   ]
  },
  {
   "cell_type": "markdown",
   "metadata": {},
   "source": [
    "结果还是很不错的，至少没有使用RNN的情况下，只做embedding就有这个准确率，还是很不错的。\n",
    "\n",
    "虽然现在只做了一个劳动法的条的检索，其实如果套上别的法律，按照同样的想法，效果应该很不错。"
   ]
  }
 ],
 "metadata": {
  "kernelspec": {
   "display_name": "Python 3",
   "language": "python",
   "name": "python3"
  },
  "language_info": {
   "codemirror_mode": {
    "name": "ipython",
    "version": 3
   },
   "file_extension": ".py",
   "mimetype": "text/x-python",
   "name": "python",
   "nbconvert_exporter": "python",
   "pygments_lexer": "ipython3",
   "version": "3.6.5"
  }
 },
 "nbformat": 4,
 "nbformat_minor": 2
}
