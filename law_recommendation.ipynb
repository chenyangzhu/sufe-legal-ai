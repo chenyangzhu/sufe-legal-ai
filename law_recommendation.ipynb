{
 "cells": [
  {
   "cell_type": "markdown",
   "metadata": {},
   "source": [
    "# Law 软件包的教程（一）——读取数据并推荐法律\n",
    "\n",
    "这篇教程教你如何从数据库中导出数据，并且利用字典把所有的文字转换为数字表达形式，从而可以直接使用tensorflow进行深度学习，或scikit learn学习\n",
    "\n",
    "你可以配合https://chenyangzhu.github.io/sufelaw2019/ 官方文档查看这个介绍"
   ]
  },
  {
   "cell_type": "code",
   "execution_count": 1,
   "metadata": {},
   "outputs": [],
   "source": [
    "import law\n",
    "import pandas as pd\n",
    "import numpy as np\n",
    "import mysql.connector\n",
    "import sklearn.model_selection\n",
    "import matplotlib.pyplot as plt\n",
    "\n",
    "%matplotlib inline"
   ]
  },
  {
   "cell_type": "markdown",
   "metadata": {},
   "source": [
    "首先，连接数据库，你的账户和密码分别为你的姓名拼音和law+拼音例如：\n",
    "```\n",
    "user = 'zhuchenyang'\n",
    "password = 'law-zhuchenyang'\n",
    "```"
   ]
  },
  {
   "cell_type": "code",
   "execution_count": 2,
   "metadata": {
    "scrolled": true
   },
   "outputs": [],
   "source": [
    "cnx_case = mysql.connector.connect(user=\"root\", password=\"sufelaw2019\",  # 注意修改\n",
    "                              host=\"cdb-74dx1ytr.gz.tencentcdb.com\",\n",
    "                              port = \"10008\",\n",
    "                              database=\"law\")"
   ]
  },
  {
   "cell_type": "markdown",
   "metadata": {},
   "source": [
    "在你连接了数据库之后，使用SQL 语言查询任何你想要的数据\n",
    "\n",
    "数据库的详细构造和可使用的数据类型，可以在[这里](https://chenyangzhu.github.io/sufelaw2019/#/database)查看"
   ]
  },
  {
   "cell_type": "code",
   "execution_count": 3,
   "metadata": {},
   "outputs": [],
   "source": [
    "data = pd.read_sql('SELECT * FROM Civil WHERE result LIKE \"%劳动法%\";',con=cnx_case)"
   ]
  },
  {
   "cell_type": "markdown",
   "metadata": {},
   "source": [
    "# 一、构建embedding model\n",
    "\n",
    "接下来我们处理NLP，我们直接使用Embedding这个主类来处理。注意：尽管我们**并没有真正做embedding**，但现在的函数就先叫这个名字，embedding可以直接用tensorflow来完成，我们这里做的是cutting，mapping和padding。"
   ]
  },
  {
   "cell_type": "code",
   "execution_count": 4,
   "metadata": {
    "scrolled": false
   },
   "outputs": [
    {
     "name": "stdout",
     "output_type": "stream",
     "text": [
      "Building Dictionary from  ./law/dict/dictionary.csv\n"
     ]
    },
    {
     "name": "stderr",
     "output_type": "stream",
     "text": [
      "Building prefix dict from the default dictionary ...\n",
      "Loading model from cache /tmp/jieba.cache\n",
      "Loading model cost 0.694 seconds.\n",
      "Prefix dict has been built succesfully.\n"
     ]
    }
   ],
   "source": [
    "mtd = law.embedding.Embedding(\"./law/dict/dictionary.csv\", \"./law/dict/jieba_dict.txt\")"
   ]
  },
  {
   "cell_type": "markdown",
   "metadata": {},
   "source": [
    "在这一个embed_pandas文件里，我们对每一条信息做一下处理：\n",
    "\n",
    "- 首先做entity recognition，即找到其中的被告姓名，原告姓名，并用特定符号代替，从而我们有consistent的人称指代。\n",
    "- 其次我们用jieba分词cut所有的字符串，得到一系列的string list\n",
    "- 然后我们把这些string list通过字典map到数字域中，从而得到int list\n",
    "- 最后，我们利用padding，把所有的字符int list全部拓展到指定的维度，默认为2000个字符。"
   ]
  },
  {
   "cell_type": "code",
   "execution_count": 5,
   "metadata": {
    "scrolled": true
   },
   "outputs": [
    {
     "name": "stdout",
     "output_type": "stream",
     "text": [
      "Doing 0 . Total 1184\n",
      "Doing 20 . Total 1184\n",
      "Doing 40 . Total 1184\n",
      "Doing 60 . Total 1184\n",
      "Doing 80 . Total 1184\n",
      "Doing 100 . Total 1184\n",
      "Doing 120 . Total 1184\n",
      "Doing 140 . Total 1184\n",
      "Doing 160 . Total 1184\n",
      "Doing 180 . Total 1184\n",
      "Doing 200 . Total 1184\n",
      "Doing 220 . Total 1184\n",
      "Doing 240 . Total 1184\n",
      "Doing 260 . Total 1184\n",
      "Doing 280 . Total 1184\n",
      "Doing 300 . Total 1184\n",
      "Doing 320 . Total 1184\n",
      "Doing 340 . Total 1184\n",
      "Doing 360 . Total 1184\n",
      "Doing 380 . Total 1184\n",
      "Doing 400 . Total 1184\n",
      "Doing 420 . Total 1184\n",
      "Doing 440 . Total 1184\n",
      "Doing 460 . Total 1184\n",
      "Doing 480 . Total 1184\n",
      "Doing 500 . Total 1184\n",
      "Doing 520 . Total 1184\n",
      "Doing 540 . Total 1184\n",
      "Doing 560 . Total 1184\n",
      "Doing 580 . Total 1184\n",
      "Doing 600 . Total 1184\n",
      "Doing 620 . Total 1184\n",
      "Doing 640 . Total 1184\n",
      "Doing 660 . Total 1184\n",
      "Doing 680 . Total 1184\n",
      "Doing 700 . Total 1184\n",
      "Doing 720 . Total 1184\n",
      "Doing 740 . Total 1184\n",
      "Doing 760 . Total 1184\n",
      "Doing 780 . Total 1184\n",
      "Doing 800 . Total 1184\n",
      "Doing 820 . Total 1184\n",
      "Doing 840 . Total 1184\n",
      "Doing 860 . Total 1184\n",
      "Doing 880 . Total 1184\n",
      "Doing 900 . Total 1184\n",
      "Doing 920 . Total 1184\n",
      "Doing 940 . Total 1184\n",
      "Doing 960 . Total 1184\n",
      "Doing 980 . Total 1184\n",
      "Doing 1000 . Total 1184\n",
      "Doing 1020 . Total 1184\n",
      "Doing 1040 . Total 1184\n",
      "Doing 1060 . Total 1184\n",
      "Doing 1080 . Total 1184\n",
      "Doing 1100 . Total 1184\n",
      "Doing 1120 . Total 1184\n",
      "Doing 1140 . Total 1184\n",
      "Doing 1160 . Total 1184\n",
      "Doing 1180 . Total 1184\n"
     ]
    }
   ],
   "source": [
    "num_list = mtd.embed_pandas(df=data,targets = \"process\")"
   ]
  },
  {
   "cell_type": "code",
   "execution_count": 7,
   "metadata": {},
   "outputs": [
    {
     "data": {
      "text/plain": [
       "(1184, 2000)"
      ]
     },
     "execution_count": 7,
     "metadata": {},
     "output_type": "execute_result"
    }
   ],
   "source": [
    "num_list.shape"
   ]
  },
  {
   "cell_type": "code",
   "execution_count": 8,
   "metadata": {},
   "outputs": [
    {
     "data": {
      "text/plain": [
       "array([[   6,   45,    6, ...,    0,    0,    0],\n",
       "       [1059,    2,   29, ...,    0,    0,    0],\n",
       "       [1059,   20,   11, ...,    0,    0,    0],\n",
       "       ...,\n",
       "       [1059,    2,  442, ...,    0,    0,    0],\n",
       "       [1059,    2,  442, ...,    0,    0,    0],\n",
       "       [1059,    2,  442, ...,    0,    0,    0]])"
      ]
     },
     "execution_count": 8,
     "metadata": {},
     "output_type": "execute_result"
    }
   ],
   "source": [
    "num_list[:10]"
   ]
  },
  {
   "cell_type": "markdown",
   "metadata": {},
   "source": [
    "`mapped_and_padded`矩阵就是我们已经cut、map和pad过的X矩阵了。接下来我们来处理标签y"
   ]
  },
  {
   "cell_type": "markdown",
   "metadata": {},
   "source": [
    "# 二、使用API 找到文本中出现的全部法律\n",
    "\n",
    "我们使用`law.utils.find_law_in_series`的函数来调取`result`中出现的所有法律和条款名称"
   ]
  },
  {
   "cell_type": "code",
   "execution_count": 9,
   "metadata": {},
   "outputs": [],
   "source": [
    "used_law = law.utils.find_law_in_series(data['result'])"
   ]
  },
  {
   "cell_type": "code",
   "execution_count": 10,
   "metadata": {},
   "outputs": [
    {
     "data": {
      "text/plain": [
       "[[['《中华人民共和国民事诉讼法》', ['第二百五十三条'], []],\n",
       "  ['《中华人民共和国劳动法》', ['第四十五条'], []],\n",
       "  ['《中华人民共和国劳动合同法》', ['第四十四条'], []]],\n",
       " [['《中华人民共和国民事诉讼法》', ['第一百一十九条', '第一百五十四条'], ['第一百五十四条第一款']],\n",
       "  ['《中华人民共和国劳动法》', ['第二条'], []],\n",
       "  ['《最高人民法院关于审理劳动争议案件适用法律若干问题的解释》', ['第一条'], []]],\n",
       " [['《中华人民共和国民事诉讼法》', ['第二百五十三条'], []], ['《中华人民共和国劳动法》', ['第三条'], []]],\n",
       " [['《中华人民共和国民事诉讼法》', ['第二百五十三条'], []], ['《中华人民共和国劳动法》', ['第三条'], []]],\n",
       " [['《中华人民共和国民事诉讼法》', ['第二百五十三条'], []], ['《中华人民共和国劳动法》', ['第三条'], []]],\n",
       " [['《中华人民共和国民事诉讼法》', ['第二百五十三条'], []], ['《中华人民共和国劳动法》', ['第三条'], []]],\n",
       " [['《中华人民共和国民事诉讼法》', ['第二百五十三条'], []], ['《中华人民共和国劳动法》', ['第三条'], []]],\n",
       " [['《中华人民共和国民事诉讼法》', ['第二百五十三条'], []],\n",
       "  ['《中华人民共和国劳动法》', ['第七十二条', '第七十三条'], []]],\n",
       " [['《中华人民共和国民事诉讼法》', ['第二百五十三条'], []], ['《中华人民共和国劳动法》', ['第五十条'], []]],\n",
       " [['《中华人民共和国民事诉讼法》', ['第二百五十三条'], []],\n",
       "  ['《中华人民共和国劳动法》', ['第四十四条'], []],\n",
       "  ['《中华人民共和国劳动争议调解仲裁法》', ['第六条'], []],\n",
       "  ['《职工带薪年休假条例》', ['第三条、第五条'], []]]]"
      ]
     },
     "execution_count": 10,
     "metadata": {},
     "output_type": "execute_result"
    }
   ],
   "source": [
    "used_law[:10]"
   ]
  },
  {
   "cell_type": "markdown",
   "metadata": {},
   "source": [
    "可以看到，这个结果是用数组存储的，为了方便之后的回归模型等，我们对每一个case，只选择一条法律（本例为劳动法）和出现的第一条来做后面的回归。"
   ]
  },
  {
   "cell_type": "code",
   "execution_count": 11,
   "metadata": {},
   "outputs": [],
   "source": [
    "law_list = []\n",
    "for each_case in used_law:\n",
    "    case_law = []\n",
    "    flag = 0\n",
    "    for each_law in each_case:\n",
    "        if \"劳动法\" in each_law[0]:\n",
    "            try:\n",
    "                # 注意这里只取了一个法律\n",
    "                only_one_tiao = each_law[1][0]\n",
    "            except:\n",
    "                only_one_tiao = ' '\n",
    "            case_law = [each_law[0],only_one_tiao]\n",
    "            flag = 1\n",
    "    if not flag:\n",
    "        case_law = [\" \"]\n",
    "    law_list.append(case_law)\n",
    "\n",
    "law_list = pd.DataFrame(law_list)\n",
    "law_list = law_list.rename(columns={0:\"law_used\",1:\"tiao_used\"})"
   ]
  },
  {
   "cell_type": "markdown",
   "metadata": {},
   "source": [
    "处理结束后，得到了如下的表，这里的index和我们原始的表中的index是一致的。"
   ]
  },
  {
   "cell_type": "code",
   "execution_count": 12,
   "metadata": {},
   "outputs": [
    {
     "data": {
      "text/html": [
       "<div>\n",
       "<style scoped>\n",
       "    .dataframe tbody tr th:only-of-type {\n",
       "        vertical-align: middle;\n",
       "    }\n",
       "\n",
       "    .dataframe tbody tr th {\n",
       "        vertical-align: top;\n",
       "    }\n",
       "\n",
       "    .dataframe thead th {\n",
       "        text-align: right;\n",
       "    }\n",
       "</style>\n",
       "<table border=\"1\" class=\"dataframe\">\n",
       "  <thead>\n",
       "    <tr style=\"text-align: right;\">\n",
       "      <th></th>\n",
       "      <th>law_used</th>\n",
       "      <th>tiao_used</th>\n",
       "    </tr>\n",
       "  </thead>\n",
       "  <tbody>\n",
       "    <tr>\n",
       "      <th>0</th>\n",
       "      <td>《中华人民共和国劳动法》</td>\n",
       "      <td>第四十五条</td>\n",
       "    </tr>\n",
       "    <tr>\n",
       "      <th>1</th>\n",
       "      <td>《中华人民共和国劳动法》</td>\n",
       "      <td>第二条</td>\n",
       "    </tr>\n",
       "    <tr>\n",
       "      <th>2</th>\n",
       "      <td>《中华人民共和国劳动法》</td>\n",
       "      <td>第三条</td>\n",
       "    </tr>\n",
       "    <tr>\n",
       "      <th>3</th>\n",
       "      <td>《中华人民共和国劳动法》</td>\n",
       "      <td>第三条</td>\n",
       "    </tr>\n",
       "    <tr>\n",
       "      <th>4</th>\n",
       "      <td>《中华人民共和国劳动法》</td>\n",
       "      <td>第三条</td>\n",
       "    </tr>\n",
       "  </tbody>\n",
       "</table>\n",
       "</div>"
      ],
      "text/plain": [
       "       law_used tiao_used\n",
       "0  《中华人民共和国劳动法》     第四十五条\n",
       "1  《中华人民共和国劳动法》       第二条\n",
       "2  《中华人民共和国劳动法》       第三条\n",
       "3  《中华人民共和国劳动法》       第三条\n",
       "4  《中华人民共和国劳动法》       第三条"
      ]
     },
     "execution_count": 12,
     "metadata": {},
     "output_type": "execute_result"
    }
   ],
   "source": [
    "law_list.head()"
   ]
  },
  {
   "cell_type": "code",
   "execution_count": 13,
   "metadata": {},
   "outputs": [
    {
     "data": {
      "text/plain": [
       "True"
      ]
     },
     "execution_count": 13,
     "metadata": {},
     "output_type": "execute_result"
    }
   ],
   "source": [
    "# 看看我们的y和x的维度是否一致\n",
    "law_list.shape[0] == num_list.shape[0]"
   ]
  },
  {
   "cell_type": "markdown",
   "metadata": {},
   "source": [
    "事实由于我只取了劳动法，所以我们其实只需要tiao即可了，但可以看到tiao其实还有没有请洗干净的，例如none和\" \"，我们不想要这些数据"
   ]
  },
  {
   "cell_type": "code",
   "execution_count": 14,
   "metadata": {},
   "outputs": [
    {
     "data": {
      "text/plain": [
       "[96,\n",
       " 128,\n",
       " 230,\n",
       " 232,\n",
       " 333,\n",
       " 351,\n",
       " 495,\n",
       " 496,\n",
       " 646,\n",
       " 808,\n",
       " 809,\n",
       " 952,\n",
       " 991,\n",
       " 1004,\n",
       " 1005,\n",
       " 1039,\n",
       " 1049,\n",
       " 1139]"
      ]
     },
     "execution_count": 14,
     "metadata": {},
     "output_type": "execute_result"
    }
   ],
   "source": [
    "# 需要排除的index包括\n",
    "drop_list = list(law_list[law_list['tiao_used'] == ' '].index)\n",
    "drop_list.extend(list(law_list[law_list['tiao_used'] == None].index))\n",
    "\n",
    "drop_list"
   ]
  },
  {
   "cell_type": "markdown",
   "metadata": {},
   "source": [
    "我们需要同时在X 和Y中drop这些点"
   ]
  },
  {
   "cell_type": "code",
   "execution_count": 16,
   "metadata": {},
   "outputs": [],
   "source": [
    "X = np.delete(num_list,drop_list,0)\n",
    "y = law_list.drop(index=drop_list,axis=0)['tiao_used']"
   ]
  },
  {
   "cell_type": "markdown",
   "metadata": {},
   "source": [
    "最后，我们把y变为数字向量，当然还有很多其他方法，这里只列举一种。\n",
    "\n",
    "+1 是因为factorize时候会生成一个 -1，所以我们要把他移到0的位置"
   ]
  },
  {
   "cell_type": "code",
   "execution_count": 17,
   "metadata": {},
   "outputs": [],
   "source": [
    "y = pd.factorize(y)[0] + 1"
   ]
  },
  {
   "cell_type": "code",
   "execution_count": 18,
   "metadata": {},
   "outputs": [
    {
     "data": {
      "text/plain": [
       "(array([594., 135., 163.,  27., 101.,  11., 102.,  14.,  11.,   8.]),\n",
       " array([ 0. ,  5.9, 11.8, 17.7, 23.6, 29.5, 35.4, 41.3, 47.2, 53.1, 59. ]),\n",
       " <a list of 10 Patch objects>)"
      ]
     },
     "execution_count": 18,
     "metadata": {},
     "output_type": "execute_result"
    },
    {
     "data": {
      "image/png": "[encoded data removed]",
      "text/plain": [
       "<Figure size 432x288 with 1 Axes>"
      ]
     },
     "metadata": {},
     "output_type": "display_data"
    }
   ],
   "source": [
    "plt.hist(y)"
   ]
  },
  {
   "cell_type": "markdown",
   "metadata": {},
   "source": [
    "至此，X 和y已经构建完毕，我们接着划分train val 和test"
   ]
  },
  {
   "cell_type": "code",
   "execution_count": 19,
   "metadata": {},
   "outputs": [],
   "source": [
    "X_train, X_test, y_train, y_test = sklearn.model_selection.train_test_split(X, y, test_size=0.2, random_state=1)\n",
    "X_train, X_val, y_train, y_val = sklearn.model_selection.train_test_split(X_train, y_train, test_size=0.2, random_state=2)"
   ]
  },
  {
   "cell_type": "markdown",
   "metadata": {},
   "source": [
    "# 三、模型\n",
    "\n",
    "由于我们的模型还是以deep learning为主，这里随意套一个多分类模型，作为教程示范。"
   ]
  },
  {
   "cell_type": "code",
   "execution_count": 20,
   "metadata": {},
   "outputs": [
    {
     "data": {
      "text/plain": [
       "'2.0.0-alpha0'"
      ]
     },
     "execution_count": 20,
     "metadata": {},
     "output_type": "execute_result"
    }
   ],
   "source": [
    "import tensorflow as tf\n",
    "\n",
    "tf.__version__"
   ]
  },
  {
   "cell_type": "code",
   "execution_count": 21,
   "metadata": {},
   "outputs": [
    {
     "name": "stdout",
     "output_type": "stream",
     "text": [
      "Model: \"sequential\"\n",
      "_________________________________________________________________\n",
      "Layer (type)                 Output Shape              Param #   \n",
      "=================================================================\n",
      "embedding (Embedding)        (None, None, 16)          78336     \n",
      "_________________________________________________________________\n",
      "global_average_pooling1d (Gl (None, 16)                0         \n",
      "_________________________________________________________________\n",
      "dense (Dense)                (None, 16)                272       \n",
      "_________________________________________________________________\n",
      "dense_1 (Dense)              (None, 61)                1037      \n",
      "=================================================================\n",
      "Total params: 79,645\n",
      "Trainable params: 79,645\n",
      "Non-trainable params: 0\n",
      "_________________________________________________________________\n"
     ]
    }
   ],
   "source": [
    "model = tf.keras.Sequential()\n",
    "\n",
    "model.add(tf.keras.layers.Embedding(4896, 16)) # 4896是字典的大小\n",
    "model.add(tf.keras.layers.GlobalAveragePooling1D())\n",
    "model.add(tf.keras.layers.Dense(16, activation='relu'))\n",
    "model.add(tf.keras.layers.Dense(61, activation='sigmoid'))\n",
    "\n",
    "model.summary()"
   ]
  },
  {
   "cell_type": "code",
   "execution_count": 22,
   "metadata": {},
   "outputs": [],
   "source": [
    "model.compile(optimizer='adam',\n",
    "              loss='sparse_categorical_crossentropy',\n",
    "              metrics=['acc'])"
   ]
  },
  {
   "cell_type": "code",
   "execution_count": 23,
   "metadata": {
    "scrolled": true
   },
   "outputs": [
    {
     "name": "stdout",
     "output_type": "stream",
     "text": [
      "Train on 1166 samples, validate on 187 samples\n",
      "Epoch 1/300\n",
      "1166/1166 [==============================] - 0s 392us/sample - loss: 4.1017 - acc: 0.0832 - val_loss: 4.0924 - val_acc: 0.1070\n",
      "Epoch 2/300\n",
      "1166/1166 [==============================] - 0s 227us/sample - loss: 4.0787 - acc: 0.1149 - val_loss: 4.0677 - val_acc: 0.1070\n",
      "Epoch 3/300\n",
      "1166/1166 [==============================] - 0s 231us/sample - loss: 4.0463 - acc: 0.1149 - val_loss: 4.0304 - val_acc: 0.1070\n",
      "Epoch 4/300\n",
      "1166/1166 [==============================] - 0s 220us/sample - loss: 3.9959 - acc: 0.1149 - val_loss: 3.9723 - val_acc: 0.1070\n",
      "Epoch 5/300\n",
      "1166/1166 [==============================] - 0s 219us/sample - loss: 3.9194 - acc: 0.1149 - val_loss: 3.8844 - val_acc: 0.1070\n",
      "Epoch 6/300\n",
      "1166/1166 [==============================] - 0s 221us/sample - loss: 3.8099 - acc: 0.1149 - val_loss: 3.7638 - val_acc: 0.1070\n",
      "Epoch 7/300\n",
      "1166/1166 [==============================] - 0s 219us/sample - loss: 3.6683 - acc: 0.1149 - val_loss: 3.6169 - val_acc: 0.1070\n",
      "Epoch 8/300\n",
      "1166/1166 [==============================] - 0s 222us/sample - loss: 3.5038 - acc: 0.1149 - val_loss: 3.4597 - val_acc: 0.1070\n",
      "Epoch 9/300\n",
      "1166/1166 [==============================] - 0s 218us/sample - loss: 3.3403 - acc: 0.1149 - val_loss: 3.3151 - val_acc: 0.1070\n",
      "Epoch 10/300\n",
      "1166/1166 [==============================] - 0s 216us/sample - loss: 3.2031 - acc: 0.1149 - val_loss: 3.2077 - val_acc: 0.1070\n",
      "Epoch 11/300\n",
      "1166/1166 [==============================] - 0s 214us/sample - loss: 3.1069 - acc: 0.1149 - val_loss: 3.1417 - val_acc: 0.1070\n",
      "Epoch 12/300\n",
      "1166/1166 [==============================] - 0s 231us/sample - loss: 3.0493 - acc: 0.1149 - val_loss: 3.1068 - val_acc: 0.1070\n",
      "Epoch 13/300\n",
      "1166/1166 [==============================] - 0s 222us/sample - loss: 3.0178 - acc: 0.1149 - val_loss: 3.0857 - val_acc: 0.1070\n",
      "Epoch 14/300\n",
      "1166/1166 [==============================] - 0s 212us/sample - loss: 2.9973 - acc: 0.1149 - val_loss: 3.0737 - val_acc: 0.1070\n",
      "Epoch 15/300\n",
      "1166/1166 [==============================] - 0s 215us/sample - loss: 2.9847 - acc: 0.1149 - val_loss: 3.0662 - val_acc: 0.1070\n",
      "Epoch 16/300\n",
      "1166/1166 [==============================] - 0s 213us/sample - loss: 2.9759 - acc: 0.1158 - val_loss: 3.0593 - val_acc: 0.1070\n",
      "Epoch 17/300\n",
      "1166/1166 [==============================] - 0s 247us/sample - loss: 2.9680 - acc: 0.1166 - val_loss: 3.0537 - val_acc: 0.1070\n",
      "Epoch 18/300\n",
      "1166/1166 [==============================] - 0s 217us/sample - loss: 2.9617 - acc: 0.1312 - val_loss: 3.0484 - val_acc: 0.1765\n",
      "Epoch 19/300\n",
      "1166/1166 [==============================] - 0s 217us/sample - loss: 2.9558 - acc: 0.1938 - val_loss: 3.0436 - val_acc: 0.1444\n",
      "Epoch 20/300\n",
      "1166/1166 [==============================] - 0s 215us/sample - loss: 2.9503 - acc: 0.1750 - val_loss: 3.0385 - val_acc: 0.1444\n",
      "Epoch 21/300\n",
      "1166/1166 [==============================] - 0s 224us/sample - loss: 2.9447 - acc: 0.1724 - val_loss: 3.0346 - val_acc: 0.1444\n",
      "Epoch 22/300\n",
      "1166/1166 [==============================] - 0s 214us/sample - loss: 2.9390 - acc: 0.1724 - val_loss: 3.0291 - val_acc: 0.1444\n",
      "Epoch 23/300\n",
      "1166/1166 [==============================] - 0s 217us/sample - loss: 2.9333 - acc: 0.1715 - val_loss: 3.0235 - val_acc: 0.1444\n",
      "Epoch 24/300\n",
      "1166/1166 [==============================] - 0s 224us/sample - loss: 2.9275 - acc: 0.1715 - val_loss: 3.0166 - val_acc: 0.1444\n",
      "Epoch 25/300\n",
      "1166/1166 [==============================] - 0s 219us/sample - loss: 2.9228 - acc: 0.1715 - val_loss: 3.0134 - val_acc: 0.1444\n",
      "Epoch 26/300\n",
      "1166/1166 [==============================] - 0s 217us/sample - loss: 2.9185 - acc: 0.1715 - val_loss: 3.0087 - val_acc: 0.1444\n",
      "Epoch 27/300\n",
      "1166/1166 [==============================] - 0s 227us/sample - loss: 2.9145 - acc: 0.1715 - val_loss: 3.0063 - val_acc: 0.1444\n",
      "Epoch 28/300\n",
      "1166/1166 [==============================] - 0s 245us/sample - loss: 2.9118 - acc: 0.1715 - val_loss: 3.0041 - val_acc: 0.1444\n",
      "Epoch 29/300\n",
      "1166/1166 [==============================] - 0s 242us/sample - loss: 2.9096 - acc: 0.1715 - val_loss: 3.0018 - val_acc: 0.1444\n",
      "Epoch 30/300\n",
      "1166/1166 [==============================] - 0s 236us/sample - loss: 2.9076 - acc: 0.1715 - val_loss: 3.0024 - val_acc: 0.1444\n",
      "Epoch 31/300\n",
      "1166/1166 [==============================] - 0s 223us/sample - loss: 2.9055 - acc: 0.1724 - val_loss: 3.0005 - val_acc: 0.1551\n",
      "Epoch 32/300\n",
      "1166/1166 [==============================] - 0s 224us/sample - loss: 2.9035 - acc: 0.1724 - val_loss: 2.9974 - val_acc: 0.1444\n",
      "Epoch 33/300\n",
      "1166/1166 [==============================] - 0s 224us/sample - loss: 2.9013 - acc: 0.1715 - val_loss: 2.9964 - val_acc: 0.1497\n",
      "Epoch 34/300\n",
      "1166/1166 [==============================] - 0s 219us/sample - loss: 2.8992 - acc: 0.1715 - val_loss: 2.9937 - val_acc: 0.1497\n",
      "Epoch 35/300\n",
      "1166/1166 [==============================] - 0s 220us/sample - loss: 2.8978 - acc: 0.1784 - val_loss: 2.9895 - val_acc: 0.1658\n",
      "Epoch 36/300\n",
      "1166/1166 [==============================] - 0s 228us/sample - loss: 2.8956 - acc: 0.1964 - val_loss: 2.9895 - val_acc: 0.1925\n",
      "Epoch 37/300\n",
      "1166/1166 [==============================] - 0s 218us/sample - loss: 2.8933 - acc: 0.1587 - val_loss: 2.9882 - val_acc: 0.1070\n",
      "Epoch 38/300\n",
      "1166/1166 [==============================] - 0s 226us/sample - loss: 2.8914 - acc: 0.1475 - val_loss: 2.9864 - val_acc: 0.1070\n",
      "Epoch 39/300\n",
      "1166/1166 [==============================] - 0s 233us/sample - loss: 2.8898 - acc: 0.1141 - val_loss: 2.9882 - val_acc: 0.1070\n",
      "Epoch 40/300\n",
      "1166/1166 [==============================] - 0s 216us/sample - loss: 2.8882 - acc: 0.1149 - val_loss: 2.9852 - val_acc: 0.1070\n",
      "Epoch 41/300\n",
      "1166/1166 [==============================] - 0s 222us/sample - loss: 2.8868 - acc: 0.1149 - val_loss: 2.9834 - val_acc: 0.1070\n",
      "Epoch 42/300\n",
      "1166/1166 [==============================] - 0s 215us/sample - loss: 2.8851 - acc: 0.1149 - val_loss: 2.9818 - val_acc: 0.1070\n",
      "Epoch 43/300\n",
      "1166/1166 [==============================] - 0s 214us/sample - loss: 2.8835 - acc: 0.1149 - val_loss: 2.9785 - val_acc: 0.1070\n",
      "Epoch 44/300\n",
      "1166/1166 [==============================] - 0s 215us/sample - loss: 2.8817 - acc: 0.1149 - val_loss: 2.9772 - val_acc: 0.1070\n",
      "Epoch 45/300\n",
      "1166/1166 [==============================] - 0s 228us/sample - loss: 2.8804 - acc: 0.1149 - val_loss: 2.9761 - val_acc: 0.1070\n",
      "Epoch 46/300\n",
      "1166/1166 [==============================] - 0s 222us/sample - loss: 2.8782 - acc: 0.1149 - val_loss: 2.9751 - val_acc: 0.1070\n",
      "Epoch 47/300\n",
      "1166/1166 [==============================] - 0s 220us/sample - loss: 2.8764 - acc: 0.1149 - val_loss: 2.9744 - val_acc: 0.1070\n",
      "Epoch 48/300\n",
      "1166/1166 [==============================] - 0s 219us/sample - loss: 2.8749 - acc: 0.1149 - val_loss: 2.9714 - val_acc: 0.1070\n",
      "Epoch 49/300\n",
      "1166/1166 [==============================] - 0s 224us/sample - loss: 2.8729 - acc: 0.1149 - val_loss: 2.9706 - val_acc: 0.1070\n",
      "Epoch 50/300\n",
      "1166/1166 [==============================] - 0s 221us/sample - loss: 2.8717 - acc: 0.1149 - val_loss: 2.9705 - val_acc: 0.1070\n",
      "Epoch 51/300\n",
      "1166/1166 [==============================] - 0s 217us/sample - loss: 2.8701 - acc: 0.1149 - val_loss: 2.9689 - val_acc: 0.1070\n",
      "Epoch 52/300\n",
      "1166/1166 [==============================] - 0s 236us/sample - loss: 2.8688 - acc: 0.1149 - val_loss: 2.9677 - val_acc: 0.1070\n",
      "Epoch 53/300\n",
      "1166/1166 [==============================] - 0s 252us/sample - loss: 2.8678 - acc: 0.1149 - val_loss: 2.9671 - val_acc: 0.1070\n",
      "Epoch 54/300\n",
      "1166/1166 [==============================] - 0s 248us/sample - loss: 2.8659 - acc: 0.1149 - val_loss: 2.9667 - val_acc: 0.1070\n",
      "Epoch 55/300\n",
      "1166/1166 [==============================] - 0s 229us/sample - loss: 2.8640 - acc: 0.1149 - val_loss: 2.9668 - val_acc: 0.1070\n",
      "Epoch 56/300\n",
      "1166/1166 [==============================] - 0s 220us/sample - loss: 2.8629 - acc: 0.1149 - val_loss: 2.9657 - val_acc: 0.1070\n",
      "Epoch 57/300\n",
      "1166/1166 [==============================] - 0s 218us/sample - loss: 2.8616 - acc: 0.1149 - val_loss: 2.9635 - val_acc: 0.1070\n",
      "Epoch 58/300\n",
      "1166/1166 [==============================] - 0s 219us/sample - loss: 2.8603 - acc: 0.1149 - val_loss: 2.9603 - val_acc: 0.1070\n",
      "Epoch 59/300\n"
     ]
    },
    {
     "name": "stdout",
     "output_type": "stream",
     "text": [
      "1166/1166 [==============================] - 0s 216us/sample - loss: 2.8588 - acc: 0.1149 - val_loss: 2.9626 - val_acc: 0.1070\n",
      "Epoch 60/300\n",
      "1166/1166 [==============================] - 0s 212us/sample - loss: 2.8572 - acc: 0.1149 - val_loss: 2.9605 - val_acc: 0.1070\n",
      "Epoch 61/300\n",
      "1166/1166 [==============================] - 0s 215us/sample - loss: 2.8560 - acc: 0.1149 - val_loss: 2.9580 - val_acc: 0.1070\n",
      "Epoch 62/300\n",
      "1166/1166 [==============================] - 0s 218us/sample - loss: 2.8547 - acc: 0.1149 - val_loss: 2.9557 - val_acc: 0.1070\n",
      "Epoch 63/300\n",
      "1166/1166 [==============================] - 0s 214us/sample - loss: 2.8532 - acc: 0.1149 - val_loss: 2.9536 - val_acc: 0.1070\n",
      "Epoch 64/300\n",
      "1166/1166 [==============================] - 0s 214us/sample - loss: 2.8507 - acc: 0.1149 - val_loss: 2.9497 - val_acc: 0.1070\n",
      "Epoch 65/300\n",
      "1166/1166 [==============================] - 0s 216us/sample - loss: 2.8485 - acc: 0.1149 - val_loss: 2.9466 - val_acc: 0.1070\n",
      "Epoch 66/300\n",
      "1166/1166 [==============================] - 0s 213us/sample - loss: 2.8459 - acc: 0.1149 - val_loss: 2.9439 - val_acc: 0.1070\n",
      "Epoch 67/300\n",
      "1166/1166 [==============================] - 0s 212us/sample - loss: 2.8436 - acc: 0.1149 - val_loss: 2.9409 - val_acc: 0.1070\n",
      "Epoch 68/300\n",
      "1166/1166 [==============================] - 0s 220us/sample - loss: 2.8407 - acc: 0.1149 - val_loss: 2.9380 - val_acc: 0.1070\n",
      "Epoch 69/300\n",
      "1166/1166 [==============================] - 0s 219us/sample - loss: 2.8376 - acc: 0.1149 - val_loss: 2.9342 - val_acc: 0.1070\n",
      "Epoch 70/300\n",
      "1166/1166 [==============================] - 0s 216us/sample - loss: 2.8344 - acc: 0.1149 - val_loss: 2.9285 - val_acc: 0.1070\n",
      "Epoch 71/300\n",
      "1166/1166 [==============================] - 0s 215us/sample - loss: 2.8305 - acc: 0.1149 - val_loss: 2.9237 - val_acc: 0.1070\n",
      "Epoch 72/300\n",
      "1166/1166 [==============================] - 0s 215us/sample - loss: 2.8264 - acc: 0.1149 - val_loss: 2.9181 - val_acc: 0.1070\n",
      "Epoch 73/300\n",
      "1166/1166 [==============================] - 0s 213us/sample - loss: 2.8220 - acc: 0.1149 - val_loss: 2.9133 - val_acc: 0.1070\n",
      "Epoch 74/300\n",
      "1166/1166 [==============================] - 0s 214us/sample - loss: 2.8180 - acc: 0.1149 - val_loss: 2.9074 - val_acc: 0.1070\n",
      "Epoch 75/300\n",
      "1166/1166 [==============================] - 0s 232us/sample - loss: 2.8133 - acc: 0.1149 - val_loss: 2.9019 - val_acc: 0.1070\n",
      "Epoch 76/300\n",
      "1166/1166 [==============================] - 0s 238us/sample - loss: 2.8082 - acc: 0.1149 - val_loss: 2.8972 - val_acc: 0.1070\n",
      "Epoch 77/300\n",
      "1166/1166 [==============================] - 0s 233us/sample - loss: 2.8027 - acc: 0.1149 - val_loss: 2.8908 - val_acc: 0.1070\n",
      "Epoch 78/300\n",
      "1166/1166 [==============================] - 0s 222us/sample - loss: 2.7981 - acc: 0.1149 - val_loss: 2.8816 - val_acc: 0.1070\n",
      "Epoch 79/300\n",
      "1166/1166 [==============================] - 0s 221us/sample - loss: 2.7916 - acc: 0.1149 - val_loss: 2.8745 - val_acc: 0.1070\n",
      "Epoch 80/300\n",
      "1166/1166 [==============================] - 0s 223us/sample - loss: 2.7836 - acc: 0.1149 - val_loss: 2.8657 - val_acc: 0.1070\n",
      "Epoch 81/300\n",
      "1166/1166 [==============================] - 0s 223us/sample - loss: 2.7770 - acc: 0.1149 - val_loss: 2.8535 - val_acc: 0.1070\n",
      "Epoch 82/300\n",
      "1166/1166 [==============================] - 0s 231us/sample - loss: 2.7683 - acc: 0.1158 - val_loss: 2.8398 - val_acc: 0.1070\n",
      "Epoch 83/300\n",
      "1166/1166 [==============================] - 0s 225us/sample - loss: 2.7607 - acc: 0.1149 - val_loss: 2.8270 - val_acc: 0.1070\n",
      "Epoch 84/300\n",
      "1166/1166 [==============================] - 0s 231us/sample - loss: 2.7518 - acc: 0.1158 - val_loss: 2.8122 - val_acc: 0.1176\n",
      "Epoch 85/300\n",
      "1166/1166 [==============================] - 0s 226us/sample - loss: 2.7445 - acc: 0.1201 - val_loss: 2.8028 - val_acc: 0.1230\n",
      "Epoch 86/300\n",
      "1166/1166 [==============================] - 0s 222us/sample - loss: 2.7365 - acc: 0.1209 - val_loss: 2.7937 - val_acc: 0.1230\n",
      "Epoch 87/300\n",
      "1166/1166 [==============================] - 0s 223us/sample - loss: 2.7288 - acc: 0.1218 - val_loss: 2.7797 - val_acc: 0.1230\n",
      "Epoch 88/300\n",
      "1166/1166 [==============================] - 0s 226us/sample - loss: 2.7205 - acc: 0.1226 - val_loss: 2.7720 - val_acc: 0.1230\n",
      "Epoch 89/300\n",
      "1166/1166 [==============================] - 0s 227us/sample - loss: 2.7124 - acc: 0.1235 - val_loss: 2.7577 - val_acc: 0.1390\n",
      "Epoch 90/300\n",
      "1166/1166 [==============================] - 0s 245us/sample - loss: 2.7037 - acc: 0.1913 - val_loss: 2.7484 - val_acc: 0.2246\n",
      "Epoch 91/300\n",
      "1166/1166 [==============================] - 0s 233us/sample - loss: 2.6961 - acc: 0.2101 - val_loss: 2.7360 - val_acc: 0.2032\n",
      "Epoch 92/300\n",
      "1166/1166 [==============================] - 0s 234us/sample - loss: 2.6876 - acc: 0.1938 - val_loss: 2.7253 - val_acc: 0.1979\n",
      "Epoch 93/300\n",
      "1166/1166 [==============================] - 0s 234us/sample - loss: 2.6790 - acc: 0.1938 - val_loss: 2.7143 - val_acc: 0.1979\n",
      "Epoch 94/300\n",
      "1166/1166 [==============================] - 0s 227us/sample - loss: 2.6707 - acc: 0.1955 - val_loss: 2.7059 - val_acc: 0.2032\n",
      "Epoch 95/300\n",
      "1166/1166 [==============================] - 0s 224us/sample - loss: 2.6625 - acc: 0.1964 - val_loss: 2.6931 - val_acc: 0.1979\n",
      "Epoch 96/300\n",
      "1166/1166 [==============================] - 0s 225us/sample - loss: 2.6541 - acc: 0.1913 - val_loss: 2.6827 - val_acc: 0.1818\n",
      "Epoch 97/300\n",
      "1166/1166 [==============================] - 0s 218us/sample - loss: 2.6453 - acc: 0.1852 - val_loss: 2.6709 - val_acc: 0.1872\n",
      "Epoch 98/300\n",
      "1166/1166 [==============================] - 0s 235us/sample - loss: 2.6365 - acc: 0.1870 - val_loss: 2.6630 - val_acc: 0.1979\n",
      "Epoch 99/300\n",
      "1166/1166 [==============================] - 0s 227us/sample - loss: 2.6274 - acc: 0.1895 - val_loss: 2.6507 - val_acc: 0.1979\n",
      "Epoch 100/300\n",
      "1166/1166 [==============================] - 0s 232us/sample - loss: 2.6177 - acc: 0.1895 - val_loss: 2.6396 - val_acc: 0.2032\n",
      "Epoch 101/300\n",
      "1166/1166 [==============================] - 0s 226us/sample - loss: 2.6089 - acc: 0.1921 - val_loss: 2.6271 - val_acc: 0.2086\n",
      "Epoch 102/300\n",
      "1166/1166 [==============================] - 0s 225us/sample - loss: 2.5982 - acc: 0.1938 - val_loss: 2.6147 - val_acc: 0.2032\n",
      "Epoch 103/300\n",
      "1166/1166 [==============================] - 0s 218us/sample - loss: 2.5877 - acc: 0.1921 - val_loss: 2.6020 - val_acc: 0.2032\n",
      "Epoch 104/300\n",
      "1166/1166 [==============================] - 0s 216us/sample - loss: 2.5779 - acc: 0.1921 - val_loss: 2.5869 - val_acc: 0.2032\n",
      "Epoch 105/300\n",
      "1166/1166 [==============================] - 0s 221us/sample - loss: 2.5682 - acc: 0.1947 - val_loss: 2.5766 - val_acc: 0.2032\n",
      "Epoch 106/300\n",
      "1166/1166 [==============================] - 0s 219us/sample - loss: 2.5574 - acc: 0.1947 - val_loss: 2.5647 - val_acc: 0.2032\n",
      "Epoch 107/300\n",
      "1166/1166 [==============================] - 0s 220us/sample - loss: 2.5480 - acc: 0.1947 - val_loss: 2.5529 - val_acc: 0.2139\n",
      "Epoch 108/300\n",
      "1166/1166 [==============================] - 0s 220us/sample - loss: 2.5375 - acc: 0.1964 - val_loss: 2.5393 - val_acc: 0.2139\n",
      "Epoch 109/300\n",
      "1166/1166 [==============================] - 0s 216us/sample - loss: 2.5263 - acc: 0.2015 - val_loss: 2.5267 - val_acc: 0.2139\n",
      "Epoch 110/300\n",
      "1166/1166 [==============================] - 0s 224us/sample - loss: 2.5146 - acc: 0.1998 - val_loss: 2.5120 - val_acc: 0.2139\n",
      "Epoch 111/300\n",
      "1166/1166 [==============================] - 0s 228us/sample - loss: 2.5046 - acc: 0.2015 - val_loss: 2.4971 - val_acc: 0.2299\n",
      "Epoch 112/300\n",
      "1166/1166 [==============================] - 0s 240us/sample - loss: 2.4940 - acc: 0.2058 - val_loss: 2.4912 - val_acc: 0.2299\n",
      "Epoch 113/300\n",
      "1166/1166 [==============================] - 0s 228us/sample - loss: 2.4840 - acc: 0.2075 - val_loss: 2.4798 - val_acc: 0.2353\n",
      "Epoch 114/300\n",
      "1166/1166 [==============================] - 0s 231us/sample - loss: 2.4740 - acc: 0.2067 - val_loss: 2.4711 - val_acc: 0.2299\n",
      "Epoch 115/300\n",
      "1166/1166 [==============================] - 0s 222us/sample - loss: 2.4638 - acc: 0.2093 - val_loss: 2.4617 - val_acc: 0.2353\n",
      "Epoch 116/300\n",
      "1166/1166 [==============================] - 0s 223us/sample - loss: 2.4527 - acc: 0.2084 - val_loss: 2.4496 - val_acc: 0.2353\n",
      "Epoch 117/300\n"
     ]
    },
    {
     "name": "stdout",
     "output_type": "stream",
     "text": [
      "1166/1166 [==============================] - 0s 215us/sample - loss: 2.4437 - acc: 0.2093 - val_loss: 2.4352 - val_acc: 0.2406\n",
      "Epoch 118/300\n",
      "1166/1166 [==============================] - 0s 215us/sample - loss: 2.4346 - acc: 0.2093 - val_loss: 2.4267 - val_acc: 0.2353\n",
      "Epoch 119/300\n",
      "1166/1166 [==============================] - 0s 219us/sample - loss: 2.4237 - acc: 0.2110 - val_loss: 2.4167 - val_acc: 0.2353\n",
      "Epoch 120/300\n",
      "1166/1166 [==============================] - 0s 214us/sample - loss: 2.4139 - acc: 0.2161 - val_loss: 2.4049 - val_acc: 0.2406\n",
      "Epoch 121/300\n",
      "1166/1166 [==============================] - 0s 213us/sample - loss: 2.4050 - acc: 0.2161 - val_loss: 2.3928 - val_acc: 0.2406\n",
      "Epoch 122/300\n",
      "1166/1166 [==============================] - 0s 217us/sample - loss: 2.3957 - acc: 0.2153 - val_loss: 2.3855 - val_acc: 0.2406\n",
      "Epoch 123/300\n",
      "1166/1166 [==============================] - 0s 224us/sample - loss: 2.3858 - acc: 0.2170 - val_loss: 2.3798 - val_acc: 0.2353\n",
      "Epoch 124/300\n",
      "1166/1166 [==============================] - 0s 216us/sample - loss: 2.3744 - acc: 0.2196 - val_loss: 2.3662 - val_acc: 0.2620\n",
      "Epoch 125/300\n",
      "1166/1166 [==============================] - 0s 215us/sample - loss: 2.3641 - acc: 0.2298 - val_loss: 2.3534 - val_acc: 0.2620\n",
      "Epoch 126/300\n",
      "1166/1166 [==============================] - 0s 214us/sample - loss: 2.3527 - acc: 0.2324 - val_loss: 2.3421 - val_acc: 0.2567\n",
      "Epoch 127/300\n",
      "1166/1166 [==============================] - 0s 215us/sample - loss: 2.3408 - acc: 0.2436 - val_loss: 2.3325 - val_acc: 0.2513\n",
      "Epoch 128/300\n",
      "1166/1166 [==============================] - 0s 219us/sample - loss: 2.3303 - acc: 0.2470 - val_loss: 2.3191 - val_acc: 0.2620\n",
      "Epoch 129/300\n",
      "1166/1166 [==============================] - 0s 218us/sample - loss: 2.3180 - acc: 0.2487 - val_loss: 2.3099 - val_acc: 0.2620\n",
      "Epoch 130/300\n",
      "1166/1166 [==============================] - 0s 216us/sample - loss: 2.3080 - acc: 0.2496 - val_loss: 2.3000 - val_acc: 0.2620\n",
      "Epoch 131/300\n",
      "1166/1166 [==============================] - 0s 218us/sample - loss: 2.2972 - acc: 0.2564 - val_loss: 2.2875 - val_acc: 0.2620\n",
      "Epoch 132/300\n",
      "1166/1166 [==============================] - 0s 215us/sample - loss: 2.2844 - acc: 0.2547 - val_loss: 2.2742 - val_acc: 0.2727\n",
      "Epoch 133/300\n",
      "1166/1166 [==============================] - 0s 216us/sample - loss: 2.2758 - acc: 0.2599 - val_loss: 2.2640 - val_acc: 0.2727\n",
      "Epoch 134/300\n",
      "1166/1166 [==============================] - 0s 214us/sample - loss: 2.2640 - acc: 0.2581 - val_loss: 2.2515 - val_acc: 0.2888\n",
      "Epoch 135/300\n",
      "1166/1166 [==============================] - 0s 218us/sample - loss: 2.2501 - acc: 0.2693 - val_loss: 2.2432 - val_acc: 0.2888\n",
      "Epoch 136/300\n",
      "1166/1166 [==============================] - 0s 224us/sample - loss: 2.2380 - acc: 0.2702 - val_loss: 2.2293 - val_acc: 0.2995\n",
      "Epoch 137/300\n",
      "1166/1166 [==============================] - 0s 214us/sample - loss: 2.2309 - acc: 0.2710 - val_loss: 2.2279 - val_acc: 0.2834\n",
      "Epoch 138/300\n",
      "1166/1166 [==============================] - 0s 216us/sample - loss: 2.2175 - acc: 0.2839 - val_loss: 2.2099 - val_acc: 0.3048\n",
      "Epoch 139/300\n",
      "1166/1166 [==============================] - 0s 212us/sample - loss: 2.2074 - acc: 0.2847 - val_loss: 2.2007 - val_acc: 0.3155\n",
      "Epoch 140/300\n",
      "1166/1166 [==============================] - 0s 215us/sample - loss: 2.1962 - acc: 0.2839 - val_loss: 2.1891 - val_acc: 0.3102\n",
      "Epoch 141/300\n",
      "1166/1166 [==============================] - 0s 217us/sample - loss: 2.1820 - acc: 0.2890 - val_loss: 2.1762 - val_acc: 0.3155\n",
      "Epoch 142/300\n",
      "1166/1166 [==============================] - 0s 225us/sample - loss: 2.1694 - acc: 0.2916 - val_loss: 2.1624 - val_acc: 0.3209\n",
      "Epoch 143/300\n",
      "1166/1166 [==============================] - 0s 217us/sample - loss: 2.1592 - acc: 0.2890 - val_loss: 2.1538 - val_acc: 0.3209\n",
      "Epoch 144/300\n",
      "1166/1166 [==============================] - 0s 218us/sample - loss: 2.1456 - acc: 0.2942 - val_loss: 2.1381 - val_acc: 0.3209\n",
      "Epoch 145/300\n",
      "1166/1166 [==============================] - 0s 215us/sample - loss: 2.1342 - acc: 0.2985 - val_loss: 2.1336 - val_acc: 0.3316\n",
      "Epoch 146/300\n",
      "1166/1166 [==============================] - 0s 220us/sample - loss: 2.1220 - acc: 0.3019 - val_loss: 2.1226 - val_acc: 0.3316\n",
      "Epoch 147/300\n",
      "1166/1166 [==============================] - 0s 221us/sample - loss: 2.1095 - acc: 0.3019 - val_loss: 2.1098 - val_acc: 0.3262\n",
      "Epoch 148/300\n",
      "1166/1166 [==============================] - 0s 219us/sample - loss: 2.0969 - acc: 0.3062 - val_loss: 2.0928 - val_acc: 0.3316\n",
      "Epoch 149/300\n",
      "1166/1166 [==============================] - 0s 223us/sample - loss: 2.0837 - acc: 0.3045 - val_loss: 2.0881 - val_acc: 0.3316\n",
      "Epoch 150/300\n",
      "1166/1166 [==============================] - 0s 215us/sample - loss: 2.0686 - acc: 0.3096 - val_loss: 2.0723 - val_acc: 0.3369\n",
      "Epoch 151/300\n",
      "1166/1166 [==============================] - 0s 223us/sample - loss: 2.0582 - acc: 0.3079 - val_loss: 2.0627 - val_acc: 0.3476\n",
      "Epoch 152/300\n",
      "1166/1166 [==============================] - 0s 222us/sample - loss: 2.0438 - acc: 0.3190 - val_loss: 2.0485 - val_acc: 0.3476\n",
      "Epoch 153/300\n",
      "1166/1166 [==============================] - 0s 219us/sample - loss: 2.0304 - acc: 0.3208 - val_loss: 2.0339 - val_acc: 0.3583\n",
      "Epoch 154/300\n",
      "1166/1166 [==============================] - 0s 222us/sample - loss: 2.0149 - acc: 0.3268 - val_loss: 2.0260 - val_acc: 0.3529\n",
      "Epoch 155/300\n",
      "1166/1166 [==============================] - 0s 222us/sample - loss: 2.0014 - acc: 0.3302 - val_loss: 2.0150 - val_acc: 0.3529\n",
      "Epoch 156/300\n",
      "1166/1166 [==============================] - 0s 220us/sample - loss: 1.9903 - acc: 0.3456 - val_loss: 2.0014 - val_acc: 0.3743\n",
      "Epoch 157/300\n",
      "1166/1166 [==============================] - 0s 216us/sample - loss: 1.9721 - acc: 0.3516 - val_loss: 1.9860 - val_acc: 0.3904\n",
      "Epoch 158/300\n",
      "1166/1166 [==============================] - 0s 225us/sample - loss: 1.9586 - acc: 0.3739 - val_loss: 1.9747 - val_acc: 0.3957\n",
      "Epoch 159/300\n",
      "1166/1166 [==============================] - 0s 228us/sample - loss: 1.9433 - acc: 0.4057 - val_loss: 1.9653 - val_acc: 0.3904\n",
      "Epoch 160/300\n",
      "1166/1166 [==============================] - 0s 222us/sample - loss: 1.9315 - acc: 0.3851 - val_loss: 1.9487 - val_acc: 0.3957\n",
      "Epoch 161/300\n",
      "1166/1166 [==============================] - 0s 222us/sample - loss: 1.9137 - acc: 0.4014 - val_loss: 1.9353 - val_acc: 0.4171\n",
      "Epoch 162/300\n",
      "1166/1166 [==============================] - 0s 215us/sample - loss: 1.8985 - acc: 0.4031 - val_loss: 1.9250 - val_acc: 0.4118\n",
      "Epoch 163/300\n",
      "1166/1166 [==============================] - 0s 222us/sample - loss: 1.8828 - acc: 0.4117 - val_loss: 1.9090 - val_acc: 0.4278\n",
      "Epoch 164/300\n",
      "1166/1166 [==============================] - 0s 229us/sample - loss: 1.8698 - acc: 0.4400 - val_loss: 1.8985 - val_acc: 0.4439\n",
      "Epoch 165/300\n",
      "1166/1166 [==============================] - 0s 218us/sample - loss: 1.8585 - acc: 0.4202 - val_loss: 1.8914 - val_acc: 0.4332\n",
      "Epoch 166/300\n",
      "1166/1166 [==============================] - 0s 224us/sample - loss: 1.8450 - acc: 0.5111 - val_loss: 1.8759 - val_acc: 0.5080\n",
      "Epoch 167/300\n",
      "1166/1166 [==============================] - 0s 216us/sample - loss: 1.8292 - acc: 0.5249 - val_loss: 1.8635 - val_acc: 0.5080\n",
      "Epoch 168/300\n",
      "1166/1166 [==============================] - 0s 218us/sample - loss: 1.8146 - acc: 0.4931 - val_loss: 1.8558 - val_acc: 0.4920\n",
      "Epoch 169/300\n",
      "1166/1166 [==============================] - 0s 227us/sample - loss: 1.8028 - acc: 0.5369 - val_loss: 1.8407 - val_acc: 0.5241\n",
      "Epoch 170/300\n",
      "1166/1166 [==============================] - 0s 233us/sample - loss: 1.7873 - acc: 0.5360 - val_loss: 1.8282 - val_acc: 0.5187\n",
      "Epoch 171/300\n",
      "1166/1166 [==============================] - 0s 219us/sample - loss: 1.7736 - acc: 0.5395 - val_loss: 1.8213 - val_acc: 0.5348\n",
      "Epoch 172/300\n",
      "1166/1166 [==============================] - 0s 214us/sample - loss: 1.7605 - acc: 0.5446 - val_loss: 1.8087 - val_acc: 0.5187\n",
      "Epoch 173/300\n",
      "1166/1166 [==============================] - 0s 215us/sample - loss: 1.7484 - acc: 0.5455 - val_loss: 1.7974 - val_acc: 0.5294\n",
      "Epoch 174/300\n",
      "1166/1166 [==============================] - 0s 222us/sample - loss: 1.7347 - acc: 0.5369 - val_loss: 1.7966 - val_acc: 0.5187\n",
      "Epoch 175/300\n"
     ]
    },
    {
     "name": "stdout",
     "output_type": "stream",
     "text": [
      "1166/1166 [==============================] - 0s 227us/sample - loss: 1.7193 - acc: 0.5386 - val_loss: 1.7717 - val_acc: 0.5241\n",
      "Epoch 176/300\n",
      "1166/1166 [==============================] - 0s 215us/sample - loss: 1.7053 - acc: 0.5523 - val_loss: 1.7635 - val_acc: 0.5348\n",
      "Epoch 177/300\n",
      "1166/1166 [==============================] - 0s 217us/sample - loss: 1.6913 - acc: 0.5472 - val_loss: 1.7439 - val_acc: 0.5294\n",
      "Epoch 178/300\n",
      "1166/1166 [==============================] - 0s 221us/sample - loss: 1.6781 - acc: 0.5369 - val_loss: 1.7359 - val_acc: 0.5187\n",
      "Epoch 179/300\n",
      "1166/1166 [==============================] - 0s 220us/sample - loss: 1.6647 - acc: 0.5463 - val_loss: 1.7249 - val_acc: 0.5294\n",
      "Epoch 180/300\n",
      "1166/1166 [==============================] - 0s 217us/sample - loss: 1.6544 - acc: 0.5506 - val_loss: 1.7152 - val_acc: 0.5294\n",
      "Epoch 181/300\n",
      "1166/1166 [==============================] - 0s 219us/sample - loss: 1.6413 - acc: 0.5506 - val_loss: 1.7025 - val_acc: 0.5294\n",
      "Epoch 182/300\n",
      "1166/1166 [==============================] - 0s 218us/sample - loss: 1.6286 - acc: 0.5540 - val_loss: 1.6933 - val_acc: 0.5455\n",
      "Epoch 183/300\n",
      "1166/1166 [==============================] - 0s 215us/sample - loss: 1.6242 - acc: 0.5480 - val_loss: 1.6869 - val_acc: 0.5401\n",
      "Epoch 184/300\n",
      "1166/1166 [==============================] - 0s 217us/sample - loss: 1.6110 - acc: 0.5549 - val_loss: 1.6748 - val_acc: 0.5455\n",
      "Epoch 185/300\n",
      "1166/1166 [==============================] - 0s 217us/sample - loss: 1.6014 - acc: 0.5557 - val_loss: 1.6627 - val_acc: 0.5455\n",
      "Epoch 186/300\n",
      "1166/1166 [==============================] - 0s 220us/sample - loss: 1.5927 - acc: 0.5532 - val_loss: 1.6550 - val_acc: 0.5508\n",
      "Epoch 187/300\n",
      "1166/1166 [==============================] - 0s 217us/sample - loss: 1.5804 - acc: 0.5583 - val_loss: 1.6574 - val_acc: 0.5615\n",
      "Epoch 188/300\n",
      "1166/1166 [==============================] - 0s 218us/sample - loss: 1.5725 - acc: 0.5600 - val_loss: 1.6408 - val_acc: 0.5508\n",
      "Epoch 189/300\n",
      "1166/1166 [==============================] - 0s 221us/sample - loss: 1.5618 - acc: 0.5583 - val_loss: 1.6337 - val_acc: 0.5561\n",
      "Epoch 190/300\n",
      "1166/1166 [==============================] - 0s 217us/sample - loss: 1.5530 - acc: 0.5703 - val_loss: 1.6246 - val_acc: 0.5668\n",
      "Epoch 191/300\n",
      "1166/1166 [==============================] - 0s 218us/sample - loss: 1.5463 - acc: 0.5635 - val_loss: 1.6233 - val_acc: 0.5615\n",
      "Epoch 192/300\n",
      "1166/1166 [==============================] - 0s 225us/sample - loss: 1.5388 - acc: 0.5703 - val_loss: 1.6166 - val_acc: 0.5668\n",
      "Epoch 193/300\n",
      "1166/1166 [==============================] - 0s 222us/sample - loss: 1.5284 - acc: 0.5720 - val_loss: 1.6045 - val_acc: 0.5668\n",
      "Epoch 194/300\n",
      "1166/1166 [==============================] - 0s 216us/sample - loss: 1.5233 - acc: 0.5643 - val_loss: 1.5979 - val_acc: 0.5775\n",
      "Epoch 195/300\n",
      "1166/1166 [==============================] - 0s 220us/sample - loss: 1.5125 - acc: 0.5720 - val_loss: 1.5974 - val_acc: 0.5561\n",
      "Epoch 196/300\n",
      "1166/1166 [==============================] - 0s 220us/sample - loss: 1.5051 - acc: 0.5738 - val_loss: 1.5790 - val_acc: 0.5829\n",
      "Epoch 197/300\n",
      "1166/1166 [==============================] - 0s 219us/sample - loss: 1.4978 - acc: 0.5746 - val_loss: 1.5733 - val_acc: 0.5722\n",
      "Epoch 198/300\n",
      "1166/1166 [==============================] - 0s 225us/sample - loss: 1.4896 - acc: 0.5746 - val_loss: 1.5686 - val_acc: 0.5668\n",
      "Epoch 199/300\n",
      "1166/1166 [==============================] - 0s 222us/sample - loss: 1.4814 - acc: 0.5746 - val_loss: 1.5597 - val_acc: 0.5775\n",
      "Epoch 200/300\n",
      "1166/1166 [==============================] - 0s 223us/sample - loss: 1.4766 - acc: 0.5866 - val_loss: 1.5553 - val_acc: 0.5615\n",
      "Epoch 201/300\n",
      "1166/1166 [==============================] - 0s 216us/sample - loss: 1.4677 - acc: 0.5746 - val_loss: 1.5408 - val_acc: 0.5668\n",
      "Epoch 202/300\n",
      "1166/1166 [==============================] - 0s 222us/sample - loss: 1.4615 - acc: 0.5763 - val_loss: 1.5344 - val_acc: 0.5668\n",
      "Epoch 203/300\n",
      "1166/1166 [==============================] - 0s 218us/sample - loss: 1.4538 - acc: 0.6012 - val_loss: 1.5303 - val_acc: 0.5936\n",
      "Epoch 204/300\n",
      "1166/1166 [==============================] - 0s 220us/sample - loss: 1.4466 - acc: 0.5969 - val_loss: 1.5208 - val_acc: 0.5775\n",
      "Epoch 205/300\n",
      "1166/1166 [==============================] - 0s 218us/sample - loss: 1.4395 - acc: 0.6038 - val_loss: 1.5305 - val_acc: 0.5775\n",
      "Epoch 206/300\n",
      "1166/1166 [==============================] - 0s 222us/sample - loss: 1.4297 - acc: 0.5935 - val_loss: 1.5084 - val_acc: 0.5989\n",
      "Epoch 207/300\n",
      "1166/1166 [==============================] - 0s 218us/sample - loss: 1.4230 - acc: 0.6046 - val_loss: 1.5052 - val_acc: 0.5882\n",
      "Epoch 208/300\n",
      "1166/1166 [==============================] - 0s 216us/sample - loss: 1.4162 - acc: 0.6149 - val_loss: 1.4957 - val_acc: 0.5882\n",
      "Epoch 209/300\n",
      "1166/1166 [==============================] - 0s 221us/sample - loss: 1.4113 - acc: 0.5995 - val_loss: 1.4927 - val_acc: 0.5989\n",
      "Epoch 210/300\n",
      "1166/1166 [==============================] - 0s 225us/sample - loss: 1.4016 - acc: 0.6184 - val_loss: 1.4856 - val_acc: 0.6043\n",
      "Epoch 211/300\n",
      "1166/1166 [==============================] - 0s 223us/sample - loss: 1.3973 - acc: 0.6269 - val_loss: 1.4794 - val_acc: 0.6043\n",
      "Epoch 212/300\n",
      "1166/1166 [==============================] - 0s 223us/sample - loss: 1.3915 - acc: 0.6304 - val_loss: 1.4740 - val_acc: 0.5989\n",
      "Epoch 213/300\n",
      "1166/1166 [==============================] - 0s 222us/sample - loss: 1.3814 - acc: 0.6192 - val_loss: 1.4721 - val_acc: 0.5989\n",
      "Epoch 214/300\n",
      "1166/1166 [==============================] - 0s 224us/sample - loss: 1.3771 - acc: 0.6252 - val_loss: 1.4580 - val_acc: 0.6203\n",
      "Epoch 215/300\n",
      "1166/1166 [==============================] - 0s 219us/sample - loss: 1.3700 - acc: 0.6244 - val_loss: 1.4524 - val_acc: 0.6150\n",
      "Epoch 216/300\n",
      "1166/1166 [==============================] - 0s 223us/sample - loss: 1.3608 - acc: 0.6321 - val_loss: 1.4465 - val_acc: 0.6364\n",
      "Epoch 217/300\n",
      "1166/1166 [==============================] - 0s 222us/sample - loss: 1.3555 - acc: 0.6304 - val_loss: 1.4425 - val_acc: 0.6043\n",
      "Epoch 218/300\n",
      "1166/1166 [==============================] - 0s 220us/sample - loss: 1.3514 - acc: 0.6501 - val_loss: 1.4395 - val_acc: 0.6364\n",
      "Epoch 219/300\n",
      "1166/1166 [==============================] - 0s 218us/sample - loss: 1.3436 - acc: 0.6552 - val_loss: 1.4365 - val_acc: 0.6310\n",
      "Epoch 220/300\n",
      "1166/1166 [==============================] - 0s 217us/sample - loss: 1.3379 - acc: 0.6569 - val_loss: 1.4241 - val_acc: 0.6364\n",
      "Epoch 221/300\n",
      "1166/1166 [==============================] - 0s 217us/sample - loss: 1.3335 - acc: 0.6681 - val_loss: 1.4157 - val_acc: 0.6364\n",
      "Epoch 222/300\n",
      "1166/1166 [==============================] - 0s 221us/sample - loss: 1.3250 - acc: 0.6535 - val_loss: 1.4121 - val_acc: 0.6471\n",
      "Epoch 223/300\n",
      "1166/1166 [==============================] - 0s 225us/sample - loss: 1.3210 - acc: 0.6664 - val_loss: 1.4060 - val_acc: 0.6578\n",
      "Epoch 224/300\n",
      "1166/1166 [==============================] - 0s 218us/sample - loss: 1.3136 - acc: 0.6887 - val_loss: 1.4062 - val_acc: 0.6524\n",
      "Epoch 225/300\n",
      "1166/1166 [==============================] - 0s 218us/sample - loss: 1.3090 - acc: 0.6587 - val_loss: 1.3978 - val_acc: 0.6471\n",
      "Epoch 226/300\n",
      "1166/1166 [==============================] - 0s 225us/sample - loss: 1.3007 - acc: 0.6655 - val_loss: 1.3817 - val_acc: 0.6684\n",
      "Epoch 227/300\n",
      "1166/1166 [==============================] - 0s 221us/sample - loss: 1.2954 - acc: 0.6870 - val_loss: 1.3841 - val_acc: 0.6524\n",
      "Epoch 228/300\n",
      "1166/1166 [==============================] - 0s 221us/sample - loss: 1.2877 - acc: 0.6801 - val_loss: 1.3765 - val_acc: 0.6684\n",
      "Epoch 229/300\n",
      "1166/1166 [==============================] - 0s 218us/sample - loss: 1.2831 - acc: 0.6852 - val_loss: 1.3685 - val_acc: 0.6631\n",
      "Epoch 230/300\n",
      "1166/1166 [==============================] - 0s 229us/sample - loss: 1.2800 - acc: 0.6852 - val_loss: 1.3649 - val_acc: 0.6631\n",
      "Epoch 231/300\n",
      "1166/1166 [==============================] - 0s 224us/sample - loss: 1.2719 - acc: 0.6827 - val_loss: 1.3630 - val_acc: 0.6684\n",
      "Epoch 232/300\n",
      "1166/1166 [==============================] - 0s 221us/sample - loss: 1.2674 - acc: 0.6887 - val_loss: 1.3553 - val_acc: 0.6684\n",
      "Epoch 233/300\n"
     ]
    },
    {
     "name": "stdout",
     "output_type": "stream",
     "text": [
      "1166/1166 [==============================] - 0s 223us/sample - loss: 1.2614 - acc: 0.6861 - val_loss: 1.3511 - val_acc: 0.6684\n",
      "Epoch 234/300\n",
      "1166/1166 [==============================] - 0s 220us/sample - loss: 1.2559 - acc: 0.6938 - val_loss: 1.3402 - val_acc: 0.6845\n",
      "Epoch 235/300\n",
      "1166/1166 [==============================] - 0s 215us/sample - loss: 1.2481 - acc: 0.6973 - val_loss: 1.3446 - val_acc: 0.6791\n",
      "Epoch 236/300\n",
      "1166/1166 [==============================] - 0s 217us/sample - loss: 1.2430 - acc: 0.6895 - val_loss: 1.3308 - val_acc: 0.6738\n",
      "Epoch 237/300\n",
      "1166/1166 [==============================] - 0s 213us/sample - loss: 1.2377 - acc: 0.6990 - val_loss: 1.3244 - val_acc: 0.6738\n",
      "Epoch 238/300\n",
      "1166/1166 [==============================] - 0s 214us/sample - loss: 1.2315 - acc: 0.6981 - val_loss: 1.3237 - val_acc: 0.6684\n",
      "Epoch 239/300\n",
      "1166/1166 [==============================] - 0s 213us/sample - loss: 1.2254 - acc: 0.7015 - val_loss: 1.3142 - val_acc: 0.6791\n",
      "Epoch 240/300\n",
      "1166/1166 [==============================] - 0s 241us/sample - loss: 1.2226 - acc: 0.7075 - val_loss: 1.3116 - val_acc: 0.6631\n",
      "Epoch 241/300\n",
      "1166/1166 [==============================] - 0s 280us/sample - loss: 1.2159 - acc: 0.7015 - val_loss: 1.3049 - val_acc: 0.6791\n",
      "Epoch 242/300\n",
      "1166/1166 [==============================] - 0s 224us/sample - loss: 1.2109 - acc: 0.7110 - val_loss: 1.3007 - val_acc: 0.6791\n",
      "Epoch 243/300\n",
      "1166/1166 [==============================] - 0s 240us/sample - loss: 1.2062 - acc: 0.7041 - val_loss: 1.2966 - val_acc: 0.6845\n",
      "Epoch 244/300\n",
      "1166/1166 [==============================] - 0s 241us/sample - loss: 1.2020 - acc: 0.7058 - val_loss: 1.2928 - val_acc: 0.6791\n",
      "Epoch 245/300\n",
      "1166/1166 [==============================] - 0s 256us/sample - loss: 1.1961 - acc: 0.7093 - val_loss: 1.2879 - val_acc: 0.6791\n",
      "Epoch 246/300\n",
      "1166/1166 [==============================] - 0s 227us/sample - loss: 1.1904 - acc: 0.7058 - val_loss: 1.2787 - val_acc: 0.6898\n",
      "Epoch 247/300\n",
      "1166/1166 [==============================] - 0s 222us/sample - loss: 1.1854 - acc: 0.7084 - val_loss: 1.2741 - val_acc: 0.6738\n",
      "Epoch 248/300\n",
      "1166/1166 [==============================] - 0s 238us/sample - loss: 1.1784 - acc: 0.7084 - val_loss: 1.2733 - val_acc: 0.6898\n",
      "Epoch 249/300\n",
      "1166/1166 [==============================] - 0s 221us/sample - loss: 1.1746 - acc: 0.7178 - val_loss: 1.2707 - val_acc: 0.6898\n",
      "Epoch 250/300\n",
      "1166/1166 [==============================] - 0s 221us/sample - loss: 1.1694 - acc: 0.7170 - val_loss: 1.2582 - val_acc: 0.6952\n",
      "Epoch 251/300\n",
      "1166/1166 [==============================] - 0s 220us/sample - loss: 1.1662 - acc: 0.7136 - val_loss: 1.2516 - val_acc: 0.6952\n",
      "Epoch 252/300\n",
      "1166/1166 [==============================] - 0s 219us/sample - loss: 1.1590 - acc: 0.7213 - val_loss: 1.2549 - val_acc: 0.6952\n",
      "Epoch 253/300\n",
      "1166/1166 [==============================] - 0s 221us/sample - loss: 1.1550 - acc: 0.7187 - val_loss: 1.2482 - val_acc: 0.6952\n",
      "Epoch 254/300\n",
      "1166/1166 [==============================] - 0s 222us/sample - loss: 1.1517 - acc: 0.7213 - val_loss: 1.2443 - val_acc: 0.6898\n",
      "Epoch 255/300\n",
      "1166/1166 [==============================] - 0s 218us/sample - loss: 1.1445 - acc: 0.7161 - val_loss: 1.2336 - val_acc: 0.7005\n",
      "Epoch 256/300\n",
      "1166/1166 [==============================] - 0s 216us/sample - loss: 1.1397 - acc: 0.7221 - val_loss: 1.2376 - val_acc: 0.6898\n",
      "Epoch 257/300\n",
      "1166/1166 [==============================] - 0s 222us/sample - loss: 1.1352 - acc: 0.7204 - val_loss: 1.2251 - val_acc: 0.7059\n",
      "Epoch 258/300\n",
      "1166/1166 [==============================] - 0s 221us/sample - loss: 1.1302 - acc: 0.7238 - val_loss: 1.2251 - val_acc: 0.6898\n",
      "Epoch 259/300\n",
      "1166/1166 [==============================] - 0s 244us/sample - loss: 1.1287 - acc: 0.7221 - val_loss: 1.2113 - val_acc: 0.7059\n",
      "Epoch 260/300\n",
      "1166/1166 [==============================] - 0s 222us/sample - loss: 1.1235 - acc: 0.7221 - val_loss: 1.2135 - val_acc: 0.6952\n",
      "Epoch 261/300\n",
      "1166/1166 [==============================] - 0s 218us/sample - loss: 1.1161 - acc: 0.7256 - val_loss: 1.2038 - val_acc: 0.7166\n",
      "Epoch 262/300\n",
      "1166/1166 [==============================] - 0s 215us/sample - loss: 1.1123 - acc: 0.7367 - val_loss: 1.2029 - val_acc: 0.7112\n",
      "Epoch 263/300\n",
      "1166/1166 [==============================] - 0s 210us/sample - loss: 1.1061 - acc: 0.7316 - val_loss: 1.2067 - val_acc: 0.6898\n",
      "Epoch 264/300\n",
      "1166/1166 [==============================] - 0s 216us/sample - loss: 1.1050 - acc: 0.7264 - val_loss: 1.1969 - val_acc: 0.7112\n",
      "Epoch 265/300\n",
      "1166/1166 [==============================] - 0s 216us/sample - loss: 1.0989 - acc: 0.7281 - val_loss: 1.1830 - val_acc: 0.7166\n",
      "Epoch 266/300\n",
      "1166/1166 [==============================] - 0s 221us/sample - loss: 1.0934 - acc: 0.7410 - val_loss: 1.1806 - val_acc: 0.7112\n",
      "Epoch 267/300\n",
      "1166/1166 [==============================] - 0s 229us/sample - loss: 1.0885 - acc: 0.7393 - val_loss: 1.1820 - val_acc: 0.7005\n",
      "Epoch 268/300\n",
      "1166/1166 [==============================] - 0s 214us/sample - loss: 1.0831 - acc: 0.7376 - val_loss: 1.1840 - val_acc: 0.6952\n",
      "Epoch 269/300\n",
      "1166/1166 [==============================] - 0s 218us/sample - loss: 1.0790 - acc: 0.7367 - val_loss: 1.1710 - val_acc: 0.7005\n",
      "Epoch 270/300\n",
      "1166/1166 [==============================] - 0s 214us/sample - loss: 1.0741 - acc: 0.7393 - val_loss: 1.1684 - val_acc: 0.7059\n",
      "Epoch 271/300\n",
      "1166/1166 [==============================] - 0s 217us/sample - loss: 1.0712 - acc: 0.7427 - val_loss: 1.1658 - val_acc: 0.7112\n",
      "Epoch 272/300\n",
      "1166/1166 [==============================] - 0s 210us/sample - loss: 1.0660 - acc: 0.7350 - val_loss: 1.1622 - val_acc: 0.7005\n",
      "Epoch 273/300\n",
      "1166/1166 [==============================] - 0s 212us/sample - loss: 1.0608 - acc: 0.7479 - val_loss: 1.1571 - val_acc: 0.7112\n",
      "Epoch 274/300\n",
      "1166/1166 [==============================] - 0s 214us/sample - loss: 1.0579 - acc: 0.7376 - val_loss: 1.1486 - val_acc: 0.7112\n",
      "Epoch 275/300\n",
      "1166/1166 [==============================] - 0s 214us/sample - loss: 1.0526 - acc: 0.7384 - val_loss: 1.1443 - val_acc: 0.7219\n",
      "Epoch 276/300\n",
      "1166/1166 [==============================] - 0s 212us/sample - loss: 1.0492 - acc: 0.7504 - val_loss: 1.1468 - val_acc: 0.7059\n",
      "Epoch 277/300\n",
      "1166/1166 [==============================] - 0s 221us/sample - loss: 1.0441 - acc: 0.7427 - val_loss: 1.1401 - val_acc: 0.7166\n",
      "Epoch 278/300\n",
      "1166/1166 [==============================] - 0s 217us/sample - loss: 1.0391 - acc: 0.7521 - val_loss: 1.1366 - val_acc: 0.7112\n",
      "Epoch 279/300\n",
      "1166/1166 [==============================] - 0s 223us/sample - loss: 1.0362 - acc: 0.7436 - val_loss: 1.1301 - val_acc: 0.7166\n",
      "Epoch 280/300\n",
      "1166/1166 [==============================] - 0s 264us/sample - loss: 1.0312 - acc: 0.7470 - val_loss: 1.1232 - val_acc: 0.7219\n",
      "Epoch 281/300\n",
      "1166/1166 [==============================] - 0s 227us/sample - loss: 1.0275 - acc: 0.7573 - val_loss: 1.1162 - val_acc: 0.7219\n",
      "Epoch 282/300\n",
      "1166/1166 [==============================] - 0s 243us/sample - loss: 1.0231 - acc: 0.7521 - val_loss: 1.1112 - val_acc: 0.7380\n",
      "Epoch 283/300\n",
      "1166/1166 [==============================] - 0s 255us/sample - loss: 1.0190 - acc: 0.7496 - val_loss: 1.1060 - val_acc: 0.7380\n",
      "Epoch 284/300\n",
      "1166/1166 [==============================] - 0s 245us/sample - loss: 1.0157 - acc: 0.7599 - val_loss: 1.1074 - val_acc: 0.7219\n",
      "Epoch 285/300\n",
      "1166/1166 [==============================] - 0s 224us/sample - loss: 1.0117 - acc: 0.7496 - val_loss: 1.1032 - val_acc: 0.7273\n",
      "Epoch 286/300\n",
      "1166/1166 [==============================] - 0s 235us/sample - loss: 1.0051 - acc: 0.7547 - val_loss: 1.0924 - val_acc: 0.7273\n",
      "Epoch 287/300\n",
      "1166/1166 [==============================] - 0s 250us/sample - loss: 1.0002 - acc: 0.7616 - val_loss: 1.0938 - val_acc: 0.7487\n",
      "Epoch 288/300\n",
      "1166/1166 [==============================] - 0s 225us/sample - loss: 0.9991 - acc: 0.7616 - val_loss: 1.0857 - val_acc: 0.7487\n",
      "Epoch 289/300\n",
      "1166/1166 [==============================] - 0s 225us/sample - loss: 0.9942 - acc: 0.7599 - val_loss: 1.0856 - val_acc: 0.7273\n",
      "Epoch 290/300\n",
      "1166/1166 [==============================] - 0s 231us/sample - loss: 0.9897 - acc: 0.7659 - val_loss: 1.0762 - val_acc: 0.7487\n",
      "Epoch 291/300\n"
     ]
    },
    {
     "name": "stdout",
     "output_type": "stream",
     "text": [
      "1166/1166 [==============================] - 0s 229us/sample - loss: 0.9895 - acc: 0.7684 - val_loss: 1.0736 - val_acc: 0.7594\n",
      "Epoch 292/300\n",
      "1166/1166 [==============================] - 0s 217us/sample - loss: 0.9819 - acc: 0.7633 - val_loss: 1.0750 - val_acc: 0.7433\n",
      "Epoch 293/300\n",
      "1166/1166 [==============================] - 0s 221us/sample - loss: 0.9787 - acc: 0.7693 - val_loss: 1.0629 - val_acc: 0.7647\n",
      "Epoch 294/300\n",
      "1166/1166 [==============================] - 0s 227us/sample - loss: 0.9737 - acc: 0.7633 - val_loss: 1.0635 - val_acc: 0.7540\n",
      "Epoch 295/300\n",
      "1166/1166 [==============================] - 0s 225us/sample - loss: 0.9726 - acc: 0.7616 - val_loss: 1.0607 - val_acc: 0.7647\n",
      "Epoch 296/300\n",
      "1166/1166 [==============================] - 0s 217us/sample - loss: 0.9660 - acc: 0.7676 - val_loss: 1.0591 - val_acc: 0.7647\n",
      "Epoch 297/300\n",
      "1166/1166 [==============================] - 0s 221us/sample - loss: 0.9625 - acc: 0.7727 - val_loss: 1.0593 - val_acc: 0.7594\n",
      "Epoch 298/300\n",
      "1166/1166 [==============================] - 0s 221us/sample - loss: 0.9619 - acc: 0.7744 - val_loss: 1.0438 - val_acc: 0.7807\n",
      "Epoch 299/300\n",
      "1166/1166 [==============================] - 0s 216us/sample - loss: 0.9557 - acc: 0.7787 - val_loss: 1.0485 - val_acc: 0.7754\n",
      "Epoch 300/300\n",
      "1166/1166 [==============================] - 0s 215us/sample - loss: 0.9515 - acc: 0.7839 - val_loss: 1.0436 - val_acc: 0.7807\n"
     ]
    }
   ],
   "source": [
    "history = model.fit(X,y,epochs=300, batch_size=64, validation_data=(X_val, y_val))"
   ]
  },
  {
   "cell_type": "code",
   "execution_count": 24,
   "metadata": {},
   "outputs": [],
   "source": [
    "loss = history.history['loss']\n",
    "acc = history.history['acc']\n",
    "val_loss = history.history['val_loss']\n",
    "val_acc = history.history['val_acc']"
   ]
  },
  {
   "cell_type": "code",
   "execution_count": 25,
   "metadata": {},
   "outputs": [
    {
     "data": {
      "text/plain": [
       "<matplotlib.legend.Legend at 0x7f57986d1400>"
      ]
     },
     "execution_count": 25,
     "metadata": {},
     "output_type": "execute_result"
    },
    {
     "data": {
      "image/png": "[encoded data removed]",
      "text/plain": [
       "<Figure size 720x720 with 1 Axes>"
      ]
     },
     "metadata": {},
     "output_type": "display_data"
    }
   ],
   "source": [
    "plt.figure(figsize=(10,10))\n",
    "plt.plot(acc,label=\"Accuracy\")\n",
    "plt.plot(val_acc,label=\"Validation Accuracy\")\n",
    "plt.legend()"
   ]
  },
  {
   "cell_type": "code",
   "execution_count": 26,
   "metadata": {},
   "outputs": [
    {
     "data": {
      "text/plain": [
       "<matplotlib.legend.Legend at 0x7f579864ef98>"
      ]
     },
     "execution_count": 26,
     "metadata": {},
     "output_type": "execute_result"
    },
    {
     "data": {
      "image/png": "[encoded data removed]",
      "text/plain": [
       "<Figure size 720x720 with 1 Axes>"
      ]
     },
     "metadata": {},
     "output_type": "display_data"
    }
   ],
   "source": [
    "plt.figure(figsize=(10,10))\n",
    "plt.plot(loss,label=\"loss\")\n",
    "plt.plot(val_loss,label=\"validation loss\")\n",
    "plt.legend()"
   ]
  },
  {
   "cell_type": "markdown",
   "metadata": {},
   "source": [
    "再看一下test_set的效果"
   ]
  },
  {
   "cell_type": "code",
   "execution_count": 27,
   "metadata": {},
   "outputs": [
    {
     "name": "stdout",
     "output_type": "stream",
     "text": [
      "234/234 [==============================] - 0s 90us/sample - loss: 1.0119 - acc: 0.7650\n"
     ]
    },
    {
     "data": {
      "text/plain": [
       "[1.0118810254284458, 0.76495725]"
      ]
     },
     "execution_count": 27,
     "metadata": {},
     "output_type": "execute_result"
    }
   ],
   "source": [
    "model.evaluate(X_test, y_test)"
   ]
  },
  {
   "cell_type": "markdown",
   "metadata": {},
   "source": [
    "93% 准确度"
   ]
  },
  {
   "cell_type": "code",
   "execution_count": 28,
   "metadata": {},
   "outputs": [
    {
     "name": "stdout",
     "output_type": "stream",
     "text": [
      "第四十六条\n"
     ]
    }
   ],
   "source": [
    "x_tt = np.array([mtd.embed(\"今天我被公司开除了，公司不准备付给我加班费，而且他们让我直接从公司离开，明明当时签了合同，我现在应该怎么办？\",plantiff=\"\", defendant=\"\", third_party=\"\")])\n",
    "prob = model.predict(x_tt)[0]\n",
    "print(pd.factorize(law_list.drop(index=drop_list,axis=0)['tiao_used'])[1][np.argmax(prob)])"
   ]
  },
  {
   "cell_type": "markdown",
   "metadata": {},
   "source": [
    "如果去回查的话\n",
    "\n",
    "七十二条：社会保险基金按照保险类型确定资金来源，逐步实行社会统筹。用人单位和劳动者必须依法参加社会保险，缴纳社会保险费。\n",
    "\n",
    "四十六条：工资分配应当遵循按劳分配原则，实行同工同酬。 工资水平在经济发展的基础上逐步提高。国家对工资总量实行宏观调控。\n",
    "\n",
    "四十七条：用人单位根据本单位的生产经营特点和经济效益，依法自主确定本单位的工资分配方式和工资水平。\n",
    "\n",
    "好像并不是很确切"
   ]
  },
  {
   "cell_type": "code",
   "execution_count": 29,
   "metadata": {},
   "outputs": [
    {
     "name": "stdout",
     "output_type": "stream",
     "text": [
      "第四十七条\n"
     ]
    }
   ],
   "source": [
    "x_tt = np.array([mtd.embed(\"公司一直拖欠供暖费不给，应该看什么法律？\",plantiff=\"\", defendant=\"\", third_party=\"\")])\n",
    "prob = model.predict(x_tt)[0]\n",
    "print(pd.factorize(law_list.drop(index=drop_list,axis=0)['tiao_used'])[1][np.argmax(prob)])"
   ]
  },
  {
   "cell_type": "markdown",
   "metadata": {},
   "source": [
    "# 总结"
   ]
  },
  {
   "cell_type": "markdown",
   "metadata": {},
   "source": [
    "虽然结果还是很不错的，至少没有使用RNN的情况下，只做embedding就有这个准确率，还是很不错的。\n",
    "\n",
    "虽然现在只做了一个劳动法的条的检索，其实如果套上别的法律，按照同样的想法，效果应该很不错。\n",
    "\n",
    "但如果直接拿一段文字来尝试，模型效果还是欠佳。"
   ]
  }
 ],
 "metadata": {
  "kernelspec": {
   "display_name": "Python 3",
   "language": "python",
   "name": "python3"
  },
  "language_info": {
   "codemirror_mode": {
    "name": "ipython",
    "version": 3
   },
   "file_extension": ".py",
   "mimetype": "text/x-python",
   "name": "python",
   "nbconvert_exporter": "python",
   "pygments_lexer": "ipython3",
   "version": "3.6.5"
  }
 },
 "nbformat": 4,
 "nbformat_minor": 2
}
