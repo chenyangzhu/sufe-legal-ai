{
 "cells": [
  {
   "cell_type": "code",
   "execution_count": 2,
   "metadata": {},
   "outputs": [],
   "source": [
    "import numpy as np\n",
    "import re\n",
    "from scipy import sparse\n",
    "import scipy as sp"
   ]
  },
  {
   "cell_type": "code",
   "execution_count": 3,
   "metadata": {},
   "outputs": [
    {
     "name": "stderr",
     "output_type": "stream",
     "text": [
      "/anaconda3/lib/python3.7/site-packages/IPython/core/interactiveshell.py:3044: DtypeWarning: Columns (11,13) have mixed types. Specify dtype option on import or set low_memory=False.\n",
      "  interactivity=interactivity, compiler=compiler, result=result)\n"
     ]
    }
   ],
   "source": [
    "import pandas as pd \n",
    "rawdata = pd.read_csv(\"/Users/bailujia/Desktop/NLP/侵权.csv\",encoding=\"UTF-8\")"
   ]
  },
  {
   "cell_type": "code",
   "execution_count": 4,
   "metadata": {},
   "outputs": [],
   "source": [
    "featuredata = pd.read_excel('/Users/bailujia/Desktop/NLP/feature.xlsx',encoding=\"GBK\")"
   ]
  },
  {
   "cell_type": "code",
   "execution_count": 5,
   "metadata": {},
   "outputs": [
    {
     "data": {
      "text/plain": [
       "Index(['庭审程序_是否_刑罚变更', '庭审程序_是否_一审', '庭审程序_是否_二审', '庭审程序_是否_复核', '庭审程序_是否_其他',\n",
       "       '第三人_有无自然人', '原告_是否_检察院', '原告_是否_法人', '原告_是否_自然人', '原告_是否_其他',\n",
       "       '庭审过程_是否拒不到庭_否', '庭审过程_是否拒不到庭_未知', '庭审过程_是否拒不到庭_汇总', '庭审过程_是否有异议_是',\n",
       "       '庭审过程_是否有异议_否', '庭审过程_是否有异议_未知', '庭审过程_是否有异议_汇总', '庭审过程_长度', '法院等级',\n",
       "       '被告_是否_自然人', '被告_是否_法人', '被告_是否_其他', '是否终审(y)'],\n",
       "      dtype='object')"
      ]
     },
     "execution_count": 5,
     "metadata": {},
     "output_type": "execute_result"
    }
   ],
   "source": [
    "featuredata.columns"
   ]
  },
  {
   "cell_type": "markdown",
   "metadata": {},
   "source": [
    "### Building feature matrix"
   ]
  },
  {
   "cell_type": "code",
   "execution_count": 9,
   "metadata": {},
   "outputs": [],
   "source": [
    "user = featuredata[['第三人_有无自然人','原告_是否_检察院', '原告_是否_法人', '原告_是否_自然人', '原告_是否_其他',\n",
    "                   '法院等级','被告_是否_自然人', '被告_是否_法人', '被告_是否_其他']]"
   ]
  },
  {
   "cell_type": "code",
   "execution_count": 10,
   "metadata": {},
   "outputs": [],
   "source": [
    "case = rawdata['案由']"
   ]
  },
  {
   "cell_type": "code",
   "execution_count": 12,
   "metadata": {},
   "outputs": [],
   "source": [
    "caseE = pd.read_csv(\"/Users/bailujia/Desktop/NLP/caseE.csv\",encoding=\"UTF-8\")"
   ]
  },
  {
   "cell_type": "code",
   "execution_count": 13,
   "metadata": {},
   "outputs": [],
   "source": [
    "sparselaw = sparse.load_npz('/Users/bailujia/Desktop/NLP/sparselaw.npz')"
   ]
  },
  {
   "cell_type": "code",
   "execution_count": 14,
   "metadata": {},
   "outputs": [],
   "source": [
    "denselaw = sparselaw.todense()"
   ]
  },
  {
   "cell_type": "code",
   "execution_count": 15,
   "metadata": {},
   "outputs": [
    {
     "data": {
      "text/plain": [
       "(58993, 482)"
      ]
     },
     "execution_count": 15,
     "metadata": {},
     "output_type": "execute_result"
    }
   ],
   "source": [
    "denselaw.shape"
   ]
  },
  {
   "cell_type": "code",
   "execution_count": 16,
   "metadata": {},
   "outputs": [],
   "source": [
    "denselaw1  = pd.DataFrame(denselaw)\n",
    "denselaw1['freq'] = denselaw1.apply(lambda x: x.sum(),axis=1)"
   ]
  },
  {
   "cell_type": "code",
   "execution_count": 17,
   "metadata": {},
   "outputs": [],
   "source": [
    "indices = (denselaw1['freq'] > 1)\n",
    "newfeature = pd.concat([caseE,user],axis = 1)\n",
    "newfeature = newfeature.loc[indices]\n",
    "denselaw1 = denselaw1.drop(columns =['freq'] )\n",
    "newlaw = denselaw1.loc[indices]\n"
   ]
  },
  {
   "cell_type": "code",
   "execution_count": 95,
   "metadata": {},
   "outputs": [],
   "source": [
    "newlaw[newlaw > 0] = 1"
   ]
  },
  {
   "cell_type": "code",
   "execution_count": 96,
   "metadata": {},
   "outputs": [
    {
     "data": {
      "text/plain": [
       "(30786, 49)"
      ]
     },
     "execution_count": 96,
     "metadata": {},
     "output_type": "execute_result"
    }
   ],
   "source": [
    "newfeature.shape"
   ]
  },
  {
   "cell_type": "code",
   "execution_count": 97,
   "metadata": {},
   "outputs": [],
   "source": [
    "from skmultilearn.problem_transform import BinaryRelevance,LabelPowerset,ClassifierChain\n",
    "import numpy as np\n",
    "from sklearn.model_selection import train_test_split\n",
    "X_train, X_test, y_train, y_test = train_test_split(newfeature, newlaw, test_size=0.33, random_state=42)"
   ]
  },
  {
   "cell_type": "code",
   "execution_count": 98,
   "metadata": {},
   "outputs": [],
   "source": [
    "X_train1 = sparse.lil_matrix(X_train)\n",
    "X_test1 =  sparse.lil_matrix(X_test)\n",
    "y_train1 = sparse.lil_matrix(y_train)\n",
    "y_test1 = sparse.lil_matrix(y_test)"
   ]
  },
  {
   "cell_type": "markdown",
   "metadata": {},
   "source": [
    "### 模型一"
   ]
  },
  {
   "cell_type": "code",
   "execution_count": 99,
   "metadata": {},
   "outputs": [],
   "source": [
    "import warnings\n",
    "\n",
    "warnings.filterwarnings('ignore')"
   ]
  },
  {
   "cell_type": "code",
   "execution_count": 124,
   "metadata": {
    "scrolled": true
   },
   "outputs": [
    {
     "data": {
      "text/plain": [
       "LabelPowerset(classifier=LogisticRegression(C=1.0, class_weight=None, dual=False, fit_intercept=True,\n",
       "          intercept_scaling=1, max_iter=100, multi_class='warn',\n",
       "          n_jobs=None, penalty='l2', random_state=None, solver='warn',\n",
       "          tol=0.0001, verbose=0, warm_start=False),\n",
       "       require_dense=[True, True])"
      ]
     },
     "execution_count": 124,
     "metadata": {},
     "output_type": "execute_result"
    }
   ],
   "source": [
    "from sklearn.naive_bayes import MultinomialNB\n",
    "from sklearn.linear_model import LogisticRegression\n",
    "from sklearn.ensemble import RandomForestClassifier\n",
    "# initialize binary relevance multi-label classifier\n",
    "# with a gaussian naive bayes base classifier\n",
    "classifier = LabelPowerset(LogisticRegression())\n",
    "# train\n",
    "classifier.fit(X_train, y_train)"
   ]
  },
  {
   "cell_type": "code",
   "execution_count": 125,
   "metadata": {},
   "outputs": [],
   "source": [
    "predictions = classifier.predict(X_test)"
   ]
  },
  {
   "cell_type": "code",
   "execution_count": 126,
   "metadata": {},
   "outputs": [
    {
     "data": {
      "text/plain": [
       "matrix([[0, 1, 0, ..., 0, 0, 0],\n",
       "        [0, 1, 0, ..., 0, 0, 0],\n",
       "        [0, 1, 0, ..., 0, 0, 0],\n",
       "        ...,\n",
       "        [0, 1, 0, ..., 0, 0, 0],\n",
       "        [0, 1, 0, ..., 0, 0, 0],\n",
       "        [0, 1, 0, ..., 0, 0, 0]])"
      ]
     },
     "execution_count": 126,
     "metadata": {},
     "output_type": "execute_result"
    }
   ],
   "source": [
    "predictions[:10].todense()"
   ]
  },
  {
   "cell_type": "code",
   "execution_count": 127,
   "metadata": {},
   "outputs": [],
   "source": [
    "relevantlaw = np.argsort(-newlaw.sum(axis=0))[:20]\n",
    "Lawset4 = pd.read_csv('/Users/bailujia/Desktop/NLP/Lawset4.csv')\n",
    "newlaw.columns = Lawset4['law']"
   ]
  },
  {
   "cell_type": "code",
   "execution_count": 128,
   "metadata": {},
   "outputs": [],
   "source": [
    "from sklearn.metrics import accuracy_score,hamming_loss\n",
    "sumac = 0\n",
    "accuracy = []\n",
    "hamm = []\n",
    "for i in range((y_test.shape[0])):\n",
    "    hamm.append(hamming_loss(y_test1[i,:].toarray().T,predictions[i,:].toarray().T))\n",
    "for i in range(482):\n",
    "    accuracy.append(accuracy_score(y_test.iloc[:,i],predictions[:,i].todense()))"
   ]
  },
  {
   "cell_type": "code",
   "execution_count": 129,
   "metadata": {},
   "outputs": [
    {
     "data": {
      "image/png": "[encoded data removed]",
      "text/plain": [
       "<Figure size 432x288 with 1 Axes>"
      ]
     },
     "metadata": {
      "needs_background": "light"
     },
     "output_type": "display_data"
    }
   ],
   "source": [
    "import numpy as np\n",
    "import matplotlib.pyplot as plt\n",
    "\n",
    "# the histogram of the data\n",
    "n, bins, patches = plt.hist(hamm, 9, density=True, facecolor='steelblue', alpha=0.75)\n",
    "plt.show()"
   ]
  },
  {
   "cell_type": "code",
   "execution_count": 130,
   "metadata": {},
   "outputs": [
    {
     "data": {
      "text/html": [
       "<div>\n",
       "<style scoped>\n",
       "    .dataframe tbody tr th:only-of-type {\n",
       "        vertical-align: middle;\n",
       "    }\n",
       "\n",
       "    .dataframe tbody tr th {\n",
       "        vertical-align: top;\n",
       "    }\n",
       "\n",
       "    .dataframe thead th {\n",
       "        text-align: right;\n",
       "    }\n",
       "</style>\n",
       "<table border=\"1\" class=\"dataframe\">\n",
       "  <thead>\n",
       "    <tr style=\"text-align: right;\">\n",
       "      <th></th>\n",
       "      <th>accuracy</th>\n",
       "      <th>law</th>\n",
       "    </tr>\n",
       "  </thead>\n",
       "  <tbody>\n",
       "    <tr>\n",
       "      <th>0</th>\n",
       "      <td>0.994193</td>\n",
       "      <td>诉讼法</td>\n",
       "    </tr>\n",
       "    <tr>\n",
       "      <th>1</th>\n",
       "      <td>0.922539</td>\n",
       "      <td>交通安全法</td>\n",
       "    </tr>\n",
       "    <tr>\n",
       "      <th>2</th>\n",
       "      <td>0.813287</td>\n",
       "      <td>侵权责任法</td>\n",
       "    </tr>\n",
       "    <tr>\n",
       "      <th>3</th>\n",
       "      <td>0.754134</td>\n",
       "      <td>关于审理道路交通事故损害赔偿案件适用法律若干问题</td>\n",
       "    </tr>\n",
       "    <tr>\n",
       "      <th>4</th>\n",
       "      <td>0.647736</td>\n",
       "      <td>关于审理人身损害赔偿案件</td>\n",
       "    </tr>\n",
       "    <tr>\n",
       "      <th>5</th>\n",
       "      <td>0.525394</td>\n",
       "      <td>保险法</td>\n",
       "    </tr>\n",
       "    <tr>\n",
       "      <th>6</th>\n",
       "      <td>0.427067</td>\n",
       "      <td>机动车交通事故责任强制保险条例</td>\n",
       "    </tr>\n",
       "    <tr>\n",
       "      <th>7</th>\n",
       "      <td>0.872244</td>\n",
       "      <td>关于确定民事侵权精神损害赔偿责任若干问题</td>\n",
       "    </tr>\n",
       "    <tr>\n",
       "      <th>8</th>\n",
       "      <td>0.892224</td>\n",
       "      <td>民法通则</td>\n",
       "    </tr>\n",
       "    <tr>\n",
       "      <th>9</th>\n",
       "      <td>0.986614</td>\n",
       "      <td>食品安全法</td>\n",
       "    </tr>\n",
       "    <tr>\n",
       "      <th>10</th>\n",
       "      <td>0.95689</td>\n",
       "      <td>民事诉讼</td>\n",
       "    </tr>\n",
       "    <tr>\n",
       "      <th>11</th>\n",
       "      <td>0.962992</td>\n",
       "      <td>最高人民法院关于适用的解释</td>\n",
       "    </tr>\n",
       "    <tr>\n",
       "      <th>12</th>\n",
       "      <td>0.968898</td>\n",
       "      <td>合同法</td>\n",
       "    </tr>\n",
       "    <tr>\n",
       "      <th>13</th>\n",
       "      <td>0.96998</td>\n",
       "      <td>机动车交通事故责任强制保险条款</td>\n",
       "    </tr>\n",
       "    <tr>\n",
       "      <th>14</th>\n",
       "      <td>0.989469</td>\n",
       "      <td>最高人民法院关于审理食品药品纠纷案件适用法律若干问题的规定</td>\n",
       "    </tr>\n",
       "    <tr>\n",
       "      <th>15</th>\n",
       "      <td>0.992126</td>\n",
       "      <td>产品质量法</td>\n",
       "    </tr>\n",
       "    <tr>\n",
       "      <th>16</th>\n",
       "      <td>0.991043</td>\n",
       "      <td>诉讼费用交纳办法</td>\n",
       "    </tr>\n",
       "    <tr>\n",
       "      <th>17</th>\n",
       "      <td>0.993602</td>\n",
       "      <td>民法总则</td>\n",
       "    </tr>\n",
       "    <tr>\n",
       "      <th>18</th>\n",
       "      <td>0.99498</td>\n",
       "      <td>关于审理道路交通事故损害赔偿案件若干问题的解释</td>\n",
       "    </tr>\n",
       "    <tr>\n",
       "      <th>19</th>\n",
       "      <td>0.995472</td>\n",
       "      <td>消费者权益保护法</td>\n",
       "    </tr>\n",
       "  </tbody>\n",
       "</table>\n",
       "</div>"
      ],
      "text/plain": [
       "    accuracy                            law\n",
       "0   0.994193                            诉讼法\n",
       "1   0.922539                          交通安全法\n",
       "2   0.813287                          侵权责任法\n",
       "3   0.754134       关于审理道路交通事故损害赔偿案件适用法律若干问题\n",
       "4   0.647736                   关于审理人身损害赔偿案件\n",
       "5   0.525394                            保险法\n",
       "6   0.427067                机动车交通事故责任强制保险条例\n",
       "7   0.872244           关于确定民事侵权精神损害赔偿责任若干问题\n",
       "8   0.892224                           民法通则\n",
       "9   0.986614                          食品安全法\n",
       "10   0.95689                           民事诉讼\n",
       "11  0.962992                  最高人民法院关于适用的解释\n",
       "12  0.968898                            合同法\n",
       "13   0.96998                机动车交通事故责任强制保险条款\n",
       "14  0.989469  最高人民法院关于审理食品药品纠纷案件适用法律若干问题的规定\n",
       "15  0.992126                          产品质量法\n",
       "16  0.991043                       诉讼费用交纳办法\n",
       "17  0.993602                           民法总则\n",
       "18   0.99498        关于审理道路交通事故损害赔偿案件若干问题的解释\n",
       "19  0.995472                       消费者权益保护法"
      ]
     },
     "execution_count": 130,
     "metadata": {},
     "output_type": "execute_result"
    }
   ],
   "source": [
    "accuracy = np.array(accuracy)\n",
    "pd.DataFrame(np.vstack([accuracy[relevantlaw],Lawset4['law'][relevantlaw]]).T,columns=[\"accuracy\",\"law\"])"
   ]
  },
  {
   "cell_type": "code",
   "execution_count": 131,
   "metadata": {},
   "outputs": [],
   "source": [
    "result0 = pd.DataFrame(np.vstack([accuracy[relevantlaw],Lawset4['law'][relevantlaw]]).T,columns=[\"accuracy\",\"law\"])"
   ]
  },
  {
   "cell_type": "code",
   "execution_count": 132,
   "metadata": {},
   "outputs": [],
   "source": [
    "result0.to_csv('/Users/bailujia/Desktop/NLP/mnbPlps.csv',index=False)"
   ]
  },
  {
   "cell_type": "code",
   "execution_count": 107,
   "metadata": {},
   "outputs": [],
   "source": [
    "from sklearn.feature_selection import VarianceThreshold\n",
    "sel = VarianceThreshold(threshold=(.99 * (1 - .99)))\n",
    "X_train2 = sel.fit_transform(X_train)\n",
    "indicescol = sel.get_support()\n",
    "X_test2 = X_test.iloc[:,indicescol]"
   ]
  },
  {
   "cell_type": "code",
   "execution_count": 108,
   "metadata": {},
   "outputs": [
    {
     "data": {
      "text/plain": [
       "(20626, 11)"
      ]
     },
     "execution_count": 108,
     "metadata": {},
     "output_type": "execute_result"
    }
   ],
   "source": [
    "X_train2.shape"
   ]
  },
  {
   "cell_type": "markdown",
   "metadata": {},
   "source": [
    "### 模型二"
   ]
  },
  {
   "cell_type": "code",
   "execution_count": 109,
   "metadata": {},
   "outputs": [
    {
     "name": "stdout",
     "output_type": "stream",
     "text": [
      "482 labels, 1135 edges\n",
      "There are 258 clusters\n"
     ]
    }
   ],
   "source": [
    "from skmultilearn.ensemble import LabelSpacePartitioningClassifier,MajorityVotingClassifier\n",
    "from skmultilearn.cluster.networkx import NetworkXLabelGraphClusterer\n",
    "from sklearn.ensemble import RandomForestClassifier\n",
    "from skmultilearn.cluster import LabelCooccurrenceGraphBuilder\n",
    "\n",
    "graph_builder = LabelCooccurrenceGraphBuilder(weighted=True,\n",
    "                                              include_self_edges=False)\n",
    "\n",
    "label_names=[i for i in range(482)]\n",
    "edge_map = graph_builder.transform(y_train1)\n",
    "print(\"{} labels, {} edges\".format(len(label_names), len(edge_map)))\n",
    "\n",
    "def to_membership_vector(partition):\n",
    "    return {\n",
    "        member :  partition_id\n",
    "        for partition_id, members in enumerate(partition)\n",
    "        for member in members\n",
    "    }\n",
    "clusterer = NetworkXLabelGraphClusterer(graph_builder, method='louvain')\n",
    "\n",
    "\n",
    "partition = clusterer.fit_predict(X_train1,y_train1)\n",
    "membership_vector = to_membership_vector(partition)\n",
    "print('There are', len(partition),'clusters')"
   ]
  },
  {
   "cell_type": "code",
   "execution_count": 111,
   "metadata": {
    "scrolled": true
   },
   "outputs": [],
   "source": [
    "classifier = LabelSpacePartitioningClassifier(\n",
    "    classifier = LabelPowerset(\n",
    "    classifier = RandomForestClassifier(),\n",
    "    require_dense = [False, True]\n",
    "),\n",
    "    clusterer  = NetworkXLabelGraphClusterer(graph_builder, method='louvain')\n",
    ")\n",
    "\n",
    "X_train2 = sparse.lil_matrix(X_train2)\n",
    "X_test2 = sparse.lil_matrix(X_test2)\n",
    "\n",
    "classifier.fit(X_train2,y_train1)\n",
    "y_hat = classifier.predict(X_test2)"
   ]
  },
  {
   "cell_type": "code",
   "execution_count": 112,
   "metadata": {},
   "outputs": [
    {
     "data": {
      "text/plain": [
       "array([[0, 1, 0, ..., 0, 0, 0],\n",
       "       [0, 1, 0, ..., 0, 0, 0],\n",
       "       [0, 1, 0, ..., 0, 0, 0],\n",
       "       ...,\n",
       "       [0, 1, 0, ..., 0, 0, 0],\n",
       "       [0, 1, 0, ..., 0, 0, 0],\n",
       "       [0, 1, 0, ..., 0, 0, 0]])"
      ]
     },
     "execution_count": 112,
     "metadata": {},
     "output_type": "execute_result"
    }
   ],
   "source": [
    "y_hat.toarray()"
   ]
  },
  {
   "cell_type": "code",
   "execution_count": 113,
   "metadata": {},
   "outputs": [],
   "source": [
    "from sklearn.metrics import accuracy_score,confusion_matrix\n",
    "sumac = 0\n",
    "accuracy = []\n",
    "hamm = []\n",
    "CM = []\n",
    "for i in range((y_test.shape[0])):\n",
    "    hamm.append(hamming_loss(y_test1[i,:].toarray().T,y_hat[i,:].toarray().T))\n",
    "for i in range(482):\n",
    "    accuracy.append(accuracy_score(y_test.iloc[:,i],y_hat[:,i].todense()))\n",
    "    CM.append(confusion_matrix(y_test.iloc[:,i],y_hat[:,i].todense()))"
   ]
  },
  {
   "cell_type": "code",
   "execution_count": 114,
   "metadata": {},
   "outputs": [
    {
     "data": {
      "text/plain": [
       "1.0"
      ]
     },
     "execution_count": 114,
     "metadata": {},
     "output_type": "execute_result"
    }
   ],
   "source": [
    "np.array(y_test).max()"
   ]
  },
  {
   "cell_type": "code",
   "execution_count": 115,
   "metadata": {
    "scrolled": true
   },
   "outputs": [
    {
     "name": "stdout",
     "output_type": "stream",
     "text": [
      "诉讼法 \n",
      " [[    0    59]\n",
      " [    0 10101]]\n",
      "交通安全法 \n",
      " [[1436  747]\n",
      " [  40 7937]]\n",
      "侵权责任法 \n",
      " [[ 970 1816]\n",
      " [  87 7287]]\n",
      "关于审理道路交通事故损害赔偿案件适用法律若干问题 \n",
      " [[1773 2315]\n",
      " [ 186 5886]]\n",
      "关于审理人身损害赔偿案件 \n",
      " [[6417   68]\n",
      " [3531  144]]\n",
      "保险法 \n",
      " [[6721   24]\n",
      " [3408    7]]\n",
      "机动车交通事故责任强制保险条例 \n",
      " [[7849   29]\n",
      " [2278    4]]\n",
      "关于确定民事侵权精神损害赔偿责任若干问题 \n",
      " [[8856    6]\n",
      " [1297    1]]\n",
      "民法通则 \n",
      " [[9057    7]\n",
      " [1095    1]]\n",
      "食品安全法 \n",
      " [[9404  105]\n",
      " [  17  634]]\n",
      "民事诉讼 \n",
      " [[9718    7]\n",
      " [ 428    7]]\n",
      "最高人民法院关于适用的解释 \n",
      " [[9774   29]\n",
      " [ 328   29]]\n",
      "合同法 \n",
      " [[9844    0]\n",
      " [ 316    0]]\n",
      "机动车交通事故责任强制保险条款 \n",
      " [[9855    0]\n",
      " [ 305    0]]\n",
      "最高人民法院关于审理食品药品纠纷案件适用法律若干问题的规定 \n",
      " [[10027    25]\n",
      " [   79    29]]\n",
      "产品质量法 \n",
      " [[10068    23]\n",
      " [   60     9]]\n",
      "诉讼费用交纳办法 \n",
      " [[10083    18]\n",
      " [   54     5]]\n",
      "民法总则 \n",
      " [[10095     0]\n",
      " [   65     0]]\n",
      "关于审理道路交通事故损害赔偿案件若干问题的解释 \n",
      " [[10109     0]\n",
      " [   51     0]]\n",
      "消费者权益保护法 \n",
      " [[10100    19]\n",
      " [   27    14]]\n"
     ]
    }
   ],
   "source": [
    "for i in relevantlaw:\n",
    "    print(Lawset4['law'][i],\"\\n\", CM[i])"
   ]
  },
  {
   "cell_type": "code",
   "execution_count": 80,
   "metadata": {},
   "outputs": [
    {
     "data": {
      "image/png": "[encoded data removed]",
      "text/plain": [
       "<Figure size 432x288 with 1 Axes>"
      ]
     },
     "metadata": {
      "needs_background": "light"
     },
     "output_type": "display_data"
    }
   ],
   "source": [
    "import numpy as np\n",
    "import matplotlib.pyplot as plt\n",
    "\n",
    "# the histogram of the data\n",
    "n, bins, patches = plt.hist(hamm, 9, density=True, facecolor='steelblue', alpha=0.75)\n",
    "plt.show()"
   ]
  },
  {
   "cell_type": "code",
   "execution_count": 81,
   "metadata": {},
   "outputs": [
    {
     "name": "stdout",
     "output_type": "stream",
     "text": [
      "    accuracy                            law\n",
      "0   0.974213                            诉讼法\n",
      "1   0.918504                          交通安全法\n",
      "2   0.812894                          侵权责任法\n",
      "3   0.753839       关于审理道路交通事故损害赔偿案件适用法律若干问题\n",
      "4   0.644882                   关于审理人身损害赔偿案件\n",
      "5   0.662205                            保险法\n",
      "6    0.77313                机动车交通事故责任强制保险条例\n",
      "7    0.87185           关于确定民事侵权精神损害赔偿责任若干问题\n",
      "8   0.891535                           民法通则\n",
      "9   0.987795                          食品安全法\n",
      "10  0.957185                           民事诉讼\n",
      "11  0.965453                  最高人民法院关于适用的解释\n",
      "12  0.968701                            合同法\n",
      "13   0.96998                机动车交通事故责任强制保险条款\n",
      "14  0.989764  最高人民法院关于审理食品药品纠纷案件适用法律若干问题的规定\n",
      "15  0.991732                          产品质量法\n",
      "16  0.994094                       诉讼费用交纳办法\n",
      "17  0.993602                           民法总则\n",
      "18   0.99498        关于审理道路交通事故损害赔偿案件若干问题的解释\n",
      "19  0.995571                       消费者权益保护法\n"
     ]
    }
   ],
   "source": [
    "accuracy = np.array(accuracy)\n",
    "result = pd.DataFrame(np.vstack([accuracy[relevantlaw],Lawset4['law'][relevantlaw]]).T,columns=[\"accuracy\",\"law\"])\n",
    "print(result)"
   ]
  },
  {
   "cell_type": "code",
   "execution_count": 53,
   "metadata": {},
   "outputs": [],
   "source": [
    "result.to_csv('/Users/bailujia/Desktop/NLP/lspPrf.csv',index=False)"
   ]
  },
  {
   "cell_type": "code",
   "execution_count": 68,
   "metadata": {},
   "outputs": [
    {
     "data": {
      "text/plain": [
       "(20626, 49)"
      ]
     },
     "execution_count": 68,
     "metadata": {},
     "output_type": "execute_result"
    }
   ],
   "source": [
    "X_train.shape"
   ]
  },
  {
   "cell_type": "code",
   "execution_count": 125,
   "metadata": {},
   "outputs": [
    {
     "data": {
      "text/plain": [
       "Index(['机动车交通事故责任纠纷', '侵权责任纠纷', '产品责任纠纷', '提供劳务者受害责任纠纷', '产品销售者责任纠纷',\n",
       "       '原告_是否_法人', '原告_是否_自然人', '法院等级', '被告_是否_自然人', '被告_是否_法人', '被告_是否_其他'],\n",
       "      dtype='object')"
      ]
     },
     "execution_count": 125,
     "metadata": {},
     "output_type": "execute_result"
    }
   ],
   "source": [
    "X_train.columns[sel.get_support()]"
   ]
  },
  {
   "cell_type": "markdown",
   "metadata": {},
   "source": [
    "### Logistic Regression"
   ]
  },
  {
   "cell_type": "code",
   "execution_count": 39,
   "metadata": {
    "scrolled": true
   },
   "outputs": [
    {
     "name": "stdout",
     "output_type": "stream",
     "text": [
      "**Processing 0 comments...**\n",
      "**Processing 1 comments...**\n",
      "**Processing 2 comments...**\n",
      "**Processing 3 comments...**\n",
      "**Processing 4 comments...**\n"
     ]
    },
    {
     "name": "stderr",
     "output_type": "stream",
     "text": [
      "/anaconda3/lib/python3.7/site-packages/sklearn/multiclass.py:76: UserWarning: Label not 0.0 is present in all training examples.\n",
      "  str(classes[c]))\n"
     ]
    },
    {
     "name": "stdout",
     "output_type": "stream",
     "text": [
      "**Processing 5 comments...**\n",
      "**Processing 6 comments...**\n",
      "**Processing 7 comments...**\n"
     ]
    },
    {
     "name": "stderr",
     "output_type": "stream",
     "text": [
      "/anaconda3/lib/python3.7/site-packages/sklearn/linear_model/sag.py:334: ConvergenceWarning: The max_iter was reached which means the coef_ did not converge\n",
      "  \"the coef_ did not converge\", ConvergenceWarning)\n"
     ]
    },
    {
     "name": "stdout",
     "output_type": "stream",
     "text": [
      "**Processing 8 comments...**\n",
      "**Processing 9 comments...**\n",
      "**Processing 10 comments...**\n"
     ]
    },
    {
     "name": "stderr",
     "output_type": "stream",
     "text": [
      "/anaconda3/lib/python3.7/site-packages/sklearn/multiclass.py:76: UserWarning: Label not 0.0 is present in all training examples.\n",
      "  str(classes[c]))\n"
     ]
    },
    {
     "name": "stdout",
     "output_type": "stream",
     "text": [
      "**Processing 11 comments...**\n",
      "**Processing 12 comments...**\n",
      "**Processing 13 comments...**\n",
      "**Processing 14 comments...**\n",
      "**Processing 15 comments...**\n",
      "**Processing 16 comments...**\n",
      "**Processing 17 comments...**\n",
      "**Processing 18 comments...**\n",
      "**Processing 19 comments...**\n"
     ]
    },
    {
     "name": "stderr",
     "output_type": "stream",
     "text": [
      "/anaconda3/lib/python3.7/site-packages/sklearn/linear_model/sag.py:334: ConvergenceWarning: The max_iter was reached which means the coef_ did not converge\n",
      "  \"the coef_ did not converge\", ConvergenceWarning)\n"
     ]
    },
    {
     "name": "stdout",
     "output_type": "stream",
     "text": [
      "**Processing 20 comments...**\n",
      "**Processing 21 comments...**\n",
      "**Processing 22 comments...**\n",
      "**Processing 23 comments...**\n",
      "**Processing 24 comments...**\n",
      "**Processing 25 comments...**\n",
      "**Processing 26 comments...**\n",
      "**Processing 27 comments...**\n",
      "**Processing 28 comments...**\n"
     ]
    },
    {
     "name": "stderr",
     "output_type": "stream",
     "text": [
      "/anaconda3/lib/python3.7/site-packages/sklearn/multiclass.py:76: UserWarning: Label not 0.0 is present in all training examples.\n",
      "  str(classes[c]))\n"
     ]
    },
    {
     "name": "stdout",
     "output_type": "stream",
     "text": [
      "**Processing 29 comments...**\n",
      "**Processing 30 comments...**\n",
      "**Processing 31 comments...**\n",
      "**Processing 32 comments...**\n"
     ]
    },
    {
     "name": "stderr",
     "output_type": "stream",
     "text": [
      "/anaconda3/lib/python3.7/site-packages/sklearn/multiclass.py:76: UserWarning: Label not 0.0 is present in all training examples.\n",
      "  str(classes[c]))\n",
      "/anaconda3/lib/python3.7/site-packages/sklearn/multiclass.py:76: UserWarning: Label not 0.0 is present in all training examples.\n",
      "  str(classes[c]))\n"
     ]
    },
    {
     "name": "stdout",
     "output_type": "stream",
     "text": [
      "**Processing 33 comments...**\n",
      "**Processing 34 comments...**\n"
     ]
    },
    {
     "name": "stderr",
     "output_type": "stream",
     "text": [
      "/anaconda3/lib/python3.7/site-packages/sklearn/multiclass.py:76: UserWarning: Label not 0.0 is present in all training examples.\n",
      "  str(classes[c]))\n"
     ]
    },
    {
     "name": "stdout",
     "output_type": "stream",
     "text": [
      "**Processing 35 comments...**\n",
      "**Processing 36 comments...**\n",
      "**Processing 37 comments...**\n",
      "**Processing 38 comments...**\n",
      "**Processing 39 comments...**\n"
     ]
    },
    {
     "name": "stderr",
     "output_type": "stream",
     "text": [
      "/anaconda3/lib/python3.7/site-packages/sklearn/multiclass.py:76: UserWarning: Label not 0.0 is present in all training examples.\n",
      "  str(classes[c]))\n"
     ]
    },
    {
     "name": "stdout",
     "output_type": "stream",
     "text": [
      "**Processing 40 comments...**\n",
      "**Processing 41 comments...**\n",
      "**Processing 42 comments...**\n",
      "**Processing 43 comments...**\n",
      "**Processing 44 comments...**\n",
      "**Processing 45 comments...**\n"
     ]
    },
    {
     "name": "stderr",
     "output_type": "stream",
     "text": [
      "/anaconda3/lib/python3.7/site-packages/sklearn/multiclass.py:76: UserWarning: Label not 0.0 is present in all training examples.\n",
      "  str(classes[c]))\n",
      "/anaconda3/lib/python3.7/site-packages/sklearn/multiclass.py:76: UserWarning: Label not 0.0 is present in all training examples.\n",
      "  str(classes[c]))\n",
      "/anaconda3/lib/python3.7/site-packages/sklearn/multiclass.py:76: UserWarning: Label not 0.0 is present in all training examples.\n",
      "  str(classes[c]))\n",
      "/anaconda3/lib/python3.7/site-packages/sklearn/multiclass.py:76: UserWarning: Label not 0.0 is present in all training examples.\n",
      "  str(classes[c]))\n",
      "/anaconda3/lib/python3.7/site-packages/sklearn/multiclass.py:76: UserWarning: Label not 0.0 is present in all training examples.\n",
      "  str(classes[c]))\n"
     ]
    },
    {
     "name": "stdout",
     "output_type": "stream",
     "text": [
      "**Processing 46 comments...**\n",
      "**Processing 47 comments...**\n",
      "**Processing 48 comments...**\n",
      "**Processing 49 comments...**\n"
     ]
    },
    {
     "name": "stderr",
     "output_type": "stream",
     "text": [
      "/anaconda3/lib/python3.7/site-packages/sklearn/multiclass.py:76: UserWarning: Label not 0.0 is present in all training examples.\n",
      "  str(classes[c]))\n"
     ]
    },
    {
     "name": "stdout",
     "output_type": "stream",
     "text": [
      "**Processing 50 comments...**\n",
      "**Processing 51 comments...**\n",
      "**Processing 52 comments...**\n",
      "**Processing 53 comments...**\n",
      "**Processing 54 comments...**\n",
      "**Processing 55 comments...**\n",
      "**Processing 56 comments...**\n",
      "**Processing 57 comments...**\n",
      "**Processing 58 comments...**\n",
      "**Processing 59 comments...**\n"
     ]
    },
    {
     "name": "stderr",
     "output_type": "stream",
     "text": [
      "/anaconda3/lib/python3.7/site-packages/sklearn/multiclass.py:76: UserWarning: Label not 0.0 is present in all training examples.\n",
      "  str(classes[c]))\n",
      "/anaconda3/lib/python3.7/site-packages/sklearn/multiclass.py:76: UserWarning: Label not 0.0 is present in all training examples.\n",
      "  str(classes[c]))\n",
      "/anaconda3/lib/python3.7/site-packages/sklearn/multiclass.py:76: UserWarning: Label not 0.0 is present in all training examples.\n",
      "  str(classes[c]))\n",
      "/anaconda3/lib/python3.7/site-packages/sklearn/multiclass.py:76: UserWarning: Label not 0.0 is present in all training examples.\n",
      "  str(classes[c]))\n"
     ]
    },
    {
     "name": "stdout",
     "output_type": "stream",
     "text": [
      "**Processing 60 comments...**\n",
      "**Processing 61 comments...**\n"
     ]
    },
    {
     "name": "stderr",
     "output_type": "stream",
     "text": [
      "/anaconda3/lib/python3.7/site-packages/sklearn/multiclass.py:76: UserWarning: Label not 0.0 is present in all training examples.\n",
      "  str(classes[c]))\n"
     ]
    },
    {
     "name": "stdout",
     "output_type": "stream",
     "text": [
      "**Processing 62 comments...**\n",
      "**Processing 63 comments...**\n"
     ]
    },
    {
     "name": "stderr",
     "output_type": "stream",
     "text": [
      "/anaconda3/lib/python3.7/site-packages/sklearn/multiclass.py:76: UserWarning: Label not 0.0 is present in all training examples.\n",
      "  str(classes[c]))\n"
     ]
    },
    {
     "name": "stdout",
     "output_type": "stream",
     "text": [
      "**Processing 64 comments...**\n",
      "**Processing 65 comments...**\n"
     ]
    },
    {
     "name": "stderr",
     "output_type": "stream",
     "text": [
      "/anaconda3/lib/python3.7/site-packages/sklearn/multiclass.py:76: UserWarning: Label not 0.0 is present in all training examples.\n",
      "  str(classes[c]))\n"
     ]
    },
    {
     "name": "stdout",
     "output_type": "stream",
     "text": [
      "**Processing 66 comments...**\n",
      "**Processing 67 comments...**\n"
     ]
    },
    {
     "name": "stderr",
     "output_type": "stream",
     "text": [
      "/anaconda3/lib/python3.7/site-packages/sklearn/multiclass.py:76: UserWarning: Label not 0.0 is present in all training examples.\n",
      "  str(classes[c]))\n"
     ]
    },
    {
     "name": "stdout",
     "output_type": "stream",
     "text": [
      "**Processing 68 comments...**\n"
     ]
    },
    {
     "name": "stderr",
     "output_type": "stream",
     "text": [
      "/anaconda3/lib/python3.7/site-packages/sklearn/linear_model/sag.py:334: ConvergenceWarning: The max_iter was reached which means the coef_ did not converge\n",
      "  \"the coef_ did not converge\", ConvergenceWarning)\n"
     ]
    },
    {
     "name": "stdout",
     "output_type": "stream",
     "text": [
      "**Processing 69 comments...**\n",
      "**Processing 70 comments...**\n",
      "**Processing 71 comments...**\n",
      "**Processing 72 comments...**\n"
     ]
    },
    {
     "name": "stderr",
     "output_type": "stream",
     "text": [
      "/anaconda3/lib/python3.7/site-packages/sklearn/multiclass.py:76: UserWarning: Label not 0.0 is present in all training examples.\n",
      "  str(classes[c]))\n",
      "/anaconda3/lib/python3.7/site-packages/sklearn/linear_model/sag.py:334: ConvergenceWarning: The max_iter was reached which means the coef_ did not converge\n",
      "  \"the coef_ did not converge\", ConvergenceWarning)\n",
      "/anaconda3/lib/python3.7/site-packages/sklearn/multiclass.py:76: UserWarning: Label not 0.0 is present in all training examples.\n",
      "  str(classes[c]))\n"
     ]
    },
    {
     "name": "stdout",
     "output_type": "stream",
     "text": [
      "**Processing 73 comments...**\n",
      "**Processing 74 comments...**\n"
     ]
    },
    {
     "name": "stderr",
     "output_type": "stream",
     "text": [
      "/anaconda3/lib/python3.7/site-packages/sklearn/linear_model/sag.py:334: ConvergenceWarning: The max_iter was reached which means the coef_ did not converge\n",
      "  \"the coef_ did not converge\", ConvergenceWarning)\n",
      "/anaconda3/lib/python3.7/site-packages/sklearn/multiclass.py:76: UserWarning: Label not 0.0 is present in all training examples.\n",
      "  str(classes[c]))\n",
      "/anaconda3/lib/python3.7/site-packages/sklearn/multiclass.py:76: UserWarning: Label not 0.0 is present in all training examples.\n",
      "  str(classes[c]))\n",
      "/anaconda3/lib/python3.7/site-packages/sklearn/multiclass.py:76: UserWarning: Label not 0.0 is present in all training examples.\n",
      "  str(classes[c]))\n"
     ]
    },
    {
     "name": "stdout",
     "output_type": "stream",
     "text": [
      "**Processing 75 comments...**\n",
      "**Processing 76 comments...**\n",
      "**Processing 77 comments...**\n",
      "**Processing 78 comments...**\n",
      "**Processing 79 comments...**\n",
      "**Processing 80 comments...**\n"
     ]
    },
    {
     "name": "stderr",
     "output_type": "stream",
     "text": [
      "/anaconda3/lib/python3.7/site-packages/sklearn/multiclass.py:76: UserWarning: Label not 0.0 is present in all training examples.\n",
      "  str(classes[c]))\n"
     ]
    },
    {
     "name": "stdout",
     "output_type": "stream",
     "text": [
      "**Processing 81 comments...**\n",
      "**Processing 82 comments...**\n",
      "**Processing 83 comments...**\n",
      "**Processing 84 comments...**\n",
      "**Processing 85 comments...**\n",
      "**Processing 86 comments...**\n"
     ]
    },
    {
     "name": "stderr",
     "output_type": "stream",
     "text": [
      "/anaconda3/lib/python3.7/site-packages/sklearn/multiclass.py:76: UserWarning: Label not 0.0 is present in all training examples.\n",
      "  str(classes[c]))\n",
      "/anaconda3/lib/python3.7/site-packages/sklearn/multiclass.py:76: UserWarning: Label not 0.0 is present in all training examples.\n",
      "  str(classes[c]))\n",
      "/anaconda3/lib/python3.7/site-packages/sklearn/multiclass.py:76: UserWarning: Label not 0.0 is present in all training examples.\n",
      "  str(classes[c]))\n",
      "/anaconda3/lib/python3.7/site-packages/sklearn/multiclass.py:76: UserWarning: Label not 0.0 is present in all training examples.\n",
      "  str(classes[c]))\n",
      "/anaconda3/lib/python3.7/site-packages/sklearn/multiclass.py:76: UserWarning: Label not 0.0 is present in all training examples.\n",
      "  str(classes[c]))\n"
     ]
    },
    {
     "name": "stdout",
     "output_type": "stream",
     "text": [
      "**Processing 87 comments...**\n",
      "**Processing 88 comments...**\n",
      "**Processing 89 comments...**\n",
      "**Processing 90 comments...**\n"
     ]
    },
    {
     "name": "stderr",
     "output_type": "stream",
     "text": [
      "/anaconda3/lib/python3.7/site-packages/sklearn/multiclass.py:76: UserWarning: Label not 0.0 is present in all training examples.\n",
      "  str(classes[c]))\n"
     ]
    },
    {
     "name": "stdout",
     "output_type": "stream",
     "text": [
      "**Processing 91 comments...**\n"
     ]
    },
    {
     "name": "stderr",
     "output_type": "stream",
     "text": [
      "/anaconda3/lib/python3.7/site-packages/sklearn/linear_model/sag.py:334: ConvergenceWarning: The max_iter was reached which means the coef_ did not converge\n",
      "  \"the coef_ did not converge\", ConvergenceWarning)\n",
      "/anaconda3/lib/python3.7/site-packages/sklearn/multiclass.py:76: UserWarning: Label not 0.0 is present in all training examples.\n",
      "  str(classes[c]))\n",
      "/anaconda3/lib/python3.7/site-packages/sklearn/multiclass.py:76: UserWarning: Label not 0.0 is present in all training examples.\n",
      "  str(classes[c]))\n"
     ]
    },
    {
     "name": "stdout",
     "output_type": "stream",
     "text": [
      "**Processing 92 comments...**\n",
      "**Processing 93 comments...**\n",
      "**Processing 94 comments...**\n",
      "**Processing 95 comments...**\n",
      "**Processing 96 comments...**\n"
     ]
    },
    {
     "name": "stderr",
     "output_type": "stream",
     "text": [
      "/anaconda3/lib/python3.7/site-packages/sklearn/multiclass.py:76: UserWarning: Label not 0.0 is present in all training examples.\n",
      "  str(classes[c]))\n"
     ]
    },
    {
     "name": "stdout",
     "output_type": "stream",
     "text": [
      "**Processing 97 comments...**\n",
      "**Processing 98 comments...**\n",
      "**Processing 99 comments...**\n"
     ]
    },
    {
     "name": "stderr",
     "output_type": "stream",
     "text": [
      "/anaconda3/lib/python3.7/site-packages/sklearn/multiclass.py:76: UserWarning: Label not 0.0 is present in all training examples.\n",
      "  str(classes[c]))\n",
      "/anaconda3/lib/python3.7/site-packages/sklearn/multiclass.py:76: UserWarning: Label not 0.0 is present in all training examples.\n",
      "  str(classes[c]))\n",
      "/anaconda3/lib/python3.7/site-packages/sklearn/linear_model/sag.py:334: ConvergenceWarning: The max_iter was reached which means the coef_ did not converge\n",
      "  \"the coef_ did not converge\", ConvergenceWarning)\n",
      "/anaconda3/lib/python3.7/site-packages/sklearn/multiclass.py:76: UserWarning: Label not 0.0 is present in all training examples.\n",
      "  str(classes[c]))\n"
     ]
    },
    {
     "name": "stdout",
     "output_type": "stream",
     "text": [
      "**Processing 100 comments...**\n",
      "**Processing 101 comments...**\n",
      "**Processing 102 comments...**\n",
      "**Processing 103 comments...**\n",
      "**Processing 104 comments...**\n",
      "**Processing 105 comments...**\n"
     ]
    },
    {
     "name": "stderr",
     "output_type": "stream",
     "text": [
      "/anaconda3/lib/python3.7/site-packages/sklearn/multiclass.py:76: UserWarning: Label not 0.0 is present in all training examples.\n",
      "  str(classes[c]))\n"
     ]
    },
    {
     "name": "stdout",
     "output_type": "stream",
     "text": [
      "**Processing 106 comments...**\n",
      "**Processing 107 comments...**\n",
      "**Processing 108 comments...**\n"
     ]
    },
    {
     "name": "stderr",
     "output_type": "stream",
     "text": [
      "/anaconda3/lib/python3.7/site-packages/sklearn/multiclass.py:76: UserWarning: Label not 0.0 is present in all training examples.\n",
      "  str(classes[c]))\n"
     ]
    },
    {
     "name": "stdout",
     "output_type": "stream",
     "text": [
      "**Processing 109 comments...**\n",
      "**Processing 110 comments...**\n"
     ]
    },
    {
     "name": "stderr",
     "output_type": "stream",
     "text": [
      "/anaconda3/lib/python3.7/site-packages/sklearn/multiclass.py:76: UserWarning: Label not 0.0 is present in all training examples.\n",
      "  str(classes[c]))\n",
      "/anaconda3/lib/python3.7/site-packages/sklearn/linear_model/sag.py:334: ConvergenceWarning: The max_iter was reached which means the coef_ did not converge\n",
      "  \"the coef_ did not converge\", ConvergenceWarning)\n",
      "/anaconda3/lib/python3.7/site-packages/sklearn/multiclass.py:76: UserWarning: Label not 0.0 is present in all training examples.\n",
      "  str(classes[c]))\n",
      "/anaconda3/lib/python3.7/site-packages/sklearn/multiclass.py:76: UserWarning: Label not 0.0 is present in all training examples.\n",
      "  str(classes[c]))\n",
      "/anaconda3/lib/python3.7/site-packages/sklearn/multiclass.py:76: UserWarning: Label not 0.0 is present in all training examples.\n",
      "  str(classes[c]))\n",
      "/anaconda3/lib/python3.7/site-packages/sklearn/multiclass.py:76: UserWarning: Label not 0.0 is present in all training examples.\n",
      "  str(classes[c]))\n",
      "/anaconda3/lib/python3.7/site-packages/sklearn/multiclass.py:76: UserWarning: Label not 0.0 is present in all training examples.\n",
      "  str(classes[c]))\n",
      "/anaconda3/lib/python3.7/site-packages/sklearn/multiclass.py:76: UserWarning: Label not 0.0 is present in all training examples.\n",
      "  str(classes[c]))\n",
      "/anaconda3/lib/python3.7/site-packages/sklearn/multiclass.py:76: UserWarning: Label not 0.0 is present in all training examples.\n",
      "  str(classes[c]))\n",
      "/anaconda3/lib/python3.7/site-packages/sklearn/multiclass.py:76: UserWarning: Label not 0.0 is present in all training examples.\n",
      "  str(classes[c]))\n",
      "/anaconda3/lib/python3.7/site-packages/sklearn/multiclass.py:76: UserWarning: Label not 0.0 is present in all training examples.\n",
      "  str(classes[c]))\n",
      "/anaconda3/lib/python3.7/site-packages/sklearn/multiclass.py:76: UserWarning: Label not 0.0 is present in all training examples.\n",
      "  str(classes[c]))\n"
     ]
    },
    {
     "name": "stdout",
     "output_type": "stream",
     "text": [
      "**Processing 111 comments...**\n",
      "**Processing 112 comments...**\n",
      "**Processing 113 comments...**\n",
      "**Processing 114 comments...**\n",
      "**Processing 115 comments...**\n",
      "**Processing 116 comments...**\n",
      "**Processing 117 comments...**\n",
      "**Processing 118 comments...**\n",
      "**Processing 119 comments...**\n",
      "**Processing 120 comments...**\n",
      "**Processing 121 comments...**\n"
     ]
    },
    {
     "name": "stderr",
     "output_type": "stream",
     "text": [
      "/anaconda3/lib/python3.7/site-packages/sklearn/linear_model/sag.py:334: ConvergenceWarning: The max_iter was reached which means the coef_ did not converge\n",
      "  \"the coef_ did not converge\", ConvergenceWarning)\n"
     ]
    },
    {
     "name": "stdout",
     "output_type": "stream",
     "text": [
      "**Processing 122 comments...**\n"
     ]
    },
    {
     "name": "stderr",
     "output_type": "stream",
     "text": [
      "/anaconda3/lib/python3.7/site-packages/sklearn/linear_model/sag.py:334: ConvergenceWarning: The max_iter was reached which means the coef_ did not converge\n",
      "  \"the coef_ did not converge\", ConvergenceWarning)\n",
      "/anaconda3/lib/python3.7/site-packages/sklearn/multiclass.py:76: UserWarning: Label not 0.0 is present in all training examples.\n",
      "  str(classes[c]))\n",
      "/anaconda3/lib/python3.7/site-packages/sklearn/multiclass.py:76: UserWarning: Label not 0.0 is present in all training examples.\n",
      "  str(classes[c]))\n"
     ]
    },
    {
     "name": "stdout",
     "output_type": "stream",
     "text": [
      "**Processing 123 comments...**\n",
      "**Processing 124 comments...**\n",
      "**Processing 125 comments...**\n",
      "**Processing 126 comments...**\n",
      "**Processing 127 comments...**\n"
     ]
    },
    {
     "name": "stderr",
     "output_type": "stream",
     "text": [
      "/anaconda3/lib/python3.7/site-packages/sklearn/multiclass.py:76: UserWarning: Label not 0.0 is present in all training examples.\n",
      "  str(classes[c]))\n"
     ]
    },
    {
     "name": "stdout",
     "output_type": "stream",
     "text": [
      "**Processing 128 comments...**\n",
      "**Processing 129 comments...**\n",
      "**Processing 130 comments...**\n"
     ]
    },
    {
     "name": "stderr",
     "output_type": "stream",
     "text": [
      "/anaconda3/lib/python3.7/site-packages/sklearn/multiclass.py:76: UserWarning: Label not 0.0 is present in all training examples.\n",
      "  str(classes[c]))\n",
      "/anaconda3/lib/python3.7/site-packages/sklearn/multiclass.py:76: UserWarning: Label not 0.0 is present in all training examples.\n",
      "  str(classes[c]))\n"
     ]
    },
    {
     "name": "stdout",
     "output_type": "stream",
     "text": [
      "**Processing 131 comments...**\n",
      "**Processing 132 comments...**\n",
      "**Processing 133 comments...**\n"
     ]
    },
    {
     "name": "stderr",
     "output_type": "stream",
     "text": [
      "/anaconda3/lib/python3.7/site-packages/sklearn/multiclass.py:76: UserWarning: Label not 0.0 is present in all training examples.\n",
      "  str(classes[c]))\n",
      "/anaconda3/lib/python3.7/site-packages/sklearn/multiclass.py:76: UserWarning: Label not 0.0 is present in all training examples.\n",
      "  str(classes[c]))\n"
     ]
    },
    {
     "name": "stdout",
     "output_type": "stream",
     "text": [
      "**Processing 134 comments...**\n",
      "**Processing 135 comments...**\n"
     ]
    },
    {
     "name": "stderr",
     "output_type": "stream",
     "text": [
      "/anaconda3/lib/python3.7/site-packages/sklearn/multiclass.py:76: UserWarning: Label not 0.0 is present in all training examples.\n",
      "  str(classes[c]))\n"
     ]
    },
    {
     "name": "stdout",
     "output_type": "stream",
     "text": [
      "**Processing 136 comments...**\n",
      "**Processing 137 comments...**\n",
      "**Processing 138 comments...**\n"
     ]
    },
    {
     "name": "stderr",
     "output_type": "stream",
     "text": [
      "/anaconda3/lib/python3.7/site-packages/sklearn/multiclass.py:76: UserWarning: Label not 0.0 is present in all training examples.\n",
      "  str(classes[c]))\n",
      "/anaconda3/lib/python3.7/site-packages/sklearn/multiclass.py:76: UserWarning: Label not 0.0 is present in all training examples.\n",
      "  str(classes[c]))\n"
     ]
    },
    {
     "name": "stdout",
     "output_type": "stream",
     "text": [
      "**Processing 139 comments...**\n",
      "**Processing 140 comments...**\n",
      "**Processing 141 comments...**\n",
      "**Processing 142 comments...**\n"
     ]
    },
    {
     "name": "stderr",
     "output_type": "stream",
     "text": [
      "/anaconda3/lib/python3.7/site-packages/sklearn/multiclass.py:76: UserWarning: Label not 0.0 is present in all training examples.\n",
      "  str(classes[c]))\n",
      "/anaconda3/lib/python3.7/site-packages/sklearn/multiclass.py:76: UserWarning: Label not 0.0 is present in all training examples.\n",
      "  str(classes[c]))\n",
      "/anaconda3/lib/python3.7/site-packages/sklearn/multiclass.py:76: UserWarning: Label not 0.0 is present in all training examples.\n",
      "  str(classes[c]))\n"
     ]
    },
    {
     "name": "stdout",
     "output_type": "stream",
     "text": [
      "**Processing 143 comments...**\n",
      "**Processing 144 comments...**\n"
     ]
    },
    {
     "name": "stderr",
     "output_type": "stream",
     "text": [
      "/anaconda3/lib/python3.7/site-packages/sklearn/multiclass.py:76: UserWarning: Label not 0.0 is present in all training examples.\n",
      "  str(classes[c]))\n"
     ]
    },
    {
     "name": "stdout",
     "output_type": "stream",
     "text": [
      "**Processing 145 comments...**\n"
     ]
    },
    {
     "name": "stderr",
     "output_type": "stream",
     "text": [
      "/anaconda3/lib/python3.7/site-packages/sklearn/linear_model/sag.py:334: ConvergenceWarning: The max_iter was reached which means the coef_ did not converge\n",
      "  \"the coef_ did not converge\", ConvergenceWarning)\n"
     ]
    },
    {
     "name": "stdout",
     "output_type": "stream",
     "text": [
      "**Processing 146 comments...**\n",
      "**Processing 147 comments...**\n",
      "**Processing 148 comments...**\n",
      "**Processing 149 comments...**\n",
      "**Processing 150 comments...**\n",
      "**Processing 151 comments...**\n"
     ]
    },
    {
     "name": "stderr",
     "output_type": "stream",
     "text": [
      "/anaconda3/lib/python3.7/site-packages/sklearn/multiclass.py:76: UserWarning: Label not 0.0 is present in all training examples.\n",
      "  str(classes[c]))\n"
     ]
    },
    {
     "name": "stdout",
     "output_type": "stream",
     "text": [
      "**Processing 152 comments...**\n",
      "**Processing 153 comments...**\n"
     ]
    },
    {
     "name": "stderr",
     "output_type": "stream",
     "text": [
      "/anaconda3/lib/python3.7/site-packages/sklearn/multiclass.py:76: UserWarning: Label not 0.0 is present in all training examples.\n",
      "  str(classes[c]))\n"
     ]
    },
    {
     "name": "stdout",
     "output_type": "stream",
     "text": [
      "**Processing 154 comments...**\n",
      "**Processing 155 comments...**\n",
      "**Processing 156 comments...**\n"
     ]
    },
    {
     "name": "stderr",
     "output_type": "stream",
     "text": [
      "/anaconda3/lib/python3.7/site-packages/sklearn/multiclass.py:76: UserWarning: Label not 0.0 is present in all training examples.\n",
      "  str(classes[c]))\n"
     ]
    },
    {
     "name": "stdout",
     "output_type": "stream",
     "text": [
      "**Processing 157 comments...**\n",
      "**Processing 158 comments...**\n",
      "**Processing 159 comments...**\n",
      "**Processing 160 comments...**\n",
      "**Processing 161 comments...**\n"
     ]
    },
    {
     "name": "stderr",
     "output_type": "stream",
     "text": [
      "/anaconda3/lib/python3.7/site-packages/sklearn/multiclass.py:76: UserWarning: Label not 0.0 is present in all training examples.\n",
      "  str(classes[c]))\n",
      "/anaconda3/lib/python3.7/site-packages/sklearn/linear_model/sag.py:334: ConvergenceWarning: The max_iter was reached which means the coef_ did not converge\n",
      "  \"the coef_ did not converge\", ConvergenceWarning)\n",
      "/anaconda3/lib/python3.7/site-packages/sklearn/multiclass.py:76: UserWarning: Label not 0.0 is present in all training examples.\n",
      "  str(classes[c]))\n",
      "/anaconda3/lib/python3.7/site-packages/sklearn/multiclass.py:76: UserWarning: Label not 0.0 is present in all training examples.\n",
      "  str(classes[c]))\n"
     ]
    },
    {
     "name": "stdout",
     "output_type": "stream",
     "text": [
      "**Processing 162 comments...**\n",
      "**Processing 163 comments...**\n",
      "**Processing 164 comments...**\n",
      "**Processing 165 comments...**\n",
      "**Processing 166 comments...**\n",
      "**Processing 167 comments...**\n",
      "**Processing 168 comments...**\n",
      "**Processing 169 comments...**\n",
      "**Processing 170 comments...**\n",
      "**Processing 171 comments...**\n",
      "**Processing 172 comments...**\n",
      "**Processing 173 comments...**\n",
      "**Processing 174 comments...**\n",
      "**Processing 175 comments...**\n",
      "**Processing 176 comments...**\n",
      "**Processing 177 comments...**\n",
      "**Processing 178 comments...**\n",
      "**Processing 179 comments...**\n",
      "**Processing 180 comments...**\n"
     ]
    },
    {
     "name": "stderr",
     "output_type": "stream",
     "text": [
      "/anaconda3/lib/python3.7/site-packages/sklearn/multiclass.py:76: UserWarning: Label not 0.0 is present in all training examples.\n",
      "  str(classes[c]))\n",
      "/anaconda3/lib/python3.7/site-packages/sklearn/multiclass.py:76: UserWarning: Label not 0.0 is present in all training examples.\n",
      "  str(classes[c]))\n",
      "/anaconda3/lib/python3.7/site-packages/sklearn/multiclass.py:76: UserWarning: Label not 0.0 is present in all training examples.\n",
      "  str(classes[c]))\n",
      "/anaconda3/lib/python3.7/site-packages/sklearn/multiclass.py:76: UserWarning: Label not 0.0 is present in all training examples.\n",
      "  str(classes[c]))\n",
      "/anaconda3/lib/python3.7/site-packages/sklearn/multiclass.py:76: UserWarning: Label not 0.0 is present in all training examples.\n",
      "  str(classes[c]))\n",
      "/anaconda3/lib/python3.7/site-packages/sklearn/multiclass.py:76: UserWarning: Label not 0.0 is present in all training examples.\n",
      "  str(classes[c]))\n",
      "/anaconda3/lib/python3.7/site-packages/sklearn/multiclass.py:76: UserWarning: Label not 0.0 is present in all training examples.\n",
      "  str(classes[c]))\n",
      "/anaconda3/lib/python3.7/site-packages/sklearn/multiclass.py:76: UserWarning: Label not 0.0 is present in all training examples.\n",
      "  str(classes[c]))\n",
      "/anaconda3/lib/python3.7/site-packages/sklearn/multiclass.py:76: UserWarning: Label not 0.0 is present in all training examples.\n",
      "  str(classes[c]))\n",
      "/anaconda3/lib/python3.7/site-packages/sklearn/multiclass.py:76: UserWarning: Label not 0.0 is present in all training examples.\n",
      "  str(classes[c]))\n",
      "/anaconda3/lib/python3.7/site-packages/sklearn/multiclass.py:76: UserWarning: Label not 0.0 is present in all training examples.\n",
      "  str(classes[c]))\n",
      "/anaconda3/lib/python3.7/site-packages/sklearn/multiclass.py:76: UserWarning: Label not 0.0 is present in all training examples.\n",
      "  str(classes[c]))\n",
      "/anaconda3/lib/python3.7/site-packages/sklearn/multiclass.py:76: UserWarning: Label not 0.0 is present in all training examples.\n",
      "  str(classes[c]))\n",
      "/anaconda3/lib/python3.7/site-packages/sklearn/multiclass.py:76: UserWarning: Label not 0.0 is present in all training examples.\n",
      "  str(classes[c]))\n"
     ]
    },
    {
     "name": "stdout",
     "output_type": "stream",
     "text": [
      "**Processing 181 comments...**\n",
      "**Processing 182 comments...**\n"
     ]
    },
    {
     "name": "stderr",
     "output_type": "stream",
     "text": [
      "/anaconda3/lib/python3.7/site-packages/sklearn/multiclass.py:76: UserWarning: Label not 0.0 is present in all training examples.\n",
      "  str(classes[c]))\n"
     ]
    },
    {
     "name": "stdout",
     "output_type": "stream",
     "text": [
      "**Processing 183 comments...**\n",
      "**Processing 184 comments...**\n",
      "**Processing 185 comments...**\n",
      "**Processing 186 comments...**\n"
     ]
    },
    {
     "name": "stderr",
     "output_type": "stream",
     "text": [
      "/anaconda3/lib/python3.7/site-packages/sklearn/multiclass.py:76: UserWarning: Label not 0.0 is present in all training examples.\n",
      "  str(classes[c]))\n",
      "/anaconda3/lib/python3.7/site-packages/sklearn/multiclass.py:76: UserWarning: Label not 0.0 is present in all training examples.\n",
      "  str(classes[c]))\n"
     ]
    },
    {
     "name": "stdout",
     "output_type": "stream",
     "text": [
      "**Processing 187 comments...**\n"
     ]
    },
    {
     "name": "stderr",
     "output_type": "stream",
     "text": [
      "/anaconda3/lib/python3.7/site-packages/sklearn/linear_model/sag.py:334: ConvergenceWarning: The max_iter was reached which means the coef_ did not converge\n",
      "  \"the coef_ did not converge\", ConvergenceWarning)\n"
     ]
    },
    {
     "name": "stdout",
     "output_type": "stream",
     "text": [
      "**Processing 188 comments...**\n",
      "**Processing 189 comments...**\n",
      "**Processing 190 comments...**\n",
      "**Processing 191 comments...**\n",
      "**Processing 192 comments...**\n"
     ]
    },
    {
     "name": "stderr",
     "output_type": "stream",
     "text": [
      "/anaconda3/lib/python3.7/site-packages/sklearn/multiclass.py:76: UserWarning: Label not 0.0 is present in all training examples.\n",
      "  str(classes[c]))\n",
      "/anaconda3/lib/python3.7/site-packages/sklearn/multiclass.py:76: UserWarning: Label not 0.0 is present in all training examples.\n",
      "  str(classes[c]))\n",
      "/anaconda3/lib/python3.7/site-packages/sklearn/multiclass.py:76: UserWarning: Label not 0.0 is present in all training examples.\n",
      "  str(classes[c]))\n"
     ]
    },
    {
     "name": "stdout",
     "output_type": "stream",
     "text": [
      "**Processing 193 comments...**\n",
      "**Processing 194 comments...**\n"
     ]
    },
    {
     "name": "stderr",
     "output_type": "stream",
     "text": [
      "/anaconda3/lib/python3.7/site-packages/sklearn/multiclass.py:76: UserWarning: Label not 0.0 is present in all training examples.\n",
      "  str(classes[c]))\n"
     ]
    },
    {
     "name": "stdout",
     "output_type": "stream",
     "text": [
      "**Processing 195 comments...**\n",
      "**Processing 196 comments...**\n",
      "**Processing 197 comments...**\n"
     ]
    },
    {
     "name": "stderr",
     "output_type": "stream",
     "text": [
      "/anaconda3/lib/python3.7/site-packages/sklearn/multiclass.py:76: UserWarning: Label not 0.0 is present in all training examples.\n",
      "  str(classes[c]))\n",
      "/anaconda3/lib/python3.7/site-packages/sklearn/multiclass.py:76: UserWarning: Label not 0.0 is present in all training examples.\n",
      "  str(classes[c]))\n"
     ]
    },
    {
     "name": "stdout",
     "output_type": "stream",
     "text": [
      "**Processing 198 comments...**\n"
     ]
    },
    {
     "name": "stderr",
     "output_type": "stream",
     "text": [
      "/anaconda3/lib/python3.7/site-packages/sklearn/linear_model/sag.py:334: ConvergenceWarning: The max_iter was reached which means the coef_ did not converge\n",
      "  \"the coef_ did not converge\", ConvergenceWarning)\n",
      "/anaconda3/lib/python3.7/site-packages/sklearn/multiclass.py:76: UserWarning: Label not 0.0 is present in all training examples.\n",
      "  str(classes[c]))\n",
      "/anaconda3/lib/python3.7/site-packages/sklearn/multiclass.py:76: UserWarning: Label not 0.0 is present in all training examples.\n",
      "  str(classes[c]))\n"
     ]
    },
    {
     "name": "stdout",
     "output_type": "stream",
     "text": [
      "**Processing 199 comments...**\n",
      "**Processing 200 comments...**\n",
      "**Processing 201 comments...**\n",
      "**Processing 202 comments...**\n"
     ]
    },
    {
     "name": "stderr",
     "output_type": "stream",
     "text": [
      "/anaconda3/lib/python3.7/site-packages/sklearn/linear_model/sag.py:334: ConvergenceWarning: The max_iter was reached which means the coef_ did not converge\n",
      "  \"the coef_ did not converge\", ConvergenceWarning)\n",
      "/anaconda3/lib/python3.7/site-packages/sklearn/multiclass.py:76: UserWarning: Label not 0.0 is present in all training examples.\n",
      "  str(classes[c]))\n"
     ]
    },
    {
     "name": "stdout",
     "output_type": "stream",
     "text": [
      "**Processing 203 comments...**\n",
      "**Processing 204 comments...**\n",
      "**Processing 205 comments...**\n"
     ]
    },
    {
     "name": "stderr",
     "output_type": "stream",
     "text": [
      "/anaconda3/lib/python3.7/site-packages/sklearn/linear_model/sag.py:334: ConvergenceWarning: The max_iter was reached which means the coef_ did not converge\n",
      "  \"the coef_ did not converge\", ConvergenceWarning)\n",
      "/anaconda3/lib/python3.7/site-packages/sklearn/multiclass.py:76: UserWarning: Label not 0.0 is present in all training examples.\n",
      "  str(classes[c]))\n",
      "/anaconda3/lib/python3.7/site-packages/sklearn/multiclass.py:76: UserWarning: Label not 0.0 is present in all training examples.\n",
      "  str(classes[c]))\n"
     ]
    },
    {
     "name": "stdout",
     "output_type": "stream",
     "text": [
      "**Processing 206 comments...**\n",
      "**Processing 207 comments...**\n",
      "**Processing 208 comments...**\n",
      "**Processing 209 comments...**\n",
      "**Processing 210 comments...**\n",
      "**Processing 211 comments...**\n"
     ]
    },
    {
     "name": "stderr",
     "output_type": "stream",
     "text": [
      "/anaconda3/lib/python3.7/site-packages/sklearn/multiclass.py:76: UserWarning: Label not 0.0 is present in all training examples.\n",
      "  str(classes[c]))\n"
     ]
    },
    {
     "name": "stdout",
     "output_type": "stream",
     "text": [
      "**Processing 212 comments...**\n",
      "**Processing 213 comments...**\n",
      "**Processing 214 comments...**\n",
      "**Processing 215 comments...**\n",
      "**Processing 216 comments...**\n"
     ]
    },
    {
     "name": "stderr",
     "output_type": "stream",
     "text": [
      "/anaconda3/lib/python3.7/site-packages/sklearn/multiclass.py:76: UserWarning: Label not 0.0 is present in all training examples.\n",
      "  str(classes[c]))\n",
      "/anaconda3/lib/python3.7/site-packages/sklearn/multiclass.py:76: UserWarning: Label not 0.0 is present in all training examples.\n",
      "  str(classes[c]))\n",
      "/anaconda3/lib/python3.7/site-packages/sklearn/multiclass.py:76: UserWarning: Label not 0.0 is present in all training examples.\n",
      "  str(classes[c]))\n",
      "/anaconda3/lib/python3.7/site-packages/sklearn/multiclass.py:76: UserWarning: Label not 0.0 is present in all training examples.\n",
      "  str(classes[c]))\n"
     ]
    },
    {
     "name": "stdout",
     "output_type": "stream",
     "text": [
      "**Processing 217 comments...**\n",
      "**Processing 218 comments...**\n",
      "**Processing 219 comments...**\n",
      "**Processing 220 comments...**\n"
     ]
    },
    {
     "name": "stderr",
     "output_type": "stream",
     "text": [
      "/anaconda3/lib/python3.7/site-packages/sklearn/multiclass.py:76: UserWarning: Label not 0.0 is present in all training examples.\n",
      "  str(classes[c]))\n",
      "/anaconda3/lib/python3.7/site-packages/sklearn/multiclass.py:76: UserWarning: Label not 0.0 is present in all training examples.\n",
      "  str(classes[c]))\n",
      "/anaconda3/lib/python3.7/site-packages/sklearn/multiclass.py:76: UserWarning: Label not 0.0 is present in all training examples.\n",
      "  str(classes[c]))\n"
     ]
    },
    {
     "name": "stdout",
     "output_type": "stream",
     "text": [
      "**Processing 221 comments...**\n",
      "**Processing 222 comments...**\n"
     ]
    },
    {
     "name": "stderr",
     "output_type": "stream",
     "text": [
      "/anaconda3/lib/python3.7/site-packages/sklearn/multiclass.py:76: UserWarning: Label not 0.0 is present in all training examples.\n",
      "  str(classes[c]))\n"
     ]
    },
    {
     "name": "stdout",
     "output_type": "stream",
     "text": [
      "**Processing 223 comments...**\n",
      "**Processing 224 comments...**\n",
      "**Processing 225 comments...**\n"
     ]
    },
    {
     "name": "stderr",
     "output_type": "stream",
     "text": [
      "/anaconda3/lib/python3.7/site-packages/sklearn/multiclass.py:76: UserWarning: Label not 0.0 is present in all training examples.\n",
      "  str(classes[c]))\n",
      "/anaconda3/lib/python3.7/site-packages/sklearn/multiclass.py:76: UserWarning: Label not 0.0 is present in all training examples.\n",
      "  str(classes[c]))\n"
     ]
    },
    {
     "name": "stdout",
     "output_type": "stream",
     "text": [
      "**Processing 226 comments...**\n",
      "**Processing 227 comments...**\n",
      "**Processing 228 comments...**\n"
     ]
    },
    {
     "name": "stderr",
     "output_type": "stream",
     "text": [
      "/anaconda3/lib/python3.7/site-packages/sklearn/multiclass.py:76: UserWarning: Label not 0.0 is present in all training examples.\n",
      "  str(classes[c]))\n",
      "/anaconda3/lib/python3.7/site-packages/sklearn/multiclass.py:76: UserWarning: Label not 0.0 is present in all training examples.\n",
      "  str(classes[c]))\n"
     ]
    },
    {
     "name": "stdout",
     "output_type": "stream",
     "text": [
      "**Processing 229 comments...**\n",
      "**Processing 230 comments...**\n",
      "**Processing 231 comments...**\n",
      "**Processing 232 comments...**\n",
      "**Processing 233 comments...**\n",
      "**Processing 234 comments...**\n",
      "**Processing 235 comments...**\n",
      "**Processing 236 comments...**\n",
      "**Processing 237 comments...**\n"
     ]
    },
    {
     "name": "stderr",
     "output_type": "stream",
     "text": [
      "/anaconda3/lib/python3.7/site-packages/sklearn/multiclass.py:76: UserWarning: Label not 0.0 is present in all training examples.\n",
      "  str(classes[c]))\n",
      "/anaconda3/lib/python3.7/site-packages/sklearn/multiclass.py:76: UserWarning: Label not 0.0 is present in all training examples.\n",
      "  str(classes[c]))\n",
      "/anaconda3/lib/python3.7/site-packages/sklearn/multiclass.py:76: UserWarning: Label not 0.0 is present in all training examples.\n",
      "  str(classes[c]))\n",
      "/anaconda3/lib/python3.7/site-packages/sklearn/multiclass.py:76: UserWarning: Label not 0.0 is present in all training examples.\n",
      "  str(classes[c]))\n",
      "/anaconda3/lib/python3.7/site-packages/sklearn/multiclass.py:76: UserWarning: Label not 0.0 is present in all training examples.\n",
      "  str(classes[c]))\n",
      "/anaconda3/lib/python3.7/site-packages/sklearn/multiclass.py:76: UserWarning: Label not 0.0 is present in all training examples.\n",
      "  str(classes[c]))\n",
      "/anaconda3/lib/python3.7/site-packages/sklearn/multiclass.py:76: UserWarning: Label not 0.0 is present in all training examples.\n",
      "  str(classes[c]))\n",
      "/anaconda3/lib/python3.7/site-packages/sklearn/multiclass.py:76: UserWarning: Label not 0.0 is present in all training examples.\n",
      "  str(classes[c]))\n",
      "/anaconda3/lib/python3.7/site-packages/sklearn/linear_model/sag.py:334: ConvergenceWarning: The max_iter was reached which means the coef_ did not converge\n",
      "  \"the coef_ did not converge\", ConvergenceWarning)\n",
      "/anaconda3/lib/python3.7/site-packages/sklearn/multiclass.py:76: UserWarning: Label not 0.0 is present in all training examples.\n",
      "  str(classes[c]))\n"
     ]
    },
    {
     "name": "stdout",
     "output_type": "stream",
     "text": [
      "**Processing 238 comments...**\n",
      "**Processing 239 comments...**\n"
     ]
    },
    {
     "name": "stderr",
     "output_type": "stream",
     "text": [
      "/anaconda3/lib/python3.7/site-packages/sklearn/linear_model/sag.py:334: ConvergenceWarning: The max_iter was reached which means the coef_ did not converge\n",
      "  \"the coef_ did not converge\", ConvergenceWarning)\n",
      "/anaconda3/lib/python3.7/site-packages/sklearn/multiclass.py:76: UserWarning: Label not 0.0 is present in all training examples.\n",
      "  str(classes[c]))\n",
      "/anaconda3/lib/python3.7/site-packages/sklearn/multiclass.py:76: UserWarning: Label not 0.0 is present in all training examples.\n",
      "  str(classes[c]))\n"
     ]
    },
    {
     "name": "stdout",
     "output_type": "stream",
     "text": [
      "**Processing 240 comments...**\n",
      "**Processing 241 comments...**\n",
      "**Processing 242 comments...**\n",
      "**Processing 243 comments...**\n"
     ]
    },
    {
     "name": "stderr",
     "output_type": "stream",
     "text": [
      "/anaconda3/lib/python3.7/site-packages/sklearn/linear_model/sag.py:334: ConvergenceWarning: The max_iter was reached which means the coef_ did not converge\n",
      "  \"the coef_ did not converge\", ConvergenceWarning)\n"
     ]
    },
    {
     "name": "stdout",
     "output_type": "stream",
     "text": [
      "**Processing 244 comments...**\n"
     ]
    },
    {
     "name": "stderr",
     "output_type": "stream",
     "text": [
      "/anaconda3/lib/python3.7/site-packages/sklearn/linear_model/sag.py:334: ConvergenceWarning: The max_iter was reached which means the coef_ did not converge\n",
      "  \"the coef_ did not converge\", ConvergenceWarning)\n",
      "/anaconda3/lib/python3.7/site-packages/sklearn/multiclass.py:76: UserWarning: Label not 0.0 is present in all training examples.\n",
      "  str(classes[c]))\n"
     ]
    },
    {
     "name": "stdout",
     "output_type": "stream",
     "text": [
      "**Processing 245 comments...**\n",
      "**Processing 246 comments...**\n",
      "**Processing 247 comments...**\n"
     ]
    },
    {
     "name": "stderr",
     "output_type": "stream",
     "text": [
      "/anaconda3/lib/python3.7/site-packages/sklearn/linear_model/sag.py:334: ConvergenceWarning: The max_iter was reached which means the coef_ did not converge\n",
      "  \"the coef_ did not converge\", ConvergenceWarning)\n"
     ]
    },
    {
     "name": "stdout",
     "output_type": "stream",
     "text": [
      "**Processing 248 comments...**\n",
      "**Processing 249 comments...**\n",
      "**Processing 250 comments...**\n"
     ]
    },
    {
     "name": "stderr",
     "output_type": "stream",
     "text": [
      "/anaconda3/lib/python3.7/site-packages/sklearn/multiclass.py:76: UserWarning: Label not 0.0 is present in all training examples.\n",
      "  str(classes[c]))\n",
      "/anaconda3/lib/python3.7/site-packages/sklearn/linear_model/sag.py:334: ConvergenceWarning: The max_iter was reached which means the coef_ did not converge\n",
      "  \"the coef_ did not converge\", ConvergenceWarning)\n"
     ]
    },
    {
     "name": "stdout",
     "output_type": "stream",
     "text": [
      "**Processing 251 comments...**\n"
     ]
    },
    {
     "name": "stderr",
     "output_type": "stream",
     "text": [
      "/anaconda3/lib/python3.7/site-packages/sklearn/linear_model/sag.py:334: ConvergenceWarning: The max_iter was reached which means the coef_ did not converge\n",
      "  \"the coef_ did not converge\", ConvergenceWarning)\n",
      "/anaconda3/lib/python3.7/site-packages/sklearn/multiclass.py:76: UserWarning: Label not 0.0 is present in all training examples.\n",
      "  str(classes[c]))\n"
     ]
    },
    {
     "name": "stdout",
     "output_type": "stream",
     "text": [
      "**Processing 252 comments...**\n",
      "**Processing 253 comments...**\n",
      "**Processing 254 comments...**\n",
      "**Processing 255 comments...**\n"
     ]
    },
    {
     "name": "stderr",
     "output_type": "stream",
     "text": [
      "/anaconda3/lib/python3.7/site-packages/sklearn/multiclass.py:76: UserWarning: Label not 0.0 is present in all training examples.\n",
      "  str(classes[c]))\n",
      "/anaconda3/lib/python3.7/site-packages/sklearn/linear_model/sag.py:334: ConvergenceWarning: The max_iter was reached which means the coef_ did not converge\n",
      "  \"the coef_ did not converge\", ConvergenceWarning)\n",
      "/anaconda3/lib/python3.7/site-packages/sklearn/multiclass.py:76: UserWarning: Label not 0.0 is present in all training examples.\n",
      "  str(classes[c]))\n"
     ]
    },
    {
     "name": "stdout",
     "output_type": "stream",
     "text": [
      "**Processing 256 comments...**\n",
      "**Processing 257 comments...**\n",
      "**Processing 258 comments...**\n",
      "**Processing 259 comments...**\n"
     ]
    },
    {
     "name": "stderr",
     "output_type": "stream",
     "text": [
      "/anaconda3/lib/python3.7/site-packages/sklearn/multiclass.py:76: UserWarning: Label not 0.0 is present in all training examples.\n",
      "  str(classes[c]))\n"
     ]
    },
    {
     "name": "stdout",
     "output_type": "stream",
     "text": [
      "**Processing 260 comments...**\n",
      "**Processing 261 comments...**\n",
      "**Processing 262 comments...**\n"
     ]
    },
    {
     "name": "stderr",
     "output_type": "stream",
     "text": [
      "/anaconda3/lib/python3.7/site-packages/sklearn/multiclass.py:76: UserWarning: Label not 0.0 is present in all training examples.\n",
      "  str(classes[c]))\n",
      "/anaconda3/lib/python3.7/site-packages/sklearn/multiclass.py:76: UserWarning: Label not 0.0 is present in all training examples.\n",
      "  str(classes[c]))\n"
     ]
    },
    {
     "name": "stdout",
     "output_type": "stream",
     "text": [
      "**Processing 263 comments...**\n",
      "**Processing 264 comments...**\n",
      "**Processing 265 comments...**\n"
     ]
    },
    {
     "name": "stderr",
     "output_type": "stream",
     "text": [
      "/anaconda3/lib/python3.7/site-packages/sklearn/multiclass.py:76: UserWarning: Label not 0.0 is present in all training examples.\n",
      "  str(classes[c]))\n",
      "/anaconda3/lib/python3.7/site-packages/sklearn/linear_model/sag.py:334: ConvergenceWarning: The max_iter was reached which means the coef_ did not converge\n",
      "  \"the coef_ did not converge\", ConvergenceWarning)\n"
     ]
    },
    {
     "name": "stdout",
     "output_type": "stream",
     "text": [
      "**Processing 266 comments...**\n"
     ]
    },
    {
     "name": "stderr",
     "output_type": "stream",
     "text": [
      "/anaconda3/lib/python3.7/site-packages/sklearn/linear_model/sag.py:334: ConvergenceWarning: The max_iter was reached which means the coef_ did not converge\n",
      "  \"the coef_ did not converge\", ConvergenceWarning)\n"
     ]
    },
    {
     "name": "stdout",
     "output_type": "stream",
     "text": [
      "**Processing 267 comments...**\n",
      "**Processing 268 comments...**\n",
      "**Processing 269 comments...**\n"
     ]
    },
    {
     "name": "stderr",
     "output_type": "stream",
     "text": [
      "/anaconda3/lib/python3.7/site-packages/sklearn/linear_model/sag.py:334: ConvergenceWarning: The max_iter was reached which means the coef_ did not converge\n",
      "  \"the coef_ did not converge\", ConvergenceWarning)\n",
      "/anaconda3/lib/python3.7/site-packages/sklearn/multiclass.py:76: UserWarning: Label not 0.0 is present in all training examples.\n",
      "  str(classes[c]))\n",
      "/anaconda3/lib/python3.7/site-packages/sklearn/multiclass.py:76: UserWarning: Label not 0.0 is present in all training examples.\n",
      "  str(classes[c]))\n"
     ]
    },
    {
     "name": "stdout",
     "output_type": "stream",
     "text": [
      "**Processing 270 comments...**\n",
      "**Processing 271 comments...**\n",
      "**Processing 272 comments...**\n",
      "**Processing 273 comments...**\n",
      "**Processing 274 comments...**\n",
      "**Processing 275 comments...**\n",
      "**Processing 276 comments...**\n",
      "**Processing 277 comments...**\n"
     ]
    },
    {
     "name": "stderr",
     "output_type": "stream",
     "text": [
      "/anaconda3/lib/python3.7/site-packages/sklearn/multiclass.py:76: UserWarning: Label not 0.0 is present in all training examples.\n",
      "  str(classes[c]))\n",
      "/anaconda3/lib/python3.7/site-packages/sklearn/multiclass.py:76: UserWarning: Label not 0.0 is present in all training examples.\n",
      "  str(classes[c]))\n",
      "/anaconda3/lib/python3.7/site-packages/sklearn/multiclass.py:76: UserWarning: Label not 0.0 is present in all training examples.\n",
      "  str(classes[c]))\n",
      "/anaconda3/lib/python3.7/site-packages/sklearn/multiclass.py:76: UserWarning: Label not 0.0 is present in all training examples.\n",
      "  str(classes[c]))\n"
     ]
    },
    {
     "name": "stdout",
     "output_type": "stream",
     "text": [
      "**Processing 278 comments...**\n",
      "**Processing 279 comments...**\n"
     ]
    },
    {
     "name": "stderr",
     "output_type": "stream",
     "text": [
      "/anaconda3/lib/python3.7/site-packages/sklearn/multiclass.py:76: UserWarning: Label not 0.0 is present in all training examples.\n",
      "  str(classes[c]))\n"
     ]
    },
    {
     "name": "stdout",
     "output_type": "stream",
     "text": [
      "**Processing 280 comments...**\n",
      "**Processing 281 comments...**\n",
      "**Processing 282 comments...**\n",
      "**Processing 283 comments...**\n",
      "**Processing 284 comments...**\n"
     ]
    },
    {
     "name": "stderr",
     "output_type": "stream",
     "text": [
      "/anaconda3/lib/python3.7/site-packages/sklearn/multiclass.py:76: UserWarning: Label not 0.0 is present in all training examples.\n",
      "  str(classes[c]))\n",
      "/anaconda3/lib/python3.7/site-packages/sklearn/multiclass.py:76: UserWarning: Label not 0.0 is present in all training examples.\n",
      "  str(classes[c]))\n",
      "/anaconda3/lib/python3.7/site-packages/sklearn/multiclass.py:76: UserWarning: Label not 0.0 is present in all training examples.\n",
      "  str(classes[c]))\n",
      "/anaconda3/lib/python3.7/site-packages/sklearn/multiclass.py:76: UserWarning: Label not 0.0 is present in all training examples.\n",
      "  str(classes[c]))\n"
     ]
    },
    {
     "name": "stdout",
     "output_type": "stream",
     "text": [
      "**Processing 285 comments...**\n",
      "**Processing 286 comments...**\n"
     ]
    },
    {
     "name": "stderr",
     "output_type": "stream",
     "text": [
      "/anaconda3/lib/python3.7/site-packages/sklearn/linear_model/sag.py:334: ConvergenceWarning: The max_iter was reached which means the coef_ did not converge\n",
      "  \"the coef_ did not converge\", ConvergenceWarning)\n"
     ]
    },
    {
     "name": "stdout",
     "output_type": "stream",
     "text": [
      "**Processing 287 comments...**\n",
      "**Processing 288 comments...**\n",
      "**Processing 289 comments...**\n"
     ]
    },
    {
     "name": "stderr",
     "output_type": "stream",
     "text": [
      "/anaconda3/lib/python3.7/site-packages/sklearn/multiclass.py:76: UserWarning: Label not 0.0 is present in all training examples.\n",
      "  str(classes[c]))\n",
      "/anaconda3/lib/python3.7/site-packages/sklearn/linear_model/sag.py:334: ConvergenceWarning: The max_iter was reached which means the coef_ did not converge\n",
      "  \"the coef_ did not converge\", ConvergenceWarning)\n"
     ]
    },
    {
     "name": "stdout",
     "output_type": "stream",
     "text": [
      "**Processing 290 comments...**\n"
     ]
    },
    {
     "name": "stderr",
     "output_type": "stream",
     "text": [
      "/anaconda3/lib/python3.7/site-packages/sklearn/linear_model/sag.py:334: ConvergenceWarning: The max_iter was reached which means the coef_ did not converge\n",
      "  \"the coef_ did not converge\", ConvergenceWarning)\n",
      "/anaconda3/lib/python3.7/site-packages/sklearn/multiclass.py:76: UserWarning: Label not 0.0 is present in all training examples.\n",
      "  str(classes[c]))\n",
      "/anaconda3/lib/python3.7/site-packages/sklearn/multiclass.py:76: UserWarning: Label not 0.0 is present in all training examples.\n",
      "  str(classes[c]))\n",
      "/anaconda3/lib/python3.7/site-packages/sklearn/multiclass.py:76: UserWarning: Label not 0.0 is present in all training examples.\n",
      "  str(classes[c]))\n",
      "/anaconda3/lib/python3.7/site-packages/sklearn/multiclass.py:76: UserWarning: Label not 0.0 is present in all training examples.\n",
      "  str(classes[c]))\n",
      "/anaconda3/lib/python3.7/site-packages/sklearn/multiclass.py:76: UserWarning: Label not 0.0 is present in all training examples.\n",
      "  str(classes[c]))\n",
      "/anaconda3/lib/python3.7/site-packages/sklearn/multiclass.py:76: UserWarning: Label not 0.0 is present in all training examples.\n",
      "  str(classes[c]))\n"
     ]
    },
    {
     "name": "stdout",
     "output_type": "stream",
     "text": [
      "**Processing 291 comments...**\n",
      "**Processing 292 comments...**\n",
      "**Processing 293 comments...**\n",
      "**Processing 294 comments...**\n",
      "**Processing 295 comments...**\n",
      "**Processing 296 comments...**\n",
      "**Processing 297 comments...**\n",
      "**Processing 298 comments...**\n",
      "**Processing 299 comments...**\n",
      "**Processing 300 comments...**\n",
      "**Processing 301 comments...**\n"
     ]
    },
    {
     "name": "stderr",
     "output_type": "stream",
     "text": [
      "/anaconda3/lib/python3.7/site-packages/sklearn/multiclass.py:76: UserWarning: Label not 0.0 is present in all training examples.\n",
      "  str(classes[c]))\n",
      "/anaconda3/lib/python3.7/site-packages/sklearn/multiclass.py:76: UserWarning: Label not 0.0 is present in all training examples.\n",
      "  str(classes[c]))\n"
     ]
    },
    {
     "name": "stdout",
     "output_type": "stream",
     "text": [
      "**Processing 302 comments...**\n",
      "**Processing 303 comments...**\n",
      "**Processing 304 comments...**\n"
     ]
    },
    {
     "name": "stderr",
     "output_type": "stream",
     "text": [
      "/anaconda3/lib/python3.7/site-packages/sklearn/multiclass.py:76: UserWarning: Label not 0.0 is present in all training examples.\n",
      "  str(classes[c]))\n",
      "/anaconda3/lib/python3.7/site-packages/sklearn/linear_model/sag.py:334: ConvergenceWarning: The max_iter was reached which means the coef_ did not converge\n",
      "  \"the coef_ did not converge\", ConvergenceWarning)\n",
      "/anaconda3/lib/python3.7/site-packages/sklearn/multiclass.py:76: UserWarning: Label not 0.0 is present in all training examples.\n",
      "  str(classes[c]))\n"
     ]
    },
    {
     "name": "stdout",
     "output_type": "stream",
     "text": [
      "**Processing 305 comments...**\n",
      "**Processing 306 comments...**\n"
     ]
    },
    {
     "name": "stderr",
     "output_type": "stream",
     "text": [
      "/anaconda3/lib/python3.7/site-packages/sklearn/linear_model/sag.py:334: ConvergenceWarning: The max_iter was reached which means the coef_ did not converge\n",
      "  \"the coef_ did not converge\", ConvergenceWarning)\n"
     ]
    },
    {
     "name": "stdout",
     "output_type": "stream",
     "text": [
      "**Processing 307 comments...**\n"
     ]
    },
    {
     "name": "stderr",
     "output_type": "stream",
     "text": [
      "/anaconda3/lib/python3.7/site-packages/sklearn/linear_model/sag.py:334: ConvergenceWarning: The max_iter was reached which means the coef_ did not converge\n",
      "  \"the coef_ did not converge\", ConvergenceWarning)\n"
     ]
    },
    {
     "name": "stdout",
     "output_type": "stream",
     "text": [
      "**Processing 308 comments...**\n",
      "**Processing 309 comments...**\n",
      "**Processing 310 comments...**\n"
     ]
    },
    {
     "name": "stderr",
     "output_type": "stream",
     "text": [
      "/anaconda3/lib/python3.7/site-packages/sklearn/linear_model/sag.py:334: ConvergenceWarning: The max_iter was reached which means the coef_ did not converge\n",
      "  \"the coef_ did not converge\", ConvergenceWarning)\n",
      "/anaconda3/lib/python3.7/site-packages/sklearn/multiclass.py:76: UserWarning: Label not 0.0 is present in all training examples.\n",
      "  str(classes[c]))\n",
      "/anaconda3/lib/python3.7/site-packages/sklearn/multiclass.py:76: UserWarning: Label not 0.0 is present in all training examples.\n",
      "  str(classes[c]))\n"
     ]
    },
    {
     "name": "stdout",
     "output_type": "stream",
     "text": [
      "**Processing 311 comments...**\n",
      "**Processing 312 comments...**\n",
      "**Processing 313 comments...**\n",
      "**Processing 314 comments...**\n",
      "**Processing 315 comments...**\n",
      "**Processing 316 comments...**\n"
     ]
    },
    {
     "name": "stderr",
     "output_type": "stream",
     "text": [
      "/anaconda3/lib/python3.7/site-packages/sklearn/multiclass.py:76: UserWarning: Label not 0.0 is present in all training examples.\n",
      "  str(classes[c]))\n"
     ]
    },
    {
     "name": "stdout",
     "output_type": "stream",
     "text": [
      "**Processing 317 comments...**\n",
      "**Processing 318 comments...**\n"
     ]
    },
    {
     "name": "stderr",
     "output_type": "stream",
     "text": [
      "/anaconda3/lib/python3.7/site-packages/sklearn/multiclass.py:76: UserWarning: Label not 0.0 is present in all training examples.\n",
      "  str(classes[c]))\n",
      "/anaconda3/lib/python3.7/site-packages/sklearn/linear_model/sag.py:334: ConvergenceWarning: The max_iter was reached which means the coef_ did not converge\n",
      "  \"the coef_ did not converge\", ConvergenceWarning)\n",
      "/anaconda3/lib/python3.7/site-packages/sklearn/multiclass.py:76: UserWarning: Label not 0.0 is present in all training examples.\n",
      "  str(classes[c]))\n",
      "/anaconda3/lib/python3.7/site-packages/sklearn/multiclass.py:76: UserWarning: Label not 0.0 is present in all training examples.\n",
      "  str(classes[c]))\n",
      "/anaconda3/lib/python3.7/site-packages/sklearn/multiclass.py:76: UserWarning: Label not 0.0 is present in all training examples.\n",
      "  str(classes[c]))\n"
     ]
    },
    {
     "name": "stdout",
     "output_type": "stream",
     "text": [
      "**Processing 319 comments...**\n",
      "**Processing 320 comments...**\n",
      "**Processing 321 comments...**\n",
      "**Processing 322 comments...**\n",
      "**Processing 323 comments...**\n",
      "**Processing 324 comments...**\n",
      "**Processing 325 comments...**\n"
     ]
    },
    {
     "name": "stderr",
     "output_type": "stream",
     "text": [
      "/anaconda3/lib/python3.7/site-packages/sklearn/multiclass.py:76: UserWarning: Label not 0.0 is present in all training examples.\n",
      "  str(classes[c]))\n",
      "/anaconda3/lib/python3.7/site-packages/sklearn/multiclass.py:76: UserWarning: Label not 0.0 is present in all training examples.\n",
      "  str(classes[c]))\n"
     ]
    },
    {
     "name": "stdout",
     "output_type": "stream",
     "text": [
      "**Processing 326 comments...**\n"
     ]
    },
    {
     "name": "stderr",
     "output_type": "stream",
     "text": [
      "/anaconda3/lib/python3.7/site-packages/sklearn/linear_model/sag.py:334: ConvergenceWarning: The max_iter was reached which means the coef_ did not converge\n",
      "  \"the coef_ did not converge\", ConvergenceWarning)\n"
     ]
    },
    {
     "name": "stdout",
     "output_type": "stream",
     "text": [
      "**Processing 327 comments...**\n",
      "**Processing 328 comments...**\n",
      "**Processing 329 comments...**\n",
      "**Processing 330 comments...**\n"
     ]
    },
    {
     "name": "stderr",
     "output_type": "stream",
     "text": [
      "/anaconda3/lib/python3.7/site-packages/sklearn/multiclass.py:76: UserWarning: Label not 0.0 is present in all training examples.\n",
      "  str(classes[c]))\n",
      "/anaconda3/lib/python3.7/site-packages/sklearn/multiclass.py:76: UserWarning: Label not 0.0 is present in all training examples.\n",
      "  str(classes[c]))\n"
     ]
    },
    {
     "name": "stdout",
     "output_type": "stream",
     "text": [
      "**Processing 331 comments...**\n",
      "**Processing 332 comments...**\n",
      "**Processing 333 comments...**\n",
      "**Processing 334 comments...**\n"
     ]
    },
    {
     "name": "stderr",
     "output_type": "stream",
     "text": [
      "/anaconda3/lib/python3.7/site-packages/sklearn/multiclass.py:76: UserWarning: Label not 0.0 is present in all training examples.\n",
      "  str(classes[c]))\n",
      "/anaconda3/lib/python3.7/site-packages/sklearn/multiclass.py:76: UserWarning: Label not 0.0 is present in all training examples.\n",
      "  str(classes[c]))\n"
     ]
    },
    {
     "name": "stdout",
     "output_type": "stream",
     "text": [
      "**Processing 335 comments...**\n",
      "**Processing 336 comments...**\n"
     ]
    },
    {
     "name": "stderr",
     "output_type": "stream",
     "text": [
      "/anaconda3/lib/python3.7/site-packages/sklearn/multiclass.py:76: UserWarning: Label not 0.0 is present in all training examples.\n",
      "  str(classes[c]))\n"
     ]
    },
    {
     "name": "stdout",
     "output_type": "stream",
     "text": [
      "**Processing 337 comments...**\n",
      "**Processing 338 comments...**\n",
      "**Processing 339 comments...**\n"
     ]
    },
    {
     "name": "stderr",
     "output_type": "stream",
     "text": [
      "/anaconda3/lib/python3.7/site-packages/sklearn/linear_model/sag.py:334: ConvergenceWarning: The max_iter was reached which means the coef_ did not converge\n",
      "  \"the coef_ did not converge\", ConvergenceWarning)\n"
     ]
    },
    {
     "name": "stdout",
     "output_type": "stream",
     "text": [
      "**Processing 340 comments...**\n",
      "**Processing 341 comments...**\n",
      "**Processing 342 comments...**\n",
      "**Processing 343 comments...**\n",
      "**Processing 344 comments...**\n",
      "**Processing 345 comments...**\n"
     ]
    },
    {
     "name": "stderr",
     "output_type": "stream",
     "text": [
      "/anaconda3/lib/python3.7/site-packages/sklearn/multiclass.py:76: UserWarning: Label not 0.0 is present in all training examples.\n",
      "  str(classes[c]))\n",
      "/anaconda3/lib/python3.7/site-packages/sklearn/multiclass.py:76: UserWarning: Label not 0.0 is present in all training examples.\n",
      "  str(classes[c]))\n"
     ]
    },
    {
     "name": "stdout",
     "output_type": "stream",
     "text": [
      "**Processing 346 comments...**\n"
     ]
    },
    {
     "name": "stderr",
     "output_type": "stream",
     "text": [
      "/anaconda3/lib/python3.7/site-packages/sklearn/linear_model/sag.py:334: ConvergenceWarning: The max_iter was reached which means the coef_ did not converge\n",
      "  \"the coef_ did not converge\", ConvergenceWarning)\n"
     ]
    },
    {
     "name": "stdout",
     "output_type": "stream",
     "text": [
      "**Processing 347 comments...**\n"
     ]
    },
    {
     "name": "stderr",
     "output_type": "stream",
     "text": [
      "/anaconda3/lib/python3.7/site-packages/sklearn/linear_model/sag.py:334: ConvergenceWarning: The max_iter was reached which means the coef_ did not converge\n",
      "  \"the coef_ did not converge\", ConvergenceWarning)\n"
     ]
    },
    {
     "name": "stdout",
     "output_type": "stream",
     "text": [
      "**Processing 348 comments...**\n"
     ]
    },
    {
     "name": "stderr",
     "output_type": "stream",
     "text": [
      "/anaconda3/lib/python3.7/site-packages/sklearn/linear_model/sag.py:334: ConvergenceWarning: The max_iter was reached which means the coef_ did not converge\n",
      "  \"the coef_ did not converge\", ConvergenceWarning)\n"
     ]
    },
    {
     "name": "stdout",
     "output_type": "stream",
     "text": [
      "**Processing 349 comments...**\n",
      "**Processing 350 comments...**\n",
      "**Processing 351 comments...**\n"
     ]
    },
    {
     "name": "stderr",
     "output_type": "stream",
     "text": [
      "/anaconda3/lib/python3.7/site-packages/sklearn/multiclass.py:76: UserWarning: Label not 0.0 is present in all training examples.\n",
      "  str(classes[c]))\n"
     ]
    },
    {
     "name": "stdout",
     "output_type": "stream",
     "text": [
      "**Processing 352 comments...**\n",
      "**Processing 353 comments...**\n"
     ]
    },
    {
     "name": "stderr",
     "output_type": "stream",
     "text": [
      "/anaconda3/lib/python3.7/site-packages/sklearn/multiclass.py:76: UserWarning: Label not 0.0 is present in all training examples.\n",
      "  str(classes[c]))\n"
     ]
    },
    {
     "name": "stdout",
     "output_type": "stream",
     "text": [
      "**Processing 354 comments...**\n",
      "**Processing 355 comments...**\n",
      "**Processing 356 comments...**\n"
     ]
    },
    {
     "name": "stderr",
     "output_type": "stream",
     "text": [
      "/anaconda3/lib/python3.7/site-packages/sklearn/multiclass.py:76: UserWarning: Label not 0.0 is present in all training examples.\n",
      "  str(classes[c]))\n",
      "/anaconda3/lib/python3.7/site-packages/sklearn/multiclass.py:76: UserWarning: Label not 0.0 is present in all training examples.\n",
      "  str(classes[c]))\n"
     ]
    },
    {
     "name": "stdout",
     "output_type": "stream",
     "text": [
      "**Processing 357 comments...**\n",
      "**Processing 358 comments...**\n",
      "**Processing 359 comments...**\n",
      "**Processing 360 comments...**\n"
     ]
    },
    {
     "name": "stderr",
     "output_type": "stream",
     "text": [
      "/anaconda3/lib/python3.7/site-packages/sklearn/multiclass.py:76: UserWarning: Label not 0.0 is present in all training examples.\n",
      "  str(classes[c]))\n",
      "/anaconda3/lib/python3.7/site-packages/sklearn/multiclass.py:76: UserWarning: Label not 0.0 is present in all training examples.\n",
      "  str(classes[c]))\n"
     ]
    },
    {
     "name": "stdout",
     "output_type": "stream",
     "text": [
      "**Processing 361 comments...**\n",
      "**Processing 362 comments...**\n"
     ]
    },
    {
     "name": "stderr",
     "output_type": "stream",
     "text": [
      "/anaconda3/lib/python3.7/site-packages/sklearn/multiclass.py:76: UserWarning: Label not 0.0 is present in all training examples.\n",
      "  str(classes[c]))\n"
     ]
    },
    {
     "name": "stdout",
     "output_type": "stream",
     "text": [
      "**Processing 363 comments...**\n",
      "**Processing 364 comments...**\n"
     ]
    },
    {
     "name": "stderr",
     "output_type": "stream",
     "text": [
      "/anaconda3/lib/python3.7/site-packages/sklearn/linear_model/sag.py:334: ConvergenceWarning: The max_iter was reached which means the coef_ did not converge\n",
      "  \"the coef_ did not converge\", ConvergenceWarning)\n",
      "/anaconda3/lib/python3.7/site-packages/sklearn/multiclass.py:76: UserWarning: Label not 0.0 is present in all training examples.\n",
      "  str(classes[c]))\n",
      "/anaconda3/lib/python3.7/site-packages/sklearn/multiclass.py:76: UserWarning: Label not 0.0 is present in all training examples.\n",
      "  str(classes[c]))\n",
      "/anaconda3/lib/python3.7/site-packages/sklearn/multiclass.py:76: UserWarning: Label not 0.0 is present in all training examples.\n",
      "  str(classes[c]))\n",
      "/anaconda3/lib/python3.7/site-packages/sklearn/multiclass.py:76: UserWarning: Label not 0.0 is present in all training examples.\n",
      "  str(classes[c]))\n"
     ]
    },
    {
     "name": "stdout",
     "output_type": "stream",
     "text": [
      "**Processing 365 comments...**\n",
      "**Processing 366 comments...**\n",
      "**Processing 367 comments...**\n",
      "**Processing 368 comments...**\n",
      "**Processing 369 comments...**\n",
      "**Processing 370 comments...**\n",
      "**Processing 371 comments...**\n"
     ]
    },
    {
     "name": "stderr",
     "output_type": "stream",
     "text": [
      "/anaconda3/lib/python3.7/site-packages/sklearn/multiclass.py:76: UserWarning: Label not 0.0 is present in all training examples.\n",
      "  str(classes[c]))\n"
     ]
    },
    {
     "name": "stdout",
     "output_type": "stream",
     "text": [
      "**Processing 372 comments...**\n",
      "**Processing 373 comments...**\n"
     ]
    },
    {
     "name": "stderr",
     "output_type": "stream",
     "text": [
      "/anaconda3/lib/python3.7/site-packages/sklearn/multiclass.py:76: UserWarning: Label not 0.0 is present in all training examples.\n",
      "  str(classes[c]))\n"
     ]
    },
    {
     "name": "stdout",
     "output_type": "stream",
     "text": [
      "**Processing 374 comments...**\n",
      "**Processing 375 comments...**\n",
      "**Processing 376 comments...**\n",
      "**Processing 377 comments...**\n",
      "**Processing 378 comments...**\n",
      "**Processing 379 comments...**\n"
     ]
    },
    {
     "name": "stderr",
     "output_type": "stream",
     "text": [
      "/anaconda3/lib/python3.7/site-packages/sklearn/multiclass.py:76: UserWarning: Label not 0.0 is present in all training examples.\n",
      "  str(classes[c]))\n",
      "/anaconda3/lib/python3.7/site-packages/sklearn/multiclass.py:76: UserWarning: Label not 0.0 is present in all training examples.\n",
      "  str(classes[c]))\n",
      "/anaconda3/lib/python3.7/site-packages/sklearn/multiclass.py:76: UserWarning: Label not 0.0 is present in all training examples.\n",
      "  str(classes[c]))\n",
      "/anaconda3/lib/python3.7/site-packages/sklearn/multiclass.py:76: UserWarning: Label not 0.0 is present in all training examples.\n",
      "  str(classes[c]))\n",
      "/anaconda3/lib/python3.7/site-packages/sklearn/multiclass.py:76: UserWarning: Label not 0.0 is present in all training examples.\n",
      "  str(classes[c]))\n"
     ]
    },
    {
     "name": "stdout",
     "output_type": "stream",
     "text": [
      "**Processing 380 comments...**\n",
      "**Processing 381 comments...**\n"
     ]
    },
    {
     "name": "stderr",
     "output_type": "stream",
     "text": [
      "/anaconda3/lib/python3.7/site-packages/sklearn/multiclass.py:76: UserWarning: Label not 0.0 is present in all training examples.\n",
      "  str(classes[c]))\n"
     ]
    },
    {
     "name": "stdout",
     "output_type": "stream",
     "text": [
      "**Processing 382 comments...**\n"
     ]
    },
    {
     "name": "stderr",
     "output_type": "stream",
     "text": [
      "/anaconda3/lib/python3.7/site-packages/sklearn/linear_model/sag.py:334: ConvergenceWarning: The max_iter was reached which means the coef_ did not converge\n",
      "  \"the coef_ did not converge\", ConvergenceWarning)\n",
      "/anaconda3/lib/python3.7/site-packages/sklearn/multiclass.py:76: UserWarning: Label not 0.0 is present in all training examples.\n",
      "  str(classes[c]))\n",
      "/anaconda3/lib/python3.7/site-packages/sklearn/multiclass.py:76: UserWarning: Label not 0.0 is present in all training examples.\n",
      "  str(classes[c]))\n"
     ]
    },
    {
     "name": "stdout",
     "output_type": "stream",
     "text": [
      "**Processing 383 comments...**\n",
      "**Processing 384 comments...**\n",
      "**Processing 385 comments...**\n",
      "**Processing 386 comments...**\n",
      "**Processing 387 comments...**\n",
      "**Processing 388 comments...**\n"
     ]
    },
    {
     "name": "stderr",
     "output_type": "stream",
     "text": [
      "/anaconda3/lib/python3.7/site-packages/sklearn/multiclass.py:76: UserWarning: Label not 0.0 is present in all training examples.\n",
      "  str(classes[c]))\n"
     ]
    },
    {
     "name": "stdout",
     "output_type": "stream",
     "text": [
      "**Processing 389 comments...**\n"
     ]
    },
    {
     "name": "stderr",
     "output_type": "stream",
     "text": [
      "/anaconda3/lib/python3.7/site-packages/sklearn/linear_model/sag.py:334: ConvergenceWarning: The max_iter was reached which means the coef_ did not converge\n",
      "  \"the coef_ did not converge\", ConvergenceWarning)\n"
     ]
    },
    {
     "name": "stdout",
     "output_type": "stream",
     "text": [
      "**Processing 390 comments...**\n",
      "**Processing 391 comments...**\n",
      "**Processing 392 comments...**\n",
      "**Processing 393 comments...**\n"
     ]
    },
    {
     "name": "stderr",
     "output_type": "stream",
     "text": [
      "/anaconda3/lib/python3.7/site-packages/sklearn/multiclass.py:76: UserWarning: Label not 0.0 is present in all training examples.\n",
      "  str(classes[c]))\n",
      "/anaconda3/lib/python3.7/site-packages/sklearn/multiclass.py:76: UserWarning: Label not 0.0 is present in all training examples.\n",
      "  str(classes[c]))\n",
      "/anaconda3/lib/python3.7/site-packages/sklearn/linear_model/sag.py:334: ConvergenceWarning: The max_iter was reached which means the coef_ did not converge\n",
      "  \"the coef_ did not converge\", ConvergenceWarning)\n",
      "/anaconda3/lib/python3.7/site-packages/sklearn/multiclass.py:76: UserWarning: Label not 0.0 is present in all training examples.\n",
      "  str(classes[c]))\n",
      "/anaconda3/lib/python3.7/site-packages/sklearn/multiclass.py:76: UserWarning: Label not 0.0 is present in all training examples.\n",
      "  str(classes[c]))\n",
      "/anaconda3/lib/python3.7/site-packages/sklearn/multiclass.py:76: UserWarning: Label not 0.0 is present in all training examples.\n",
      "  str(classes[c]))\n"
     ]
    },
    {
     "name": "stdout",
     "output_type": "stream",
     "text": [
      "**Processing 394 comments...**\n",
      "**Processing 395 comments...**\n",
      "**Processing 396 comments...**\n",
      "**Processing 397 comments...**\n",
      "**Processing 398 comments...**\n"
     ]
    },
    {
     "name": "stderr",
     "output_type": "stream",
     "text": [
      "/anaconda3/lib/python3.7/site-packages/sklearn/linear_model/sag.py:334: ConvergenceWarning: The max_iter was reached which means the coef_ did not converge\n",
      "  \"the coef_ did not converge\", ConvergenceWarning)\n"
     ]
    },
    {
     "name": "stdout",
     "output_type": "stream",
     "text": [
      "**Processing 399 comments...**\n",
      "**Processing 400 comments...**\n",
      "**Processing 401 comments...**\n"
     ]
    },
    {
     "name": "stderr",
     "output_type": "stream",
     "text": [
      "/anaconda3/lib/python3.7/site-packages/sklearn/multiclass.py:76: UserWarning: Label not 0.0 is present in all training examples.\n",
      "  str(classes[c]))\n"
     ]
    },
    {
     "name": "stdout",
     "output_type": "stream",
     "text": [
      "**Processing 402 comments...**\n",
      "**Processing 403 comments...**\n",
      "**Processing 404 comments...**\n",
      "**Processing 405 comments...**\n",
      "**Processing 406 comments...**\n",
      "**Processing 407 comments...**\n"
     ]
    },
    {
     "name": "stderr",
     "output_type": "stream",
     "text": [
      "/anaconda3/lib/python3.7/site-packages/sklearn/multiclass.py:76: UserWarning: Label not 0.0 is present in all training examples.\n",
      "  str(classes[c]))\n",
      "/anaconda3/lib/python3.7/site-packages/sklearn/multiclass.py:76: UserWarning: Label not 0.0 is present in all training examples.\n",
      "  str(classes[c]))\n",
      "/anaconda3/lib/python3.7/site-packages/sklearn/multiclass.py:76: UserWarning: Label not 0.0 is present in all training examples.\n",
      "  str(classes[c]))\n",
      "/anaconda3/lib/python3.7/site-packages/sklearn/multiclass.py:76: UserWarning: Label not 0.0 is present in all training examples.\n",
      "  str(classes[c]))\n"
     ]
    },
    {
     "name": "stdout",
     "output_type": "stream",
     "text": [
      "**Processing 408 comments...**\n",
      "**Processing 409 comments...**\n"
     ]
    },
    {
     "name": "stderr",
     "output_type": "stream",
     "text": [
      "/anaconda3/lib/python3.7/site-packages/sklearn/multiclass.py:76: UserWarning: Label not 0.0 is present in all training examples.\n",
      "  str(classes[c]))\n"
     ]
    },
    {
     "name": "stdout",
     "output_type": "stream",
     "text": [
      "**Processing 410 comments...**\n",
      "**Processing 411 comments...**\n",
      "**Processing 412 comments...**\n",
      "**Processing 413 comments...**\n",
      "**Processing 414 comments...**\n"
     ]
    },
    {
     "name": "stderr",
     "output_type": "stream",
     "text": [
      "/anaconda3/lib/python3.7/site-packages/sklearn/multiclass.py:76: UserWarning: Label not 0.0 is present in all training examples.\n",
      "  str(classes[c]))\n",
      "/anaconda3/lib/python3.7/site-packages/sklearn/multiclass.py:76: UserWarning: Label not 0.0 is present in all training examples.\n",
      "  str(classes[c]))\n",
      "/anaconda3/lib/python3.7/site-packages/sklearn/multiclass.py:76: UserWarning: Label not 0.0 is present in all training examples.\n",
      "  str(classes[c]))\n",
      "/anaconda3/lib/python3.7/site-packages/sklearn/multiclass.py:76: UserWarning: Label not 0.0 is present in all training examples.\n",
      "  str(classes[c]))\n"
     ]
    },
    {
     "name": "stdout",
     "output_type": "stream",
     "text": [
      "**Processing 415 comments...**\n",
      "**Processing 416 comments...**\n",
      "**Processing 417 comments...**\n"
     ]
    },
    {
     "name": "stderr",
     "output_type": "stream",
     "text": [
      "/anaconda3/lib/python3.7/site-packages/sklearn/multiclass.py:76: UserWarning: Label not 0.0 is present in all training examples.\n",
      "  str(classes[c]))\n",
      "/anaconda3/lib/python3.7/site-packages/sklearn/multiclass.py:76: UserWarning: Label not 0.0 is present in all training examples.\n",
      "  str(classes[c]))\n"
     ]
    },
    {
     "name": "stdout",
     "output_type": "stream",
     "text": [
      "**Processing 418 comments...**\n",
      "**Processing 419 comments...**\n",
      "**Processing 420 comments...**\n",
      "**Processing 421 comments...**\n",
      "**Processing 422 comments...**\n",
      "**Processing 423 comments...**\n"
     ]
    },
    {
     "name": "stderr",
     "output_type": "stream",
     "text": [
      "/anaconda3/lib/python3.7/site-packages/sklearn/multiclass.py:76: UserWarning: Label not 0.0 is present in all training examples.\n",
      "  str(classes[c]))\n",
      "/anaconda3/lib/python3.7/site-packages/sklearn/multiclass.py:76: UserWarning: Label not 0.0 is present in all training examples.\n",
      "  str(classes[c]))\n",
      "/anaconda3/lib/python3.7/site-packages/sklearn/multiclass.py:76: UserWarning: Label not 0.0 is present in all training examples.\n",
      "  str(classes[c]))\n",
      "/anaconda3/lib/python3.7/site-packages/sklearn/multiclass.py:76: UserWarning: Label not 0.0 is present in all training examples.\n",
      "  str(classes[c]))\n",
      "/anaconda3/lib/python3.7/site-packages/sklearn/multiclass.py:76: UserWarning: Label not 0.0 is present in all training examples.\n",
      "  str(classes[c]))\n",
      "/anaconda3/lib/python3.7/site-packages/sklearn/linear_model/sag.py:334: ConvergenceWarning: The max_iter was reached which means the coef_ did not converge\n",
      "  \"the coef_ did not converge\", ConvergenceWarning)\n",
      "/anaconda3/lib/python3.7/site-packages/sklearn/multiclass.py:76: UserWarning: Label not 0.0 is present in all training examples.\n",
      "  str(classes[c]))\n",
      "/anaconda3/lib/python3.7/site-packages/sklearn/multiclass.py:76: UserWarning: Label not 0.0 is present in all training examples.\n",
      "  str(classes[c]))\n",
      "/anaconda3/lib/python3.7/site-packages/sklearn/multiclass.py:76: UserWarning: Label not 0.0 is present in all training examples.\n",
      "  str(classes[c]))\n"
     ]
    },
    {
     "name": "stdout",
     "output_type": "stream",
     "text": [
      "**Processing 424 comments...**\n",
      "**Processing 425 comments...**\n",
      "**Processing 426 comments...**\n",
      "**Processing 427 comments...**\n"
     ]
    },
    {
     "name": "stderr",
     "output_type": "stream",
     "text": [
      "/anaconda3/lib/python3.7/site-packages/sklearn/linear_model/sag.py:334: ConvergenceWarning: The max_iter was reached which means the coef_ did not converge\n",
      "  \"the coef_ did not converge\", ConvergenceWarning)\n",
      "/anaconda3/lib/python3.7/site-packages/sklearn/multiclass.py:76: UserWarning: Label not 0.0 is present in all training examples.\n",
      "  str(classes[c]))\n"
     ]
    },
    {
     "name": "stdout",
     "output_type": "stream",
     "text": [
      "**Processing 428 comments...**\n",
      "**Processing 429 comments...**\n",
      "**Processing 430 comments...**\n",
      "**Processing 431 comments...**\n"
     ]
    },
    {
     "name": "stderr",
     "output_type": "stream",
     "text": [
      "/anaconda3/lib/python3.7/site-packages/sklearn/multiclass.py:76: UserWarning: Label not 0.0 is present in all training examples.\n",
      "  str(classes[c]))\n",
      "/anaconda3/lib/python3.7/site-packages/sklearn/linear_model/sag.py:334: ConvergenceWarning: The max_iter was reached which means the coef_ did not converge\n",
      "  \"the coef_ did not converge\", ConvergenceWarning)\n",
      "/anaconda3/lib/python3.7/site-packages/sklearn/multiclass.py:76: UserWarning: Label not 0.0 is present in all training examples.\n",
      "  str(classes[c]))\n",
      "/anaconda3/lib/python3.7/site-packages/sklearn/multiclass.py:76: UserWarning: Label not 0.0 is present in all training examples.\n",
      "  str(classes[c]))\n",
      "/anaconda3/lib/python3.7/site-packages/sklearn/multiclass.py:76: UserWarning: Label not 0.0 is present in all training examples.\n",
      "  str(classes[c]))\n"
     ]
    },
    {
     "name": "stdout",
     "output_type": "stream",
     "text": [
      "**Processing 432 comments...**\n",
      "**Processing 433 comments...**\n",
      "**Processing 434 comments...**\n",
      "**Processing 435 comments...**\n",
      "**Processing 436 comments...**\n",
      "**Processing 437 comments...**\n",
      "**Processing 438 comments...**\n",
      "**Processing 439 comments...**\n"
     ]
    },
    {
     "name": "stderr",
     "output_type": "stream",
     "text": [
      "/anaconda3/lib/python3.7/site-packages/sklearn/multiclass.py:76: UserWarning: Label not 0.0 is present in all training examples.\n",
      "  str(classes[c]))\n",
      "/anaconda3/lib/python3.7/site-packages/sklearn/multiclass.py:76: UserWarning: Label not 0.0 is present in all training examples.\n",
      "  str(classes[c]))\n",
      "/anaconda3/lib/python3.7/site-packages/sklearn/multiclass.py:76: UserWarning: Label not 0.0 is present in all training examples.\n",
      "  str(classes[c]))\n"
     ]
    },
    {
     "name": "stdout",
     "output_type": "stream",
     "text": [
      "**Processing 440 comments...**\n",
      "**Processing 441 comments...**\n",
      "**Processing 442 comments...**\n"
     ]
    },
    {
     "name": "stderr",
     "output_type": "stream",
     "text": [
      "/anaconda3/lib/python3.7/site-packages/sklearn/multiclass.py:76: UserWarning: Label not 0.0 is present in all training examples.\n",
      "  str(classes[c]))\n",
      "/anaconda3/lib/python3.7/site-packages/sklearn/multiclass.py:76: UserWarning: Label not 0.0 is present in all training examples.\n",
      "  str(classes[c]))\n"
     ]
    },
    {
     "name": "stdout",
     "output_type": "stream",
     "text": [
      "**Processing 443 comments...**\n",
      "**Processing 444 comments...**\n",
      "**Processing 445 comments...**\n"
     ]
    },
    {
     "name": "stderr",
     "output_type": "stream",
     "text": [
      "/anaconda3/lib/python3.7/site-packages/sklearn/multiclass.py:76: UserWarning: Label not 0.0 is present in all training examples.\n",
      "  str(classes[c]))\n",
      "/anaconda3/lib/python3.7/site-packages/sklearn/linear_model/sag.py:334: ConvergenceWarning: The max_iter was reached which means the coef_ did not converge\n",
      "  \"the coef_ did not converge\", ConvergenceWarning)\n"
     ]
    },
    {
     "name": "stdout",
     "output_type": "stream",
     "text": [
      "**Processing 446 comments...**\n",
      "**Processing 447 comments...**\n",
      "**Processing 448 comments...**\n",
      "**Processing 449 comments...**\n",
      "**Processing 450 comments...**\n"
     ]
    },
    {
     "name": "stderr",
     "output_type": "stream",
     "text": [
      "/anaconda3/lib/python3.7/site-packages/sklearn/multiclass.py:76: UserWarning: Label not 0.0 is present in all training examples.\n",
      "  str(classes[c]))\n",
      "/anaconda3/lib/python3.7/site-packages/sklearn/multiclass.py:76: UserWarning: Label not 0.0 is present in all training examples.\n",
      "  str(classes[c]))\n",
      "/anaconda3/lib/python3.7/site-packages/sklearn/multiclass.py:76: UserWarning: Label not 0.0 is present in all training examples.\n",
      "  str(classes[c]))\n"
     ]
    },
    {
     "name": "stdout",
     "output_type": "stream",
     "text": [
      "**Processing 451 comments...**\n",
      "**Processing 452 comments...**\n"
     ]
    },
    {
     "name": "stderr",
     "output_type": "stream",
     "text": [
      "/anaconda3/lib/python3.7/site-packages/sklearn/multiclass.py:76: UserWarning: Label not 0.0 is present in all training examples.\n",
      "  str(classes[c]))\n",
      "/anaconda3/lib/python3.7/site-packages/sklearn/linear_model/sag.py:334: ConvergenceWarning: The max_iter was reached which means the coef_ did not converge\n",
      "  \"the coef_ did not converge\", ConvergenceWarning)\n",
      "/anaconda3/lib/python3.7/site-packages/sklearn/multiclass.py:76: UserWarning: Label not 0.0 is present in all training examples.\n",
      "  str(classes[c]))\n"
     ]
    },
    {
     "name": "stdout",
     "output_type": "stream",
     "text": [
      "**Processing 453 comments...**\n",
      "**Processing 454 comments...**\n",
      "**Processing 455 comments...**\n",
      "**Processing 456 comments...**\n",
      "**Processing 457 comments...**\n",
      "**Processing 458 comments...**\n",
      "**Processing 459 comments...**\n"
     ]
    },
    {
     "name": "stderr",
     "output_type": "stream",
     "text": [
      "/anaconda3/lib/python3.7/site-packages/sklearn/multiclass.py:76: UserWarning: Label not 0.0 is present in all training examples.\n",
      "  str(classes[c]))\n",
      "/anaconda3/lib/python3.7/site-packages/sklearn/multiclass.py:76: UserWarning: Label not 0.0 is present in all training examples.\n",
      "  str(classes[c]))\n",
      "/anaconda3/lib/python3.7/site-packages/sklearn/multiclass.py:76: UserWarning: Label not 0.0 is present in all training examples.\n",
      "  str(classes[c]))\n",
      "/anaconda3/lib/python3.7/site-packages/sklearn/multiclass.py:76: UserWarning: Label not 0.0 is present in all training examples.\n",
      "  str(classes[c]))\n",
      "/anaconda3/lib/python3.7/site-packages/sklearn/linear_model/sag.py:334: ConvergenceWarning: The max_iter was reached which means the coef_ did not converge\n",
      "  \"the coef_ did not converge\", ConvergenceWarning)\n",
      "/anaconda3/lib/python3.7/site-packages/sklearn/multiclass.py:76: UserWarning: Label not 0.0 is present in all training examples.\n",
      "  str(classes[c]))\n",
      "/anaconda3/lib/python3.7/site-packages/sklearn/multiclass.py:76: UserWarning: Label not 0.0 is present in all training examples.\n",
      "  str(classes[c]))\n",
      "/anaconda3/lib/python3.7/site-packages/sklearn/multiclass.py:76: UserWarning: Label not 0.0 is present in all training examples.\n",
      "  str(classes[c]))\n"
     ]
    },
    {
     "name": "stdout",
     "output_type": "stream",
     "text": [
      "**Processing 460 comments...**\n",
      "**Processing 461 comments...**\n",
      "**Processing 462 comments...**\n",
      "**Processing 463 comments...**\n",
      "**Processing 464 comments...**\n",
      "**Processing 465 comments...**\n",
      "**Processing 466 comments...**\n"
     ]
    },
    {
     "name": "stderr",
     "output_type": "stream",
     "text": [
      "/anaconda3/lib/python3.7/site-packages/sklearn/multiclass.py:76: UserWarning: Label not 0.0 is present in all training examples.\n",
      "  str(classes[c]))\n",
      "/anaconda3/lib/python3.7/site-packages/sklearn/multiclass.py:76: UserWarning: Label not 0.0 is present in all training examples.\n",
      "  str(classes[c]))\n"
     ]
    },
    {
     "name": "stdout",
     "output_type": "stream",
     "text": [
      "**Processing 467 comments...**\n",
      "**Processing 468 comments...**\n",
      "**Processing 469 comments...**\n",
      "**Processing 470 comments...**\n",
      "**Processing 471 comments...**\n"
     ]
    },
    {
     "name": "stderr",
     "output_type": "stream",
     "text": [
      "/anaconda3/lib/python3.7/site-packages/sklearn/multiclass.py:76: UserWarning: Label not 0.0 is present in all training examples.\n",
      "  str(classes[c]))\n",
      "/anaconda3/lib/python3.7/site-packages/sklearn/multiclass.py:76: UserWarning: Label not 0.0 is present in all training examples.\n",
      "  str(classes[c]))\n",
      "/anaconda3/lib/python3.7/site-packages/sklearn/linear_model/sag.py:334: ConvergenceWarning: The max_iter was reached which means the coef_ did not converge\n",
      "  \"the coef_ did not converge\", ConvergenceWarning)\n"
     ]
    },
    {
     "name": "stdout",
     "output_type": "stream",
     "text": [
      "**Processing 472 comments...**\n",
      "**Processing 473 comments...**\n",
      "**Processing 474 comments...**\n",
      "**Processing 475 comments...**\n",
      "**Processing 476 comments...**\n"
     ]
    },
    {
     "name": "stderr",
     "output_type": "stream",
     "text": [
      "/anaconda3/lib/python3.7/site-packages/sklearn/multiclass.py:76: UserWarning: Label not 0.0 is present in all training examples.\n",
      "  str(classes[c]))\n",
      "/anaconda3/lib/python3.7/site-packages/sklearn/multiclass.py:76: UserWarning: Label not 0.0 is present in all training examples.\n",
      "  str(classes[c]))\n"
     ]
    },
    {
     "name": "stdout",
     "output_type": "stream",
     "text": [
      "**Processing 477 comments...**\n",
      "**Processing 478 comments...**\n",
      "**Processing 479 comments...**\n",
      "**Processing 480 comments...**\n",
      "**Processing 481 comments...**\n"
     ]
    }
   ],
   "source": [
    "from sklearn.linear_model import LogisticRegression\n",
    "from sklearn.pipeline import Pipeline\n",
    "from sklearn.metrics import accuracy_score\n",
    "from sklearn.multiclass import OneVsRestClassifier\n",
    "accuracy = []\n",
    "LogRegprediction = []\n",
    "    \n",
    "# Using pipeline for applying logistic regression and one vs rest classifier\n",
    "LogReg_pipeline = Pipeline([\n",
    "                ('clf', OneVsRestClassifier(LogisticRegression(solver='sag'), n_jobs=1)),\n",
    "                ])\n",
    "for category in range(482):\n",
    "    print('**Processing {} comments...**'.format(category)) \n",
    "    # Training logistic regression model on train data\n",
    "    LogReg_pipeline.fit(X_train, y_train.iloc[:,category])\n",
    "    \n",
    "    # calculating test accuracy\n",
    "    prediction = LogReg_pipeline.predict(X_test)\n",
    "    LogRegprediction.append(prediction)\n",
    "    accuracy.append(accuracy_score(y_test.iloc[:,category], prediction))"
   ]
  },
  {
   "cell_type": "code",
   "execution_count": 40,
   "metadata": {},
   "outputs": [],
   "source": [
    "LogRegprediction = np.array(LogRegprediction).T\n",
    "hamm = []\n",
    "for i in range((y_test.shape[0])):\n",
    "    hamm.append(hamming_loss(y_test1[i,:].toarray().T,LogRegprediction[i,:].T))"
   ]
  },
  {
   "cell_type": "code",
   "execution_count": 41,
   "metadata": {},
   "outputs": [
    {
     "data": {
      "image/png": "[encoded data removed]",
      "text/plain": [
       "<Figure size 432x288 with 1 Axes>"
      ]
     },
     "metadata": {
      "needs_background": "light"
     },
     "output_type": "display_data"
    }
   ],
   "source": [
    "import numpy as np\n",
    "import matplotlib.pyplot as plt\n",
    "\n",
    "# the histogram of the data\n",
    "n, bins, patches = plt.hist(hamm, 9, density=True, facecolor='steelblue', alpha=0.75)\n",
    "plt.show()"
   ]
  },
  {
   "cell_type": "code",
   "execution_count": 140,
   "metadata": {},
   "outputs": [
    {
     "name": "stdout",
     "output_type": "stream",
     "text": [
      "    accuracy                                law\n",
      "0   0.974705                                诉讼法\n",
      "1   0.918701                              交通安全法\n",
      "2   0.812402                              侵权责任法\n",
      "3   0.754035           关于审理道路交通事故损害赔偿案件适用法律若干问题\n",
      "4   0.648031                       关于审理人身损害赔偿案件\n",
      "5   0.663878                                保险法\n",
      "6   0.775394                    机动车交通事故责任强制保险条例\n",
      "7   0.872244               关于确定民事侵权精神损害赔偿责任若干问题\n",
      "8   0.892126                               民法通则\n",
      "9   0.987402                              食品安全法\n",
      "10  0.957185                               民事诉讼\n",
      "11  0.963976                      最高人民法院关于适用的解释\n",
      "12  0.968898                                合同法\n",
      "13   0.96998                    机动车交通事故责任强制保险条款\n",
      "14  0.989961      最高人民法院关于审理食品药品纠纷案件适用法律若干问题的规定\n",
      "15  0.993209                              产品质量法\n",
      "16  0.993701                           诉讼费用交纳办法\n",
      "17  0.993602                               民法总则\n",
      "18   0.99498            关于审理道路交通事故损害赔偿案件若干问题的解释\n",
      "19  0.995965                           消费者权益保护法\n",
      "20  0.995276        关于审理道路交通事故损害赔偿案件适应法律若干问题的解释\n",
      "21  0.996555              最高人民法院关于交通事故损害赔偿的司法解释\n",
      "22  0.997146            关于审理精神损害赔偿案件适用法律若干问题的解释\n",
      "23  0.997244              确定民事侵权精神损害赔偿责任若干问题的解释\n",
      "24  0.997343                              道路安全法\n",
      "25   0.99813                        关于适用若干问题的解释\n",
      "26   0.99872                    简易程序审理民事案件的若干规定\n",
      "27  0.998524                                公司法\n",
      "28   0.99813                                继承法\n",
      "29  0.998228                                物权法\n",
      "30  0.998327          关于审理交通事故损害赔偿案件适用法律若干问题的解释\n",
      "31  0.999114                            交通事故安全法\n",
      "32  0.999114                人身损害赔偿案件适用法律若干问题的解释\n",
      "33  0.998917                      最高人民法院关于适用的通知\n",
      "34  0.999114                                侵权法\n",
      "35  0.999213              关于审理人身损害赔偿适用法律若干问题的解释\n",
      "36  0.999213               上海市机动车道路交通事故赔偿责任若干规定\n",
      "37  0.999311                              土地承包法\n",
      "38  0.999508  最高人民法院关于审理道路交通事故损害赔偿案件使用法律若干问题的解释\n",
      "39  0.999508                最高人民法院关于贯彻执行若干问题的意见\n"
     ]
    }
   ],
   "source": [
    "accuracy = np.array(accuracy)\n",
    "result = pd.DataFrame(np.vstack([accuracy[relevantlaw],Lawset4['law'][relevantlaw]]).T,columns=[\"accuracy\",\"law\"])\n",
    "print(result)"
   ]
  },
  {
   "cell_type": "markdown",
   "metadata": {},
   "source": [
    "#### MLkNN"
   ]
  },
  {
   "cell_type": "code",
   "execution_count": 133,
   "metadata": {},
   "outputs": [],
   "source": [
    "from skmultilearn.adapt import MLkNN\n",
    "classifier = MLkNN(k=20)\n",
    "# train\n",
    "classifier.fit(X_train1, y_train1)\n",
    "# predict\n",
    "predictions = classifier.predict(X_test1)"
   ]
  },
  {
   "cell_type": "code",
   "execution_count": 134,
   "metadata": {},
   "outputs": [],
   "source": [
    "from sklearn.metrics import accuracy_score,hamming_loss\n",
    "sumac = 0\n",
    "accuracy = []\n",
    "hamm = []\n",
    "for i in range((y_test.shape[0])):\n",
    "    hamm.append(hamming_loss(y_test1[i,:].toarray().T,predictions[i,:].toarray().T))\n",
    "for i in range(482):\n",
    "    accuracy.append(accuracy_score(y_test.iloc[:,i],predictions[:,i].todense()))"
   ]
  },
  {
   "cell_type": "code",
   "execution_count": 135,
   "metadata": {},
   "outputs": [
    {
     "data": {
      "image/png": "[encoded data removed]",
      "text/plain": [
       "<Figure size 432x288 with 1 Axes>"
      ]
     },
     "metadata": {
      "needs_background": "light"
     },
     "output_type": "display_data"
    }
   ],
   "source": [
    "import numpy as np\n",
    "import matplotlib.pyplot as plt\n",
    "\n",
    "# the histogram of the data\n",
    "n, bins, patches = plt.hist(hamm, 9, density=True, facecolor='steelblue', alpha=0.75)\n",
    "plt.show()"
   ]
  },
  {
   "cell_type": "code",
   "execution_count": 136,
   "metadata": {},
   "outputs": [
    {
     "data": {
      "text/html": [
       "<div>\n",
       "<style scoped>\n",
       "    .dataframe tbody tr th:only-of-type {\n",
       "        vertical-align: middle;\n",
       "    }\n",
       "\n",
       "    .dataframe tbody tr th {\n",
       "        vertical-align: top;\n",
       "    }\n",
       "\n",
       "    .dataframe thead th {\n",
       "        text-align: right;\n",
       "    }\n",
       "</style>\n",
       "<table border=\"1\" class=\"dataframe\">\n",
       "  <thead>\n",
       "    <tr style=\"text-align: right;\">\n",
       "      <th></th>\n",
       "      <th>accuracy</th>\n",
       "      <th>law</th>\n",
       "    </tr>\n",
       "  </thead>\n",
       "  <tbody>\n",
       "    <tr>\n",
       "      <th>0</th>\n",
       "      <td>0.994193</td>\n",
       "      <td>诉讼法</td>\n",
       "    </tr>\n",
       "    <tr>\n",
       "      <th>1</th>\n",
       "      <td>0.920965</td>\n",
       "      <td>交通安全法</td>\n",
       "    </tr>\n",
       "    <tr>\n",
       "      <th>2</th>\n",
       "      <td>0.813681</td>\n",
       "      <td>侵权责任法</td>\n",
       "    </tr>\n",
       "    <tr>\n",
       "      <th>3</th>\n",
       "      <td>0.746949</td>\n",
       "      <td>关于审理道路交通事故损害赔偿案件适用法律若干问题</td>\n",
       "    </tr>\n",
       "    <tr>\n",
       "      <th>4</th>\n",
       "      <td>0.647047</td>\n",
       "      <td>关于审理人身损害赔偿案件</td>\n",
       "    </tr>\n",
       "    <tr>\n",
       "      <th>5</th>\n",
       "      <td>0.663878</td>\n",
       "      <td>保险法</td>\n",
       "    </tr>\n",
       "    <tr>\n",
       "      <th>6</th>\n",
       "      <td>0.775394</td>\n",
       "      <td>机动车交通事故责任强制保险条例</td>\n",
       "    </tr>\n",
       "    <tr>\n",
       "      <th>7</th>\n",
       "      <td>0.872244</td>\n",
       "      <td>关于确定民事侵权精神损害赔偿责任若干问题</td>\n",
       "    </tr>\n",
       "    <tr>\n",
       "      <th>8</th>\n",
       "      <td>0.892126</td>\n",
       "      <td>民法通则</td>\n",
       "    </tr>\n",
       "    <tr>\n",
       "      <th>9</th>\n",
       "      <td>0.987795</td>\n",
       "      <td>食品安全法</td>\n",
       "    </tr>\n",
       "    <tr>\n",
       "      <th>10</th>\n",
       "      <td>0.957185</td>\n",
       "      <td>民事诉讼</td>\n",
       "    </tr>\n",
       "    <tr>\n",
       "      <th>11</th>\n",
       "      <td>0.966732</td>\n",
       "      <td>最高人民法院关于适用的解释</td>\n",
       "    </tr>\n",
       "    <tr>\n",
       "      <th>12</th>\n",
       "      <td>0.968898</td>\n",
       "      <td>合同法</td>\n",
       "    </tr>\n",
       "    <tr>\n",
       "      <th>13</th>\n",
       "      <td>0.96998</td>\n",
       "      <td>机动车交通事故责任强制保险条款</td>\n",
       "    </tr>\n",
       "    <tr>\n",
       "      <th>14</th>\n",
       "      <td>0.989665</td>\n",
       "      <td>最高人民法院关于审理食品药品纠纷案件适用法律若干问题的规定</td>\n",
       "    </tr>\n",
       "    <tr>\n",
       "      <th>15</th>\n",
       "      <td>0.993209</td>\n",
       "      <td>产品质量法</td>\n",
       "    </tr>\n",
       "    <tr>\n",
       "      <th>16</th>\n",
       "      <td>0.994193</td>\n",
       "      <td>诉讼费用交纳办法</td>\n",
       "    </tr>\n",
       "    <tr>\n",
       "      <th>17</th>\n",
       "      <td>0.993602</td>\n",
       "      <td>民法总则</td>\n",
       "    </tr>\n",
       "    <tr>\n",
       "      <th>18</th>\n",
       "      <td>0.99498</td>\n",
       "      <td>关于审理道路交通事故损害赔偿案件若干问题的解释</td>\n",
       "    </tr>\n",
       "    <tr>\n",
       "      <th>19</th>\n",
       "      <td>0.996063</td>\n",
       "      <td>消费者权益保护法</td>\n",
       "    </tr>\n",
       "  </tbody>\n",
       "</table>\n",
       "</div>"
      ],
      "text/plain": [
       "    accuracy                            law\n",
       "0   0.994193                            诉讼法\n",
       "1   0.920965                          交通安全法\n",
       "2   0.813681                          侵权责任法\n",
       "3   0.746949       关于审理道路交通事故损害赔偿案件适用法律若干问题\n",
       "4   0.647047                   关于审理人身损害赔偿案件\n",
       "5   0.663878                            保险法\n",
       "6   0.775394                机动车交通事故责任强制保险条例\n",
       "7   0.872244           关于确定民事侵权精神损害赔偿责任若干问题\n",
       "8   0.892126                           民法通则\n",
       "9   0.987795                          食品安全法\n",
       "10  0.957185                           民事诉讼\n",
       "11  0.966732                  最高人民法院关于适用的解释\n",
       "12  0.968898                            合同法\n",
       "13   0.96998                机动车交通事故责任强制保险条款\n",
       "14  0.989665  最高人民法院关于审理食品药品纠纷案件适用法律若干问题的规定\n",
       "15  0.993209                          产品质量法\n",
       "16  0.994193                       诉讼费用交纳办法\n",
       "17  0.993602                           民法总则\n",
       "18   0.99498        关于审理道路交通事故损害赔偿案件若干问题的解释\n",
       "19  0.996063                       消费者权益保护法"
      ]
     },
     "execution_count": 136,
     "metadata": {},
     "output_type": "execute_result"
    }
   ],
   "source": [
    "accuracy = np.array(accuracy)\n",
    "pd.DataFrame(np.vstack([accuracy[relevantlaw],Lawset4['law'][relevantlaw]]).T,columns=[\"accuracy\",\"law\"])"
   ]
  },
  {
   "cell_type": "code",
   "execution_count": null,
   "metadata": {},
   "outputs": [],
   "source": []
  }
 ],
 "metadata": {
  "kernelspec": {
   "display_name": "Python 3",
   "language": "python",
   "name": "python3"
  },
  "language_info": {
   "codemirror_mode": {
    "name": "ipython",
    "version": 3
   },
   "file_extension": ".py",
   "mimetype": "text/x-python",
   "name": "python",
   "nbconvert_exporter": "python",
   "pygments_lexer": "ipython3",
   "version": "3.7.2"
  }
 },
 "nbformat": 4,
 "nbformat_minor": 2
}
