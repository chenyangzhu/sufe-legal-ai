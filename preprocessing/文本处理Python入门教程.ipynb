{
 "cells": [
  {
   "cell_type": "markdown",
   "metadata": {},
   "source": [
    "# 数据预处理简单说明\n",
    "\n",
    "此文档，简单介绍如何用python进行简单的文本分析 -- Klaus"
   ]
  },
  {
   "cell_type": "markdown",
   "metadata": {},
   "source": [
    "## 第一步、安装并加载需要用到的包"
   ]
  },
  {
   "cell_type": "code",
   "execution_count": 2,
   "metadata": {
    "collapsed": true
   },
   "outputs": [
    {
     "name": "stdout",
     "output_type": "stream",
     "text": [
      "Requirement already satisfied: jieba in c:\\users\\klaus\\anaconda3\\lib\\site-packages (0.39)\n"
     ]
    },
    {
     "name": "stderr",
     "output_type": "stream",
     "text": [
      "twisted 18.7.0 requires PyHamcrest>=1.9.0, which is not installed.\n",
      "notebook 5.6.0 requires ipykernel, which is not installed.\n",
      "jupyter 1.0.0 requires ipykernel, which is not installed.\n",
      "jupyter-console 5.2.0 requires ipykernel, which is not installed.\n",
      "ipywidgets 7.1.1 requires ipykernel>=4.5.1, which is not installed.\n",
      "You are using pip version 10.0.1, however version 18.1 is available.\n",
      "You should consider upgrading via the 'python -m pip install --upgrade pip' command.\n"
     ]
    },
    {
     "name": "stdout",
     "output_type": "stream",
     "text": [
      "Collecting sklearn\n",
      "  Downloading https://files.pythonhosted.org/packages/1e/7a/dbb3be0ce9bd5c8b7e3d87328e79063f8b263b2b1bfa4774cb1147bfcd3f/sklearn-0.0.tar.gz\n",
      "Requirement already satisfied: scikit-learn in c:\\users\\klaus\\anaconda3\\lib\\site-packages (from sklearn) (0.19.1)\n",
      "Building wheels for collected packages: sklearn\n",
      "  Running setup.py bdist_wheel for sklearn: started\n",
      "  Running setup.py bdist_wheel for sklearn: finished with status 'done'\n",
      "  Stored in directory: C:\\Users\\Klaus\\AppData\\Local\\pip\\Cache\\wheels\\76\\03\\bb\\589d421d27431bcd2c6da284d5f2286c8e3b2ea3cf1594c074\n",
      "Successfully built sklearn\n",
      "Installing collected packages: sklearn\n",
      "Successfully installed sklearn-0.0\n"
     ]
    },
    {
     "name": "stderr",
     "output_type": "stream",
     "text": [
      "twisted 18.7.0 requires PyHamcrest>=1.9.0, which is not installed.\n",
      "notebook 5.6.0 requires ipykernel, which is not installed.\n",
      "jupyter 1.0.0 requires ipykernel, which is not installed.\n",
      "jupyter-console 5.2.0 requires ipykernel, which is not installed.\n",
      "ipywidgets 7.1.1 requires ipykernel>=4.5.1, which is not installed.\n",
      "You are using pip version 10.0.1, however version 18.1 is available.\n",
      "You should consider upgrading via the 'python -m pip install --upgrade pip' command.\n"
     ]
    }
   ],
   "source": [
    "!pip install jieba\n",
    "!pip install sklearn"
   ]
  },
  {
   "cell_type": "code",
   "execution_count": 3,
   "metadata": {},
   "outputs": [],
   "source": [
    "import jieba\n",
    "import re"
   ]
  },
  {
   "cell_type": "markdown",
   "metadata": {},
   "source": [
    "## 第二节、re 正则表达式"
   ]
  },
  {
   "cell_type": "markdown",
   "metadata": {},
   "source": [
    "本节我们主要使用re，来找到文档中的法条名称。假如我们拿到了以下一段文字，如何提取其中的法条名称呢？可以直接拷贝这条代码。"
   ]
  },
  {
   "cell_type": "code",
   "execution_count": 25,
   "metadata": {},
   "outputs": [],
   "source": [
    "import re"
   ]
  },
  {
   "cell_type": "code",
   "execution_count": 17,
   "metadata": {},
   "outputs": [
    {
     "name": "stdout",
     "output_type": "stream",
     "text": [
      "本院认为，被告人李丙故意伤害他人身体，致一人轻伤，依照《中华人民共和国刑法》第二百三十四条第一款的规定，已构成故意伤害罪，应处三年以下有期徒刑。、公诉机关指控被告人李丙犯故意伤害罪的事实清楚，证据确实、充分，罪名成立。、被告人李丙具有自首情节，依照《中华人民共和国刑法》第六十七条第一款的规定，可以从轻处罚。、被告人李丙对被害人施某某作出了经济赔偿，并取得谅解，可以酌情从轻处罚。、依照《中华人民共和国刑法》第七十二条第一款和第七十三条第二款、第三款的规定，对被告人李丙可以宣告缓刑。\n"
     ]
    }
   ],
   "source": [
    "# 导入我们的文字\n",
    "text = \"本院认为，被告人李丙故意伤害他人身体，致一人轻伤，依照《中华人民共和国刑法》第二百三十四条第一款的规定，已构成故意伤害罪，应处三年以下有期徒刑。、公诉机关指控被告人李丙犯故意伤害罪的事实清楚，证据确实、充分，罪名成立。、被告人李丙具有自首情节，依照《中华人民共和国刑法》第六十七条第一款的规定，可以从轻处罚。、被告人李丙对被害人施某某作出了经济赔偿，并取得谅解，可以酌情从轻处罚。、依照《中华人民共和国刑法》第七十二条第一款和第七十三条第二款、第三款的规定，对被告人李丙可以宣告缓刑。\"\n",
    "print(text)"
   ]
  },
  {
   "cell_type": "code",
   "execution_count": 16,
   "metadata": {},
   "outputs": [
    {
     "data": {
      "text/plain": [
       "['《中华人民共和国刑法》', '《中华人民共和国刑法》', '《中华人民共和国刑法》']"
      ]
     },
     "execution_count": 16,
     "metadata": {},
     "output_type": "execute_result"
    }
   ],
   "source": [
    "# 通过书名号，找到法条名\n",
    "pattern = re.compile(r'《.*?》')\n",
    "re.findall(pattern,text)"
   ]
  },
  {
   "cell_type": "code",
   "execution_count": 19,
   "metadata": {},
   "outputs": [
    {
     "data": {
      "text/plain": [
       "['第二百三十四条第一款', '第六十七条第一款', '第七十二条第一款', '第七十三条第二款', '第三款']"
      ]
     },
     "execution_count": 19,
     "metadata": {},
     "output_type": "execute_result"
    }
   ],
   "source": [
    "# 如果想要继续寻找，其中的第几条款，我们可以使用\n",
    "pattern2 = re.compile(r'第.*?款')\n",
    "re.findall(pattern2,text)"
   ]
  },
  {
   "cell_type": "code",
   "execution_count": 22,
   "metadata": {},
   "outputs": [
    {
     "data": {
      "text/plain": [
       "['《中华人民共和国刑法》第二百三十四条第一款', '《中华人民共和国刑法》第六十七条第一款', '《中华人民共和国刑法》第七十二条第一款']"
      ]
     },
     "execution_count": 22,
     "metadata": {},
     "output_type": "execute_result"
    }
   ],
   "source": [
    "# 当然，为了方便，可以直接使用\n",
    "pattern3 = re.compile(r'《.*?款')\n",
    "re.findall(pattern3,text)"
   ]
  },
  {
   "cell_type": "code",
   "execution_count": 23,
   "metadata": {},
   "outputs": [
    {
     "data": {
      "text/plain": [
       "['《中华人民共和国刑法》第二百三十四条第一款的规定',\n",
       " '《中华人民共和国刑法》第六十七条第一款的规定',\n",
       " '《中华人民共和国刑法》第七十二条第一款和第七十三条第二款、第三款的规定']"
      ]
     },
     "execution_count": 23,
     "metadata": {},
     "output_type": "execute_result"
    }
   ],
   "source": [
    "# 注意，有可能会省略掉部分条款，这时候可以采取一些聪明的方法进行修正。\n",
    "pattern4 = re.compile(r'《.*?的规定')\n",
    "re.findall(pattern4,text)"
   ]
  },
  {
   "cell_type": "markdown",
   "metadata": {},
   "source": [
    "更多的关于正则表达式的资料可以看 https://docs.python.org/3/library/re.html\n",
    "\n",
    "正则表达式往往只能切出一部分你需要的精确值，却不能对整篇文章进行大规模分析，因此我们需要以下这个拓展包。"
   ]
  },
  {
   "cell_type": "markdown",
   "metadata": {},
   "source": [
    "## 第三节、结巴分词"
   ]
  },
  {
   "cell_type": "markdown",
   "metadata": {},
   "source": [
    "jieba 分词可以很方便的将中文文本进行切割。比如这样做，"
   ]
  },
  {
   "cell_type": "code",
   "execution_count": 27,
   "metadata": {},
   "outputs": [
    {
     "name": "stdout",
     "output_type": "stream",
     "text": [
      "本院认为，被告人李丙故意伤害他人身体，致一人轻伤，依照《中华人民共和国刑法》第二百三十四条第一款的规定，已构成故意伤害罪，应处三年以下有期徒刑。、公诉机关指控被告人李丙犯故意伤害罪的事实清楚，证据确实、充分，罪名成立。、被告人李丙具有自首情节，依照《中华人民共和国刑法》第六十七条第一款的规定，可以从轻处罚。、被告人李丙对被害人施某某作出了经济赔偿，并取得谅解，可以酌情从轻处罚。、依照《中华人民共和国刑法》第七十二条第一款和第七十三条第二款、第三款的规定，对被告人李丙可以宣告缓刑。\n"
     ]
    }
   ],
   "source": [
    "import jieba\n",
    "# 还是刚才的例子\n",
    "text = \"本院认为，被告人李丙故意伤害他人身体，致一人轻伤，依照《中华人民共和国刑法》第二百三十四条第一款的规定，已构成故意伤害罪，应处三年以下有期徒刑。、公诉机关指控被告人李丙犯故意伤害罪的事实清楚，证据确实、充分，罪名成立。、被告人李丙具有自首情节，依照《中华人民共和国刑法》第六十七条第一款的规定，可以从轻处罚。、被告人李丙对被害人施某某作出了经济赔偿，并取得谅解，可以酌情从轻处罚。、依照《中华人民共和国刑法》第七十二条第一款和第七十三条第二款、第三款的规定，对被告人李丙可以宣告缓刑。\"\n",
    "print(text)"
   ]
  },
  {
   "cell_type": "code",
   "execution_count": 35,
   "metadata": {},
   "outputs": [
    {
     "name": "stdout",
     "output_type": "stream",
     "text": [
      "<generator object Tokenizer.cut at 0x000001F1A8A37728>\n"
     ]
    }
   ],
   "source": [
    "gen = jieba.cut(text) # 返回一个generator\n",
    "print(gen)"
   ]
  },
  {
   "cell_type": "code",
   "execution_count": 36,
   "metadata": {},
   "outputs": [
    {
     "name": "stdout",
     "output_type": "stream",
     "text": [
      "['本院认为', '，', '被告人', '李丙', '故意伤害', '他人', '身体', '，', '致一人', '轻伤', '，', '依照', '《', '中华人民共和国', '刑法', '》', '第', '二百三十', '四条', '第一款', '的', '规定', '，', '已', '构成', '故意伤害罪', '，', '应处', '三年', '以下', '有期徒刑', '。', '、', '公诉', '机关', '指控', '被告人', '李丙犯', '故意伤害罪', '的', '事实清楚', '，', '证据', '确实', '、', '充分', '，', '罪名', '成立', '。', '、', '被告人', '李丙', '具有', '自首', '情节', '，', '依照', '《', '中华人民共和国', '刑法', '》', '第六十七条', '第一款', '的', '规定', '，', '可以', '从轻', '处罚', '。', '、', '被告人', '李丙对', '被害人', '施', '某某', '作出', '了', '经济', '赔偿', '，', '并', '取得', '谅解', '，', '可以', '酌情', '从轻', '处罚', '。', '、', '依照', '《', '中华人民共和国', '刑法', '》', '第', '七十二条', '第一款', '和', '第七十三', '条', '第二款', '、', '第三款', '的', '规定', '，', '对', '被告人', '李丙', '可以', '宣告', '缓刑', '。']\n"
     ]
    }
   ],
   "source": [
    "# 可以用这种方式得到我们需要的列表\n",
    "cutted = [seg for seg in gen]\n",
    "print(cutted)"
   ]
  },
  {
   "cell_type": "markdown",
   "metadata": {},
   "source": [
    "注意到，这个列表里切的非常乱，有效信息处理相对比较复杂，同时还包括了逗号、引号等。这种切词方式，不如用正则表达式$re$精确，但实现了对整篇文章的切词。这一问题，可以在之后增加jieba的词典来解决。"
   ]
  }
 ],
 "metadata": {
  "kernelspec": {
   "display_name": "Python 3",
   "language": "python",
   "name": "python3"
  },
  "language_info": {
   "codemirror_mode": {
    "name": "ipython",
    "version": 3
   },
   "file_extension": ".py",
   "mimetype": "text/x-python",
   "name": "python",
   "nbconvert_exporter": "python",
   "pygments_lexer": "ipython3",
   "version": "3.6.4"
  }
 },
 "nbformat": 4,
 "nbformat_minor": 2
}
