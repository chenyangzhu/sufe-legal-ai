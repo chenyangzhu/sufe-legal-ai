{
 "cells": [
  {
   "cell_type": "code",
   "execution_count": 1,
   "metadata": {},
   "outputs": [],
   "source": [
    "import re\n",
    "import pandas as pd\n",
    "import numpy as np\n",
    "import jieba.posseg as pseg\n",
    "import jieba\n",
    "\n",
    "entity_ac = np.array(('原告','上诉人','申请人'))\n",
    "entity_df = np.array(('被告','被上诉人','被申请人'))\n",
    "entity = np.vstack((entity_ac,entity_df))\n"
   ]
  },
  {
   "cell_type": "code",
   "execution_count": 54,
   "metadata": {},
   "outputs": [],
   "source": [
    "def StruStr(String):\n",
    "    pattern = ':|：|。|、，'\n",
    "    result_list = re.split(pattern, String)\n",
    "    accuser=[]\n",
    "    defender = []\n",
    "    for j in range(len(result_list)):\n",
    "        for i in range(entity.shape[1]):\n",
    "            if re.search(re.compile(\"[^!被]\"+entity[0,i]),\" \"+result_list[j]) and len(result_list[j]) <= len(entity[1,i])+1:\n",
    "                accuser.append(result_list[j+1])\n",
    "            elif re.search(entity[1,i],result_list[j]) and len(result_list[j]) <= len(entity[0,i]) + 2:\n",
    "                defender.append(result_list[j + 1])\n",
    "    return(accuser,defender)\n",
    "\n",
    "                 \n",
    "#非结构化语句\n",
    "def NatuStr(String):\n",
    "    pattern = r',|。|，|；'\n",
    "    result_list = re.split(pattern, String)\n",
    "    accuser=[]\n",
    "    defender = []\n",
    "    for j in range(len(result_list)):\n",
    "        for i in range(entity.shape[1]):\n",
    "            s0 = re.search(re.compile(\"[^!被]\"+entity[0,i]),\" \"+result_list[j])\n",
    "            s1 = re.search(entity[1,i],result_list[j])\n",
    "            if s0 and s1:\n",
    "                continue\n",
    "            elif s0 and len(result_list[j]) >= len(entity[1,i])+1:\n",
    "                accuser.append(re.sub(entity[0,i],\"\",result_list[j]))\n",
    "            elif s1 and len(result_list[j]) >= len(entity[0,i])+1:\n",
    "                defender.append(re.sub(entity[1,i],\"\",result_list[j]))\n",
    "            ##如果有被上诉人应该忽略被告 因为被告指的是原审\n",
    "    return(accuser,defender)\n",
    "\n",
    "def OneStr(String):\n",
    "    seri = []\n",
    "    accuser = [] \n",
    "    defender = []\n",
    "\n",
    "    s0 = re.finditer(entity[0,0],String)\n",
    "    s1 = re.finditer(entity[1,0],String)\n",
    "    s = [s0,s1]\n",
    "    for j in range(1,-1,-1):\n",
    "        if s[j]:\n",
    "    # j = 0 原告','上诉人','申请人' j = 1 '被告','被上诉人','被申请人'\n",
    "            for it in s[j]:\n",
    "                seri.append((j,it.span()))\n",
    "    #print(seri)\n",
    "\n",
    "    for i in range(1,entity.shape[1]):\n",
    "        s0 = re.finditer(re.compile(\"[^!被]\"+entity[0,i]),String)\n",
    "        s1 = re.finditer(entity[1,i],String)\n",
    "        s = [s0,s1]\n",
    "        for j in range(1,-1,-1):\n",
    "            if s[j]:\n",
    "                # j = 0 原告','上诉人','申请人' j = 1 '被告','被上诉人','被申请人'\n",
    "                for it in s[j]:\n",
    "                    seri.append((j,it.span()))\n",
    "   # print(seri)          \n",
    "        \n",
    "#获得分割位置\n",
    "    enumber  = np.hstack(seri[i][1] for i in range(len(seri))) \n",
    "    index = np.sort(enumber)\n",
    "    order = np.argsort(enumber)\n",
    "    #print(order)\n",
    "#出于对庭审过程类似的字符串考虑，应该限制抓取长度。 并且认为在同一段文字中 对于原告被告的陈述会在靠前的位置\n",
    "#并且认为重复出现同一主体（公司等表示 陈述结束）\n",
    "#在非结构化的字符串中，一般不会在一个“被告”后加多个主体。。\n",
    "    i = 0\n",
    "    accuser=[]\n",
    "    defender=[]\n",
    "    while i <= len(index)-1: #类型\n",
    "        #print(order[i]/2)\n",
    "        j = seri[np.int(order[i]/2)][0]\n",
    "        if i == len(index)- 2:\n",
    "            content = String[index[i+1]:(index[i+1]+30)]\n",
    "        else:\n",
    "            content = String[index[i+1]:index[i+2]]\n",
    "        if j:\n",
    "            defender.append(content)\n",
    "        else:\n",
    "            accuser.append(content)  \n",
    "        i = i + 2    \n",
    "    return(accuser,defender)\n",
    "\n",
    "#stringnew = string1[index[0]:(index[0]+50)]\n",
    "#index[np.argwhere(index == 3)+1]\n",
    "    "
   ]
  },
  {
   "cell_type": "code",
   "execution_count": 55,
   "metadata": {},
   "outputs": [],
   "source": [
    "def JudgeE(strlist):\n",
    "    company = re.compile(r'.*?公司|.*?有限公.*')\n",
    "    natural_person = 0\n",
    "    legal_person = 0\n",
    "    other_person = 0\n",
    "    if strlist.shape[0]:\n",
    "        for i in range(strlist.shape[0]):\n",
    "            #显示进度\n",
    "            if i % 10 == 0:\n",
    "                print(i)\n",
    "        #判断是否缺失\n",
    "            if pd.isna(strlist[i]):\n",
    "                continue\n",
    "        #判断是否有字符串中是否有公司\n",
    "            if re.search(company, strlist[i]) is not None:\n",
    "                legal_person = 1\n",
    "        #查找名字：按标点分割后长度小于等于4，不含有公司（不考虑外国人和少数民族）\n",
    "            l = re.split('、', strlist[i])\n",
    "            l2 = list(filter(lambda s: (re.search(company, s)) is None, l))\n",
    "            if len(l2) > 0:\n",
    "                for mes in l2:\n",
    "                    words0 = pseg.cut(mes)\n",
    "                    for word, flag in words0:\n",
    "                        if flag == 'nr':  # 人名词性为nr\n",
    "                            natural_person = 1\n",
    "                            break\n",
    "            if natural_person+legal_person == 0:\n",
    "                other_person = 1\n",
    "        \n",
    "                        \n",
    "    return(natural_person, legal_person, other_person)"
   ]
  },
  {
   "cell_type": "code",
   "execution_count": 56,
   "metadata": {},
   "outputs": [],
   "source": [
    "def Entity_Extractor(String):\n",
    "    # http://www.sohu.com/a/249531167_656612\n",
    "    data = {}\n",
    "    ac_natural_person = 0\n",
    "    ac_legal_person = 0\n",
    "    ac_other_person = 0\n",
    "    \n",
    "    df_natural_person = 0\n",
    "    df_legal_person = 0\n",
    "    df_other_person = 0\n",
    "    \n",
    "    accuser0,defender0 = StruStr(String)\n",
    "    accuser1,defender1 = NatuStr(String)\n",
    "    accuser2,defender2 = OneStr(String)\n",
    "    accuser = np.hstack((accuser0,accuser1,accuser2))\n",
    "    defender = np.hstack((defender0,defender1,defender2))\n",
    "    print(\"原告\",accuser)\n",
    "    print(\"被告\",defender)\n",
    "    \n",
    "    ac_natural_person, ac_legal_person, ac_other_person = JudgeE(accuser)\n",
    "    df_natural_person, df_legal_person, df_other_person = JudgeE(defender)\n",
    "    \n",
    "    data['被告_是否_自然人'] = df_natural_person\n",
    "    data['被告_是否_法人'] = df_legal_person\n",
    "    data['被告_是否_其他'] = df_other_person\n",
    "   \n",
    "    data['原告_是否_自然人'] = ac_natural_person\n",
    "    data['原告_是否_法人'] = ac_legal_person\n",
    "    data['原告_是否_其他'] = ac_other_person\n",
    "    \n",
    "    del ac_natural_person, ac_legal_person, ac_other_person,  \n",
    "    df_natural_person, df_legal_person, df_other_person  # 控制内存\n",
    "\n",
    "    return data  # return a new pandas DataFrame\n"
   ]
  },
  {
   "cell_type": "code",
   "execution_count": 57,
   "metadata": {},
   "outputs": [
    {
     "name": "stdout",
     "output_type": "stream",
     "text": [
      "原告 ['临沂金伯利置业有限公司（以下简称金伯利公司）与']\n",
      "被告 ['中国人民财产保险股份有限公司临沂市分公司（以下简称临沂人保财']\n",
      "0\n",
      "0\n"
     ]
    },
    {
     "data": {
      "text/plain": [
       "{'原告_是否_其他': 0,\n",
       " '原告_是否_法人': 1,\n",
       " '原告_是否_自然人': 0,\n",
       " '被告_是否_其他': 0,\n",
       " '被告_是否_法人': 1,\n",
       " '被告_是否_自然人': 0}"
      ]
     },
     "execution_count": 57,
     "metadata": {},
     "output_type": "execute_result"
    }
   ],
   "source": [
    "string0 = \"原告临沂金伯利置业有限公司（以下简称金伯利公司）\\\n",
    "与被告中国人民财产保险股份有限公司临沂市分公司（以下简称临沂人保财险公司）\\\n",
    "财产保险合同纠纷一案，本院于2016年8月8日立案后，依法适用简易程序，公开开庭进行了审理。\"\n",
    "Entity_Extractor(string0)"
   ]
  },
  {
   "cell_type": "code",
   "execution_count": 58,
   "metadata": {},
   "outputs": [],
   "source": [
    "string1=\"本院受理后，依法组成合议庭于2014年3月4日公开开庭审理了本案。\\\n",
    "、上诉人福鑫公司委托代理人陈尔珠、上诉人林光忠委托代理人陈宇、两上诉人共同委托代理人刘国田、\\\n",
    "被上诉人刘常爱及其委托代理人余泉水、原审第三人高丽生到庭参加了诉讼。、本案现已审理终结。、原审查明，\\\n",
    "2003年3月，福建省平潭县人民政府将幸福洋二期围垦项目作为招商引资项目，分别与刘常爱、林光忠、案外人刘常明（系刘常爱之弟）\\\n",
    "、郑文杰、俞宏义、翁其善、余乃钦等七人签订《平潭县幸福洋二期围垦规划开发合同书》，约定平潭县人民政府拟对平潭县幸福洋二期围\\\n",
    "垦规划区海域进行统一开发，并将其分为七个区域，对外引资开发，由上述七人投资开发，平潭县人民政府将海域使用权转移给投资人，\\\n",
    "双方对海域位置、海域面积、投资主体、围垦使用年限、海域使用权转移补偿、双方权利义务等事项进行了约定。、2\""
   ]
  },
  {
   "cell_type": "code",
   "execution_count": 59,
   "metadata": {},
   "outputs": [
    {
     "name": "stdout",
     "output_type": "stream",
     "text": [
      "原告 ['福鑫公司委托代理人陈尔珠' '林光忠委托代理人陈宇、' '共同委托代理人刘国田、']\n",
      "被告 ['刘常爱及其委托代理人余泉水、原审第三人高丽生到庭参加了诉讼。']\n",
      "0\n",
      "0\n"
     ]
    },
    {
     "data": {
      "text/plain": [
       "{'原告_是否_其他': 0,\n",
       " '原告_是否_法人': 1,\n",
       " '原告_是否_自然人': 1,\n",
       " '被告_是否_其他': 0,\n",
       " '被告_是否_法人': 0,\n",
       " '被告_是否_自然人': 1}"
      ]
     },
     "execution_count": 59,
     "metadata": {},
     "output_type": "execute_result"
    }
   ],
   "source": [
    "Entity_Extractor(string1)"
   ]
  },
  {
   "cell_type": "code",
   "execution_count": 60,
   "metadata": {},
   "outputs": [],
   "source": [
    "string2 = \"原告王化宣。、委托代理人左永波。、被告中国人民财产保险股份有限公司莱西支公司。\\\n",
    "、负责人丁瑞平，该公司总经理。、委托代理人周荣，山东瀚生律师事务所律师。、委托代理人董美丽，\\\n",
    "山东瀚生律师事务所律师。\""
   ]
  },
  {
   "cell_type": "code",
   "execution_count": 61,
   "metadata": {},
   "outputs": [
    {
     "name": "stdout",
     "output_type": "stream",
     "text": [
      "原告 ['王化宣' '王化宣。、委托代理人左永波。、']\n",
      "被告 ['、中国人民财产保险股份有限公司莱西支公司' '中国人民财产保险股份有限公司莱西支公司。、负责人丁瑞平，该公']\n",
      "0\n",
      "0\n"
     ]
    },
    {
     "data": {
      "text/plain": [
       "{'原告_是否_其他': 0,\n",
       " '原告_是否_法人': 0,\n",
       " '原告_是否_自然人': 1,\n",
       " '被告_是否_其他': 0,\n",
       " '被告_是否_法人': 1,\n",
       " '被告_是否_自然人': 1}"
      ]
     },
     "execution_count": 61,
     "metadata": {},
     "output_type": "execute_result"
    }
   ],
   "source": [
    "Entity_Extractor(string2)"
   ]
  },
  {
   "cell_type": "code",
   "execution_count": null,
   "metadata": {},
   "outputs": [],
   "source": []
  }
 ],
 "metadata": {
  "kernelspec": {
   "display_name": "Python 3",
   "language": "python",
   "name": "python3"
  },
  "language_info": {
   "codemirror_mode": {
    "name": "ipython",
    "version": 3
   },
   "file_extension": ".py",
   "mimetype": "text/x-python",
   "name": "python",
   "nbconvert_exporter": "python",
   "pygments_lexer": "ipython3",
   "version": "3.6.8"
  }
 },
 "nbformat": 4,
 "nbformat_minor": 2
}
