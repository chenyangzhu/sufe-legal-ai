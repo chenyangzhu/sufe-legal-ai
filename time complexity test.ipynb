{
 "cells": [
  {
   "cell_type": "markdown",
   "metadata": {},
   "source": [
    "# 预处理测试\n",
    "本测试：\n",
    "1. 确保预处理真实可靠、可以直接从数据库中调用后使用；\n",
    "2. 实现预处理算法的时间复杂度，从而可以对目前较慢的算法进行一定改进\n",
    "\n",
    "测试环境：Python 3.6"
   ]
  },
  {
   "cell_type": "code",
   "execution_count": 24,
   "metadata": {},
   "outputs": [],
   "source": [
    "import time\n",
    "\n",
    "import law.data as lp\n",
    "import numpy as np\n",
    "import pandas as pd"
   ]
  },
  {
   "cell_type": "code",
   "execution_count": 11,
   "metadata": {
    "scrolled": true
   },
   "outputs": [
    {
     "name": "stdout",
     "output_type": "stream",
     "text": [
      "doing  0\n",
      "Read Data Successful...\n",
      "This dataset has  10 rows of data.\n"
     ]
    },
    {
     "name": "stderr",
     "output_type": "stream",
     "text": [
      "/home/klaus/Documents/Project/sufelaw2019/law/data.py:252: SettingWithCopyWarning: \n",
      "A value is trying to be set on a copy of a slice from a DataFrame\n",
      "\n",
      "See the caveats in the documentation: http://pandas.pydata.org/pandas-docs/stable/indexing.html#indexing-view-versus-copy\n",
      "  self.data['plantiff'][i] = re.sub(' ', '', self.data['plantiff'][i])  # 先把每行数据的空格去掉\n",
      "/home/klaus/Documents/Project/sufelaw2019/law/data.py:262: SettingWithCopyWarning: \n",
      "A value is trying to be set on a copy of a slice from a DataFrame\n",
      "\n",
      "See the caveats in the documentation: http://pandas.pydata.org/pandas-docs/stable/indexing.html#indexing-view-versus-copy\n",
      "  self.data['原告_是否_自然人'][i] = 1\n"
     ]
    },
    {
     "name": "stdout",
     "output_type": "stream",
     "text": [
      "0\n"
     ]
    },
    {
     "name": "stderr",
     "output_type": "stream",
     "text": [
      "/home/klaus/Documents/Project/sufelaw2019/law/data.py:708: SettingWithCopyWarning: \n",
      "A value is trying to be set on a copy of a slice from a DataFrame\n",
      "\n",
      "See the caveats in the documentation: http://pandas.pydata.org/pandas-docs/stable/indexing.html#indexing-view-versus-copy\n",
      "  self.data['法院意见_涉及的法数'][i] = len(temp)#法数\n",
      "/home/klaus/Documents/Project/sufelaw2019/law/data.py:715: SettingWithCopyWarning: \n",
      "A value is trying to be set on a copy of a slice from a DataFrame\n",
      "\n",
      "See the caveats in the documentation: http://pandas.pydata.org/pandas-docs/stable/indexing.html#indexing-view-versus-copy\n",
      "  self.data['法院意见_涉及的条数'][i] = sum_tiao\n",
      "/home/klaus/Documents/Project/sufelaw2019/law/data.py:716: SettingWithCopyWarning: \n",
      "A value is trying to be set on a copy of a slice from a DataFrame\n",
      "\n",
      "See the caveats in the documentation: http://pandas.pydata.org/pandas-docs/stable/indexing.html#indexing-view-versus-copy\n",
      "  self.data['法院意见_涉及的款数'][i] = sum_kuan\n"
     ]
    },
    {
     "name": "stdout",
     "output_type": "stream",
     "text": [
      "doing  1\n",
      "Read Data Successful...\n",
      "This dataset has  50 rows of data.\n"
     ]
    },
    {
     "name": "stderr",
     "output_type": "stream",
     "text": [
      "/home/klaus/Documents/Project/sufelaw2019/law/data.py:268: SettingWithCopyWarning: \n",
      "A value is trying to be set on a copy of a slice from a DataFrame\n",
      "\n",
      "See the caveats in the documentation: http://pandas.pydata.org/pandas-docs/stable/indexing.html#indexing-view-versus-copy\n",
      "  self.data['原告_是否_其他'][i] = 1\n"
     ]
    },
    {
     "name": "stdout",
     "output_type": "stream",
     "text": [
      "0\n"
     ]
    },
    {
     "name": "stderr",
     "output_type": "stream",
     "text": [
      "/home/klaus/Documents/Project/sufelaw2019/law/data.py:724: SettingWithCopyWarning: \n",
      "A value is trying to be set on a copy of a slice from a DataFrame\n",
      "\n",
      "See the caveats in the documentation: http://pandas.pydata.org/pandas-docs/stable/indexing.html#indexing-view-versus-copy\n",
      "  self.data['法院意见_是否涉及金额'][i] = 1  # 不满足上述条件，则涉及金额\n"
     ]
    },
    {
     "name": "stdout",
     "output_type": "stream",
     "text": [
      "doing  2\n",
      "Read Data Successful...\n",
      "This dataset has  100 rows of data.\n"
     ]
    },
    {
     "name": "stderr",
     "output_type": "stream",
     "text": [
      "/home/klaus/Documents/Project/sufelaw2019/law/data.py:265: SettingWithCopyWarning: \n",
      "A value is trying to be set on a copy of a slice from a DataFrame\n",
      "\n",
      "See the caveats in the documentation: http://pandas.pydata.org/pandas-docs/stable/indexing.html#indexing-view-versus-copy\n",
      "  self.data['原告_是否_法人'][i] = 1\n"
     ]
    },
    {
     "name": "stdout",
     "output_type": "stream",
     "text": [
      "0\n",
      "doing  3\n",
      "Read Data Successful...\n",
      "This dataset has  500 rows of data.\n"
     ]
    },
    {
     "name": "stderr",
     "output_type": "stream",
     "text": [
      "/home/klaus/Documents/Project/sufelaw2019/law/data.py:259: SettingWithCopyWarning: \n",
      "A value is trying to be set on a copy of a slice from a DataFrame\n",
      "\n",
      "See the caveats in the documentation: http://pandas.pydata.org/pandas-docs/stable/indexing.html#indexing-view-versus-copy\n",
      "  self.data['原告_是否_检察院'][i] = 1\n"
     ]
    },
    {
     "name": "stdout",
     "output_type": "stream",
     "text": [
      "0\n",
      "100\n",
      "200\n",
      "300\n",
      "400\n"
     ]
    },
    {
     "name": "stderr",
     "output_type": "stream",
     "text": [
      "/home/klaus/Documents/Project/sufelaw2019/law/data.py:327: SettingWithCopyWarning: \n",
      "A value is trying to be set on a copy of a slice from a DataFrame\n",
      "\n",
      "See the caveats in the documentation: http://pandas.pydata.org/pandas-docs/stable/indexing.html#indexing-view-versus-copy\n",
      "  self.data['第三人_有无自然人'][i] = 1\n"
     ]
    },
    {
     "name": "stdout",
     "output_type": "stream",
     "text": [
      "doing  4\n",
      "Read Data Successful...\n",
      "This dataset has  1000 rows of data.\n",
      "0\n",
      "100\n",
      "200\n",
      "300\n",
      "400\n",
      "500\n",
      "600\n",
      "700\n",
      "800\n",
      "900\n",
      "doing  5\n",
      "Read Data Successful...\n",
      "This dataset has  2000 rows of data.\n",
      "0\n",
      "100\n",
      "200\n",
      "300\n",
      "400\n",
      "500\n",
      "600\n",
      "700\n",
      "800\n",
      "900\n",
      "1000\n",
      "1100\n",
      "1200\n",
      "1300\n",
      "1400\n",
      "1500\n",
      "1600\n",
      "1700\n",
      "1800\n",
      "1900\n"
     ]
    }
   ],
   "source": [
    "n = [10, 50, 100, 500, 1000, 2000]\n",
    "time_complexity = np.zeros((16,len(n)))\n",
    "\n",
    "for i,n_s in enumerate(n):\n",
    "    print(\"doing \", i)\n",
    "    start = time.time()\n",
    "    a = lp.read_law(n=n_s)\n",
    "    time_complexity[0,i] = time.time()-start\n",
    "\n",
    "    start = time.time()\n",
    "    a.number2()\n",
    "    time_complexity[1,i] = time.time()-start\n",
    "\n",
    "    start = time.time()\n",
    "    a.number3()\n",
    "    time_complexity[2,i] = time.time()-start\n",
    "\n",
    "    start = time.time()\n",
    "    a.number4()\n",
    "    time_complexity[3,i] = time.time()-start\n",
    "\n",
    "    start = time.time()\n",
    "    a.number5()\n",
    "    time_complexity[4,i] = time.time()-start\n",
    "\n",
    "    start = time.time()\n",
    "    a.number6()\n",
    "    time_complexity[5,i] = time.time()-start\n",
    "\n",
    "    start = time.time()\n",
    "    a.number7()\n",
    "    time_complexity[6,i] = time.time()-start\n",
    "\n",
    "    start = time.time()\n",
    "    a.number8()\n",
    "    time_complexity[7,i] = time.time()-start\n",
    "\n",
    "    start = time.time()\n",
    "    a.number9()\n",
    "    time_complexity[8,i] = time.time()-start\n",
    "\n",
    "    start = time.time()\n",
    "    a.number10()\n",
    "    time_complexity[9,i] = time.time()-start\n",
    "\n",
    "    start = time.time()\n",
    "    a.number11()\n",
    "    time_complexity[10,i] = time.time()-start\n",
    "\n",
    "    start = time.time()\n",
    "    a.number12()\n",
    "    time_complexity[11,i] = time.time()-start\n",
    "\n",
    "    start = time.time()\n",
    "    a.number13()\n",
    "    time_complexity[12,i] = time.time()-start\n",
    "\n",
    "    start = time.time()\n",
    "    a.number14()\n",
    "    time_complexity[13,i] = time.time()-start\n",
    "\n",
    "    start = time.time()\n",
    "    a.number15()\n",
    "    time_complexity[14,i] = time.time()-start\n",
    "\n",
    "    start = time.time()\n",
    "    a.number16()\n",
    "    time_complexity[15,i] = time.time()-start"
   ]
  },
  {
   "cell_type": "code",
   "execution_count": 14,
   "metadata": {},
   "outputs": [],
   "source": [
    "import matplotlib.pyplot as plt\n",
    "\n",
    "%matplotlib inline"
   ]
  },
  {
   "cell_type": "code",
   "execution_count": 30,
   "metadata": {},
   "outputs": [
    {
     "data": {
      "text/html": [
       "<div>\n",
       "<style scoped>\n",
       "    .dataframe tbody tr th:only-of-type {\n",
       "        vertical-align: middle;\n",
       "    }\n",
       "\n",
       "    .dataframe tbody tr th {\n",
       "        vertical-align: top;\n",
       "    }\n",
       "\n",
       "    .dataframe thead th {\n",
       "        text-align: right;\n",
       "    }\n",
       "</style>\n",
       "<table border=\"1\" class=\"dataframe\">\n",
       "  <thead>\n",
       "    <tr style=\"text-align: right;\">\n",
       "      <th></th>\n",
       "      <th>0</th>\n",
       "      <th>1</th>\n",
       "      <th>2</th>\n",
       "      <th>3</th>\n",
       "      <th>4</th>\n",
       "      <th>5</th>\n",
       "    </tr>\n",
       "  </thead>\n",
       "  <tbody>\n",
       "    <tr>\n",
       "      <th>read</th>\n",
       "      <td>2.258949</td>\n",
       "      <td>4.937427</td>\n",
       "      <td>6.913161</td>\n",
       "      <td>14.274970</td>\n",
       "      <td>14.347764</td>\n",
       "      <td>22.724890</td>\n",
       "    </tr>\n",
       "    <tr>\n",
       "      <th>proc</th>\n",
       "      <td>0.008025</td>\n",
       "      <td>0.009333</td>\n",
       "      <td>0.019867</td>\n",
       "      <td>0.037143</td>\n",
       "      <td>0.061140</td>\n",
       "      <td>0.108041</td>\n",
       "    </tr>\n",
       "    <tr>\n",
       "      <th>class</th>\n",
       "      <td>0.017792</td>\n",
       "      <td>0.024720</td>\n",
       "      <td>0.042682</td>\n",
       "      <td>0.173657</td>\n",
       "      <td>0.336339</td>\n",
       "      <td>0.683563</td>\n",
       "    </tr>\n",
       "    <tr>\n",
       "      <th>doc_type</th>\n",
       "      <td>0.001610</td>\n",
       "      <td>0.001563</td>\n",
       "      <td>0.002218</td>\n",
       "      <td>0.009411</td>\n",
       "      <td>0.018349</td>\n",
       "      <td>0.036820</td>\n",
       "    </tr>\n",
       "    <tr>\n",
       "      <th>court_name</th>\n",
       "      <td>0.003994</td>\n",
       "      <td>0.001915</td>\n",
       "      <td>0.001818</td>\n",
       "      <td>0.003500</td>\n",
       "      <td>0.005409</td>\n",
       "      <td>0.009115</td>\n",
       "    </tr>\n",
       "    <tr>\n",
       "      <th>date</th>\n",
       "      <td>0.003558</td>\n",
       "      <td>0.001939</td>\n",
       "      <td>0.001892</td>\n",
       "      <td>0.004257</td>\n",
       "      <td>0.006090</td>\n",
       "      <td>0.011612</td>\n",
       "    </tr>\n",
       "    <tr>\n",
       "      <th>plantiff</th>\n",
       "      <td>0.484487</td>\n",
       "      <td>2.592239</td>\n",
       "      <td>4.905475</td>\n",
       "      <td>25.140351</td>\n",
       "      <td>49.848199</td>\n",
       "      <td>109.979542</td>\n",
       "    </tr>\n",
       "    <tr>\n",
       "      <th>defendant</th>\n",
       "      <td>0.002752</td>\n",
       "      <td>0.010829</td>\n",
       "      <td>0.019680</td>\n",
       "      <td>0.062701</td>\n",
       "      <td>0.108559</td>\n",
       "      <td>0.184790</td>\n",
       "    </tr>\n",
       "    <tr>\n",
       "      <th>third_party</th>\n",
       "      <td>0.000865</td>\n",
       "      <td>0.001967</td>\n",
       "      <td>0.003355</td>\n",
       "      <td>0.103693</td>\n",
       "      <td>0.195174</td>\n",
       "      <td>0.529052</td>\n",
       "    </tr>\n",
       "    <tr>\n",
       "      <th>party</th>\n",
       "      <td>0.002672</td>\n",
       "      <td>0.010646</td>\n",
       "      <td>0.017662</td>\n",
       "      <td>0.081831</td>\n",
       "      <td>0.150432</td>\n",
       "      <td>0.310497</td>\n",
       "    </tr>\n",
       "    <tr>\n",
       "      <th>procedure</th>\n",
       "      <td>0.006724</td>\n",
       "      <td>0.003819</td>\n",
       "      <td>0.003765</td>\n",
       "      <td>0.007878</td>\n",
       "      <td>0.016362</td>\n",
       "      <td>0.030619</td>\n",
       "    </tr>\n",
       "    <tr>\n",
       "      <th>process</th>\n",
       "      <td>0.019118</td>\n",
       "      <td>0.035432</td>\n",
       "      <td>0.062840</td>\n",
       "      <td>0.277862</td>\n",
       "      <td>0.554033</td>\n",
       "      <td>1.023401</td>\n",
       "    </tr>\n",
       "    <tr>\n",
       "      <th>opinion</th>\n",
       "      <td>0.171768</td>\n",
       "      <td>1.998964</td>\n",
       "      <td>4.676996</td>\n",
       "      <td>20.501348</td>\n",
       "      <td>43.773754</td>\n",
       "      <td>84.046368</td>\n",
       "    </tr>\n",
       "    <tr>\n",
       "      <th>result</th>\n",
       "      <td>0.035752</td>\n",
       "      <td>0.100978</td>\n",
       "      <td>0.238592</td>\n",
       "      <td>1.383695</td>\n",
       "      <td>3.108210</td>\n",
       "      <td>6.254337</td>\n",
       "    </tr>\n",
       "    <tr>\n",
       "      <th>notice</th>\n",
       "      <td>0.003283</td>\n",
       "      <td>0.002549</td>\n",
       "      <td>0.002951</td>\n",
       "      <td>0.007988</td>\n",
       "      <td>0.054766</td>\n",
       "      <td>0.065414</td>\n",
       "    </tr>\n",
       "    <tr>\n",
       "      <th>appendix</th>\n",
       "      <td>0.000001</td>\n",
       "      <td>0.000001</td>\n",
       "      <td>0.000001</td>\n",
       "      <td>0.000001</td>\n",
       "      <td>0.000001</td>\n",
       "      <td>0.000002</td>\n",
       "    </tr>\n",
       "    <tr>\n",
       "      <th>extra</th>\n",
       "      <td>0.000000</td>\n",
       "      <td>0.000000</td>\n",
       "      <td>0.000000</td>\n",
       "      <td>0.000000</td>\n",
       "      <td>0.000000</td>\n",
       "      <td>0.000000</td>\n",
       "    </tr>\n",
       "  </tbody>\n",
       "</table>\n",
       "</div>"
      ],
      "text/plain": [
       "                    0         1         2          3          4           5\n",
       "read         2.258949  4.937427  6.913161  14.274970  14.347764   22.724890\n",
       "proc         0.008025  0.009333  0.019867   0.037143   0.061140    0.108041\n",
       "class        0.017792  0.024720  0.042682   0.173657   0.336339    0.683563\n",
       "doc_type     0.001610  0.001563  0.002218   0.009411   0.018349    0.036820\n",
       "court_name   0.003994  0.001915  0.001818   0.003500   0.005409    0.009115\n",
       "date         0.003558  0.001939  0.001892   0.004257   0.006090    0.011612\n",
       "plantiff     0.484487  2.592239  4.905475  25.140351  49.848199  109.979542\n",
       "defendant    0.002752  0.010829  0.019680   0.062701   0.108559    0.184790\n",
       "third_party  0.000865  0.001967  0.003355   0.103693   0.195174    0.529052\n",
       "party        0.002672  0.010646  0.017662   0.081831   0.150432    0.310497\n",
       "procedure    0.006724  0.003819  0.003765   0.007878   0.016362    0.030619\n",
       "process      0.019118  0.035432  0.062840   0.277862   0.554033    1.023401\n",
       "opinion      0.171768  1.998964  4.676996  20.501348  43.773754   84.046368\n",
       "result       0.035752  0.100978  0.238592   1.383695   3.108210    6.254337\n",
       "notice       0.003283  0.002549  0.002951   0.007988   0.054766    0.065414\n",
       "appendix     0.000001  0.000001  0.000001   0.000001   0.000001    0.000002\n",
       "extra        0.000000  0.000000  0.000000   0.000000   0.000000    0.000000"
      ]
     },
     "execution_count": 30,
     "metadata": {},
     "output_type": "execute_result"
    }
   ],
   "source": [
    "time_complexity_pd = pd.DataFrame(time_complexity)\n",
    "time_complexity_pd.index=['read','proc','class','doc_type','court_name',\n",
    "                                  'date','plantiff','defendant','third_party','party',\n",
    "                                  'procedure','process','opinion','result','notice','appendix','extra']"
   ]
  },
  {
   "cell_type": "code",
   "execution_count": 39,
   "metadata": {},
   "outputs": [
    {
     "data": {
      "text/plain": [
       "Text(0.5, 1.0, 'Time Complexity of Preprocesing')"
      ]
     },
     "execution_count": 39,
     "metadata": {},
     "output_type": "execute_result"
    },
    {
     "data": {
      "image/png": "[encoded data removed]",
      "text/plain": [
       "<Figure size 576x576 with 1 Axes>"
      ]
     },
     "metadata": {},
     "output_type": "display_data"
    }
   ],
   "source": [
    "plt.figure(figsize = (8,8))\n",
    "for each_index in ['read','proc','class','doc_type','court_name',\n",
    "                                  'date','plantiff','defendant','third_party','party',\n",
    "                                  'procedure','process','opinion','result','notice','appendix','extra']:\n",
    "    plt.plot(time_complexity_pd.loc[each_index],label=each_index)\n",
    "plt.legend()\n",
    "plt.title(\"Time Complexity of Preprocesing\")"
   ]
  },
  {
   "cell_type": "code",
   "execution_count": null,
   "metadata": {},
   "outputs": [],
   "source": []
  },
  {
   "cell_type": "code",
   "execution_count": 19,
   "metadata": {},
   "outputs": [
    {
     "data": {
      "text/plain": [
       "array([[2.25894856e+00, 4.93742681e+00, 6.91316104e+00, 1.42749696e+01,\n",
       "        1.43477640e+01, 2.27248900e+01],\n",
       "       [8.02493095e-03, 9.33265686e-03, 1.98671818e-02, 3.71427536e-02,\n",
       "        6.11395836e-02, 1.08041286e-01],\n",
       "       [1.77919865e-02, 2.47201920e-02, 4.26824093e-02, 1.73657417e-01,\n",
       "        3.36338520e-01, 6.83563232e-01],\n",
       "       [1.61004066e-03, 1.56283379e-03, 2.21824646e-03, 9.41085815e-03,\n",
       "        1.83491707e-02, 3.68196964e-02],\n",
       "       [3.99422646e-03, 1.91521645e-03, 1.81770325e-03, 3.49950790e-03,\n",
       "        5.40924072e-03, 9.11474228e-03],\n",
       "       [3.55815887e-03, 1.93858147e-03, 1.89232826e-03, 4.25696373e-03,\n",
       "        6.08992577e-03, 1.16119385e-02],\n",
       "       [4.84487057e-01, 2.59223914e+00, 4.90547514e+00, 2.51403511e+01,\n",
       "        4.98481989e+01, 1.09979542e+02],\n",
       "       [2.75206566e-03, 1.08287334e-02, 1.96802616e-02, 6.27005100e-02,\n",
       "        1.08559370e-01, 1.84789896e-01],\n",
       "       [8.65221024e-04, 1.96671486e-03, 3.35502625e-03, 1.03693008e-01,\n",
       "        1.95174456e-01, 5.29051542e-01],\n",
       "       [2.67171860e-03, 1.06463432e-02, 1.76620483e-02, 8.18309784e-02,\n",
       "        1.50431633e-01, 3.10497284e-01],\n",
       "       [6.72411919e-03, 3.81898880e-03, 3.76510620e-03, 7.87758827e-03,\n",
       "        1.63619518e-02, 3.06186676e-02],\n",
       "       [1.91175938e-02, 3.54316235e-02, 6.28399849e-02, 2.77861595e-01,\n",
       "        5.54033279e-01, 1.02340102e+00],\n",
       "       [1.71767950e-01, 1.99896359e+00, 4.67699623e+00, 2.05013480e+01,\n",
       "        4.37737544e+01, 8.40463679e+01],\n",
       "       [3.57515812e-02, 1.00977659e-01, 2.38591909e-01, 1.38369536e+00,\n",
       "        3.10820961e+00, 6.25433731e+00],\n",
       "       [3.28326225e-03, 2.54940987e-03, 2.95066833e-03, 7.98773766e-03,\n",
       "        5.47659397e-02, 6.54139519e-02],\n",
       "       [1.19209290e-06, 1.19209290e-06, 1.43051147e-06, 1.19209290e-06,\n",
       "        1.19209290e-06, 1.66893005e-06],\n",
       "       [0.00000000e+00, 0.00000000e+00, 0.00000000e+00, 0.00000000e+00,\n",
       "        0.00000000e+00, 0.00000000e+00]])"
      ]
     },
     "execution_count": 19,
     "metadata": {},
     "output_type": "execute_result"
    }
   ],
   "source": [
    "time_complexity"
   ]
  },
  {
   "cell_type": "code",
   "execution_count": null,
   "metadata": {},
   "outputs": [],
   "source": []
  }
 ],
 "metadata": {
  "kernelspec": {
   "display_name": "Python 3",
   "language": "python",
   "name": "python3"
  },
  "language_info": {
   "codemirror_mode": {
    "name": "ipython",
    "version": 3
   },
   "file_extension": ".py",
   "mimetype": "text/x-python",
   "name": "python",
   "nbconvert_exporter": "python",
   "pygments_lexer": "ipython3",
   "version": "3.6.5"
  }
 },
 "nbformat": 4,
 "nbformat_minor": 2
}
