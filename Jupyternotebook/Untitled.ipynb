{
 "cells": [
  {
   "cell_type": "code",
   "execution_count": 1,
   "metadata": {},
   "outputs": [],
   "source": [
    "import numpy as np\n",
    "import pandas as pd\n",
    "import jieba as jb\n",
    "import matplotlib.pyplot as plt\n",
    "import re"
   ]
  },
  {
   "cell_type": "code",
   "execution_count": 2,
   "metadata": {},
   "outputs": [],
   "source": [
    "data = pd.read_excel('data.xlsx')"
   ]
  },
  {
   "cell_type": "code",
   "execution_count": 3,
   "metadata": {
    "scrolled": true
   },
   "outputs": [],
   "source": [
    "# 添加了参考法律和条目\n",
    "law = []\n",
    "line = []\n",
    "for index in range(len(data)):\n",
    "    #print(data.iloc[index][\"判决结果\"])\n",
    "    try:\n",
    "        # 提取法律名称\n",
    "        law.append(re.search(r'《.*?》',data.iloc[index][\"判决结果\"]).group(0))\n",
    "        # 提取所用法条\n",
    "        line.append(re.search(r'第.*?条',data.iloc[index][\"判决结果\"]).group(0))\n",
    "    except:\n",
    "        law.append(np.nan)\n",
    "        line.append(np.nan)\n",
    "\n",
    "data['判决法律'] = pd.DataFrame(law)\n",
    "data['判决法条'] = pd.DataFrame(line)"
   ]
  },
  {
   "cell_type": "code",
   "execution_count": 4,
   "metadata": {},
   "outputs": [],
   "source": [
    "final = []\n",
    "for index in range(len(data)):        \n",
    "    # 提取是否为终审\n",
    "    try:\n",
    "        if \"终审\" in data.iloc[index]['庭后告知']:\n",
    "            final.append(1)\n",
    "        else:\n",
    "            final.append(0)\n",
    "    except:\n",
    "        final.append(0)\n",
    "data['是否为终审'] = pd.DataFrame(final)\n",
    "del data['庭后告知']\n",
    "del data['庭后告知2']"
   ]
  },
  {
   "cell_type": "code",
   "execution_count": 82,
   "metadata": {
    "scrolled": true
   },
   "outputs": [
    {
     "ename": "KeyError",
     "evalue": "'结尾'",
     "output_type": "error",
     "traceback": [
      "\u001b[1;31m---------------------------------------------------------------------------\u001b[0m",
      "\u001b[1;31mKeyError\u001b[0m                                  Traceback (most recent call last)",
      "\u001b[1;32m~\\Anaconda3\\lib\\site-packages\\pandas\\core\\indexes\\base.py\u001b[0m in \u001b[0;36mget_loc\u001b[1;34m(self, key, method, tolerance)\u001b[0m\n\u001b[0;32m   3077\u001b[0m             \u001b[1;32mtry\u001b[0m\u001b[1;33m:\u001b[0m\u001b[1;33m\u001b[0m\u001b[0m\n\u001b[1;32m-> 3078\u001b[1;33m                 \u001b[1;32mreturn\u001b[0m \u001b[0mself\u001b[0m\u001b[1;33m.\u001b[0m\u001b[0m_engine\u001b[0m\u001b[1;33m.\u001b[0m\u001b[0mget_loc\u001b[0m\u001b[1;33m(\u001b[0m\u001b[0mkey\u001b[0m\u001b[1;33m)\u001b[0m\u001b[1;33m\u001b[0m\u001b[0m\n\u001b[0m\u001b[0;32m   3079\u001b[0m             \u001b[1;32mexcept\u001b[0m \u001b[0mKeyError\u001b[0m\u001b[1;33m:\u001b[0m\u001b[1;33m\u001b[0m\u001b[0m\n",
      "\u001b[1;32mpandas/_libs/index.pyx\u001b[0m in \u001b[0;36mpandas._libs.index.IndexEngine.get_loc\u001b[1;34m()\u001b[0m\n",
      "\u001b[1;32mpandas/_libs/index.pyx\u001b[0m in \u001b[0;36mpandas._libs.index.IndexEngine.get_loc\u001b[1;34m()\u001b[0m\n",
      "\u001b[1;32mpandas/_libs/hashtable_class_helper.pxi\u001b[0m in \u001b[0;36mpandas._libs.hashtable.PyObjectHashTable.get_item\u001b[1;34m()\u001b[0m\n",
      "\u001b[1;32mpandas/_libs/hashtable_class_helper.pxi\u001b[0m in \u001b[0;36mpandas._libs.hashtable.PyObjectHashTable.get_item\u001b[1;34m()\u001b[0m\n",
      "\u001b[1;31mKeyError\u001b[0m: '结尾'",
      "\nDuring handling of the above exception, another exception occurred:\n",
      "\u001b[1;31mKeyError\u001b[0m                                  Traceback (most recent call last)",
      "\u001b[1;32m<ipython-input-82-7fdeb266d6c1>\u001b[0m in \u001b[0;36m<module>\u001b[1;34m()\u001b[0m\n\u001b[1;32m----> 1\u001b[1;33m \u001b[1;32mdel\u001b[0m \u001b[0mdata\u001b[0m\u001b[1;33m[\u001b[0m\u001b[1;34m'结尾'\u001b[0m\u001b[1;33m]\u001b[0m\u001b[1;33m\u001b[0m\u001b[0m\n\u001b[0m\u001b[0;32m      2\u001b[0m \u001b[1;32mdel\u001b[0m \u001b[0mdata\u001b[0m\u001b[1;33m[\u001b[0m\u001b[1;34m'结尾2'\u001b[0m\u001b[1;33m]\u001b[0m\u001b[1;33m\u001b[0m\u001b[0m\n\u001b[0;32m      3\u001b[0m \u001b[1;33m\u001b[0m\u001b[0m\n\u001b[0;32m      4\u001b[0m \u001b[1;31m# delete useless lines\u001b[0m\u001b[1;33m\u001b[0m\u001b[1;33m\u001b[0m\u001b[0m\n\u001b[0;32m      5\u001b[0m \u001b[1;32mdel\u001b[0m \u001b[0mdata\u001b[0m\u001b[1;33m[\u001b[0m\u001b[1;34m'庭审过程6'\u001b[0m\u001b[1;33m]\u001b[0m\u001b[1;33m\u001b[0m\u001b[0m\n",
      "\u001b[1;32m~\\Anaconda3\\lib\\site-packages\\pandas\\core\\generic.py\u001b[0m in \u001b[0;36m__delitem__\u001b[1;34m(self, key)\u001b[0m\n\u001b[0;32m   2741\u001b[0m             \u001b[1;31m# there was no match, this call should raise the appropriate\u001b[0m\u001b[1;33m\u001b[0m\u001b[1;33m\u001b[0m\u001b[0m\n\u001b[0;32m   2742\u001b[0m             \u001b[1;31m# exception:\u001b[0m\u001b[1;33m\u001b[0m\u001b[1;33m\u001b[0m\u001b[0m\n\u001b[1;32m-> 2743\u001b[1;33m             \u001b[0mself\u001b[0m\u001b[1;33m.\u001b[0m\u001b[0m_data\u001b[0m\u001b[1;33m.\u001b[0m\u001b[0mdelete\u001b[0m\u001b[1;33m(\u001b[0m\u001b[0mkey\u001b[0m\u001b[1;33m)\u001b[0m\u001b[1;33m\u001b[0m\u001b[0m\n\u001b[0m\u001b[0;32m   2744\u001b[0m \u001b[1;33m\u001b[0m\u001b[0m\n\u001b[0;32m   2745\u001b[0m         \u001b[1;31m# delete from the caches\u001b[0m\u001b[1;33m\u001b[0m\u001b[1;33m\u001b[0m\u001b[0m\n",
      "\u001b[1;32m~\\Anaconda3\\lib\\site-packages\\pandas\\core\\internals.py\u001b[0m in \u001b[0;36mdelete\u001b[1;34m(self, item)\u001b[0m\n\u001b[0;32m   4172\u001b[0m         \u001b[0mDelete\u001b[0m \u001b[0mselected\u001b[0m \u001b[0mitem\u001b[0m \u001b[1;33m(\u001b[0m\u001b[0mitems\u001b[0m \u001b[1;32mif\u001b[0m \u001b[0mnon\u001b[0m\u001b[1;33m-\u001b[0m\u001b[0munique\u001b[0m\u001b[1;33m)\u001b[0m \u001b[1;32min\u001b[0m\u001b[1;33m-\u001b[0m\u001b[0mplace\u001b[0m\u001b[1;33m.\u001b[0m\u001b[1;33m\u001b[0m\u001b[0m\n\u001b[0;32m   4173\u001b[0m         \"\"\"\n\u001b[1;32m-> 4174\u001b[1;33m         \u001b[0mindexer\u001b[0m \u001b[1;33m=\u001b[0m \u001b[0mself\u001b[0m\u001b[1;33m.\u001b[0m\u001b[0mitems\u001b[0m\u001b[1;33m.\u001b[0m\u001b[0mget_loc\u001b[0m\u001b[1;33m(\u001b[0m\u001b[0mitem\u001b[0m\u001b[1;33m)\u001b[0m\u001b[1;33m\u001b[0m\u001b[0m\n\u001b[0m\u001b[0;32m   4175\u001b[0m \u001b[1;33m\u001b[0m\u001b[0m\n\u001b[0;32m   4176\u001b[0m         \u001b[0mis_deleted\u001b[0m \u001b[1;33m=\u001b[0m \u001b[0mnp\u001b[0m\u001b[1;33m.\u001b[0m\u001b[0mzeros\u001b[0m\u001b[1;33m(\u001b[0m\u001b[0mself\u001b[0m\u001b[1;33m.\u001b[0m\u001b[0mshape\u001b[0m\u001b[1;33m[\u001b[0m\u001b[1;36m0\u001b[0m\u001b[1;33m]\u001b[0m\u001b[1;33m,\u001b[0m \u001b[0mdtype\u001b[0m\u001b[1;33m=\u001b[0m\u001b[0mnp\u001b[0m\u001b[1;33m.\u001b[0m\u001b[0mbool_\u001b[0m\u001b[1;33m)\u001b[0m\u001b[1;33m\u001b[0m\u001b[0m\n",
      "\u001b[1;32m~\\Anaconda3\\lib\\site-packages\\pandas\\core\\indexes\\base.py\u001b[0m in \u001b[0;36mget_loc\u001b[1;34m(self, key, method, tolerance)\u001b[0m\n\u001b[0;32m   3078\u001b[0m                 \u001b[1;32mreturn\u001b[0m \u001b[0mself\u001b[0m\u001b[1;33m.\u001b[0m\u001b[0m_engine\u001b[0m\u001b[1;33m.\u001b[0m\u001b[0mget_loc\u001b[0m\u001b[1;33m(\u001b[0m\u001b[0mkey\u001b[0m\u001b[1;33m)\u001b[0m\u001b[1;33m\u001b[0m\u001b[0m\n\u001b[0;32m   3079\u001b[0m             \u001b[1;32mexcept\u001b[0m \u001b[0mKeyError\u001b[0m\u001b[1;33m:\u001b[0m\u001b[1;33m\u001b[0m\u001b[0m\n\u001b[1;32m-> 3080\u001b[1;33m                 \u001b[1;32mreturn\u001b[0m \u001b[0mself\u001b[0m\u001b[1;33m.\u001b[0m\u001b[0m_engine\u001b[0m\u001b[1;33m.\u001b[0m\u001b[0mget_loc\u001b[0m\u001b[1;33m(\u001b[0m\u001b[0mself\u001b[0m\u001b[1;33m.\u001b[0m\u001b[0m_maybe_cast_indexer\u001b[0m\u001b[1;33m(\u001b[0m\u001b[0mkey\u001b[0m\u001b[1;33m)\u001b[0m\u001b[1;33m)\u001b[0m\u001b[1;33m\u001b[0m\u001b[0m\n\u001b[0m\u001b[0;32m   3081\u001b[0m \u001b[1;33m\u001b[0m\u001b[0m\n\u001b[0;32m   3082\u001b[0m         \u001b[0mindexer\u001b[0m \u001b[1;33m=\u001b[0m \u001b[0mself\u001b[0m\u001b[1;33m.\u001b[0m\u001b[0mget_indexer\u001b[0m\u001b[1;33m(\u001b[0m\u001b[1;33m[\u001b[0m\u001b[0mkey\u001b[0m\u001b[1;33m]\u001b[0m\u001b[1;33m,\u001b[0m \u001b[0mmethod\u001b[0m\u001b[1;33m=\u001b[0m\u001b[0mmethod\u001b[0m\u001b[1;33m,\u001b[0m \u001b[0mtolerance\u001b[0m\u001b[1;33m=\u001b[0m\u001b[0mtolerance\u001b[0m\u001b[1;33m)\u001b[0m\u001b[1;33m\u001b[0m\u001b[0m\n",
      "\u001b[1;32mpandas/_libs/index.pyx\u001b[0m in \u001b[0;36mpandas._libs.index.IndexEngine.get_loc\u001b[1;34m()\u001b[0m\n",
      "\u001b[1;32mpandas/_libs/index.pyx\u001b[0m in \u001b[0;36mpandas._libs.index.IndexEngine.get_loc\u001b[1;34m()\u001b[0m\n",
      "\u001b[1;32mpandas/_libs/hashtable_class_helper.pxi\u001b[0m in \u001b[0;36mpandas._libs.hashtable.PyObjectHashTable.get_item\u001b[1;34m()\u001b[0m\n",
      "\u001b[1;32mpandas/_libs/hashtable_class_helper.pxi\u001b[0m in \u001b[0;36mpandas._libs.hashtable.PyObjectHashTable.get_item\u001b[1;34m()\u001b[0m\n",
      "\u001b[1;31mKeyError\u001b[0m: '结尾'"
     ]
    }
   ],
   "source": [
    "del data['结尾']\n",
    "del data['结尾2']\n",
    "\n",
    "# delete useless lines\n",
    "del data['庭审过程6']\n",
    "del data['庭审过程3']\n",
    "del data['庭审过程4']\n",
    "del data['庭审过程5']\n",
    "\n",
    "del data['头部2']\n",
    "del data['当事人2']\n",
    "del data['庭审程序说明2']\n",
    "del data['法院意见2']\n",
    "\n",
    "del data['判决结果2']\n",
    "del data['庭审过程2']\n",
    "\n",
    "#标题只是在复述中间的信息，可以删除\n",
    "del data['标题']\n",
    "\n",
    "del data['附录2']\n",
    "del data['法官'] # 假设于法官、审判长无关，假设与日期无关，假设与书记员、审判员无关\n",
    "del data['审判长']\n",
    "del data['书记员']\n",
    "del data['审判员']\n",
    "\n",
    "del data['案号']\n",
    "del data['案件类型']\n",
    "\n",
    "# 与什么法院，似乎没有特别大关系。有可能大城市更容易倾向个人？而小城市倾向大企业？这里不做考虑\n",
    "del data['法院']\n",
    "# 与判决日期的关系 也不大\n",
    "del data['判决日期']\n",
    "\n",
    "# 头部就是所有信息的综合 删去\n",
    "del data['头部']"
   ]
  },
  {
   "cell_type": "code",
   "execution_count": 6,
   "metadata": {},
   "outputs": [],
   "source": [
    "# 公司告公司 为1；人告公司 为2；公司告人 为3；其他 为4 \n",
    "sue_type = []\n",
    "for index in range(len(data)):        \n",
    "    try:\n",
    "        if \"公司\" in data.iloc[index]['原告'] and \"公司\" in data.iloc[index]['被告']:\n",
    "            sue_type.append(1)\n",
    "        elif \"公司\" not in data.iloc[index]['原告'] and \"公司\" in data.iloc[index]['被告']:\n",
    "            sue_type.append(2)\n",
    "        elif \"公司\" in data.iloc[index]['原告'] and \"公司\" not in data.iloc[index]['被告']:\n",
    "            sue_type.append(3)\n",
    "        else:\n",
    "            sue_type.append(4)\n",
    "    except:\n",
    "        sue_type.append(0)\n",
    "data['原被告分类'] = pd.DataFrame(sue_type)\n",
    "#data.iloc[0]['原被告分类'] = 2\n",
    "del data['原告']\n",
    "del data['被告']"
   ]
  },
  {
   "cell_type": "code",
   "execution_count": 8,
   "metadata": {
    "scrolled": false
   },
   "outputs": [
    {
     "data": {
      "text/plain": [
       "庭审程序      1000\n",
       "案由        1000\n",
       "文书类型      1000\n",
       "第三人         62\n",
       "当事人        998\n",
       "庭审程序说明    1000\n",
       "庭审过程       795\n",
       "法院意见       849\n",
       "判决结果       937\n",
       "附录         166\n",
       "判决法律       931\n",
       "判决法条       931\n",
       "是否为终审     1000\n",
       "原被告分类     1000\n",
       "dtype: int64"
      ]
     },
     "execution_count": 8,
     "metadata": {},
     "output_type": "execute_result"
    }
   ],
   "source": [
    "data.count()"
   ]
  },
  {
   "cell_type": "code",
   "execution_count": 9,
   "metadata": {
    "scrolled": true
   },
   "outputs": [],
   "source": [
    "# 处理第三方\n",
    "# 第三方为公司 1； 第三方为人 2； 无第三方 0 \n",
    "thirdparty = []\n",
    "for index in range(len(data)):        \n",
    "    try:\n",
    "        if \"公司\" in data.iloc[index]['第三人']:\n",
    "            thirdparty.append(1)\n",
    "        elif \"公司\" not in data.iloc[index]['第三人']:\n",
    "            thirdparty.append(2)\n",
    "    except:\n",
    "        thirdparty.append(0)\n",
    "\n",
    "data['第三方分类'] = pd.DataFrame(thirdparty)\n",
    "del data['第三人']"
   ]
  },
  {
   "cell_type": "code",
   "execution_count": 10,
   "metadata": {},
   "outputs": [],
   "source": [
    "anyou = data['案由']\n",
    "anyoulist = []\n",
    "\n",
    "for i in range(len(anyou)):\n",
    "    if anyou[i] in anyoulist:\n",
    "        continue\n",
    "    else:\n",
    "        anyoulist.append(anyou[i])"
   ]
  },
  {
   "cell_type": "code",
   "execution_count": 11,
   "metadata": {},
   "outputs": [],
   "source": [
    "# 附录就是在重复之前的法条\n",
    "del data['附录']"
   ]
  },
  {
   "cell_type": "code",
   "execution_count": 12,
   "metadata": {
    "scrolled": true
   },
   "outputs": [
    {
     "data": {
      "text/plain": [
       "['侵害企业出资人权益纠纷',\n",
       " '意外伤害保险合同纠纷',\n",
       " '财产保险合同纠纷',\n",
       " '人身保险合同纠纷',\n",
       " '对外追收债权纠纷',\n",
       " '人寿保险合同纠纷',\n",
       " '责任保险合同纠纷',\n",
       " '保险费纠纷',\n",
       " '保险代理合同纠纷',\n",
       " '挂靠经营合同纠纷',\n",
       " '股权转让纠纷',\n",
       " '退伙纠纷',\n",
       " '与公司有关的纠纷',\n",
       " '保险人代位求偿权纠纷',\n",
       " '票据追索权纠纷',\n",
       " '申请破产清算',\n",
       " '票据返还请求权纠纷',\n",
       " '保险纠纷',\n",
       " '股东资格确认纠纷',\n",
       " '企业出售合同纠纷',\n",
       " '票据利益返还请求权纠纷',\n",
       " '财产损失保险合同纠纷',\n",
       " '确认票据无效纠纷',\n",
       " '破产债权确认纠纷',\n",
       " '保险经纪合同纠纷',\n",
       " '股东知情权纠纷',\n",
       " '损害公司利益责任纠纷',\n",
       " '股东损害公司债权人利益责任纠纷',\n",
       " '公司盈余分配纠纷',\n",
       " '清算责任纠纷',\n",
       " '与企业有关的纠纷',\n",
       " '公司决议纠纷',\n",
       " '联营合同纠纷',\n",
       " '国债交易纠纷',\n",
       " '与公司、证券、保险、票据等有关的民事纠纷',\n",
       " '企业承包经营合同纠纷',\n",
       " '企业租赁经营合同纠纷',\n",
       " '保证保险合同纠纷',\n",
       " '票据纠纷',\n",
       " '公司解散纠纷',\n",
       " '损害股东利益责任纠纷',\n",
       " '股东出资纠纷',\n",
       " '票据付款请求权纠纷',\n",
       " '请求变更公司登记纠纷',\n",
       " '信用证纠纷',\n",
       " '健康保险合同纠纷',\n",
       " '合伙企业纠纷',\n",
       " '公司债券交易纠纷',\n",
       " '公司决议撤销纠纷',\n",
       " '公司设立纠纷',\n",
       " '营业信托纠纷',\n",
       " '公司决议效力确认纠纷',\n",
       " '合伙企业财产份额转让纠纷',\n",
       " '证券发行纠纷',\n",
       " '证券交易代理合同纠纷',\n",
       " '证券虚假陈述责任纠纷',\n",
       " '公司增资纠纷',\n",
       " '入伙纠纷',\n",
       " '一般取回权纠纷',\n",
       " '公司证照返还纠纷',\n",
       " '信托纠纷',\n",
       " '欺诈客户责任纠纷',\n",
       " '职工破产债权确认纠纷',\n",
       " '企业兼并合同纠纷',\n",
       " '票据损害责任纠纷',\n",
       " '申请公司清算',\n",
       " '新增资本认购纠纷',\n",
       " '乡镇企业承包经营合同纠纷',\n",
       " '申请破产重整',\n",
       " '请求撤销个别清偿行为纠纷']"
      ]
     },
     "execution_count": 12,
     "metadata": {},
     "output_type": "execute_result"
    }
   ],
   "source": [
    "anyoulist"
   ]
  },
  {
   "cell_type": "code",
   "execution_count": 13,
   "metadata": {},
   "outputs": [],
   "source": [
    "del data['庭审程序说明']"
   ]
  },
  {
   "cell_type": "code",
   "execution_count": 14,
   "metadata": {},
   "outputs": [],
   "source": [
    "#处理庭审程序和文书类型\n",
    "# 处理第三方\n",
    "# 一审为1，二审为2,其他为0\n",
    "thirdparty = []\n",
    "for index in range(len(data)):        \n",
    "    if \"一审\" in data.iloc[index]['庭审程序']:\n",
    "        thirdparty.append(1)\n",
    "    elif \"二审\" in data.iloc[index]['庭审程序']:\n",
    "        thirdparty.append(2)\n",
    "    else:\n",
    "        thirdparty.append(0)\n",
    "        \n",
    "data['庭审程序分类'] = pd.DataFrame(thirdparty)\n",
    "del data['庭审程序']"
   ]
  },
  {
   "cell_type": "code",
   "execution_count": 19,
   "metadata": {
    "scrolled": true
   },
   "outputs": [],
   "source": [
    "# 处理裁定书\n",
    "thirdparty = []\n",
    "for index in range(len(data)):        \n",
    "    if \"裁定书\" in data.iloc[index]['文书类型']:\n",
    "        thirdparty.append(1)\n",
    "    elif \"判决书\" in data.iloc[index]['文书类型']:\n",
    "        thirdparty.append(2)\n",
    "    else:\n",
    "        thirdparty.append(0)\n",
    "        \n",
    "data['文书'] = pd.DataFrame(thirdparty)\n",
    "del data['文书类型']"
   ]
  },
  {
   "cell_type": "code",
   "execution_count": 23,
   "metadata": {},
   "outputs": [],
   "source": [
    "laws = set(data['判决法律'])"
   ]
  },
  {
   "cell_type": "code",
   "execution_count": 34,
   "metadata": {
    "scrolled": false
   },
   "outputs": [],
   "source": [
    "# 处理结果\n",
    "# 2 为其他\n",
    "thirdparty = []\n",
    "for index in range(len(data)):\n",
    "    try:\n",
    "        if \"驳回\" in data.iloc[index]['判决结果']:\n",
    "            thirdparty.append(0)# 说明失败了\n",
    "        else:\n",
    "            thirdparty.append(1) # 认为成功了\n",
    "    except:\n",
    "        thirdparty.append(2)\n",
    "        \n",
    "data['是否成功'] = pd.DataFrame(thirdparty)\n",
    "# del data['判决结果']"
   ]
  },
  {
   "cell_type": "code",
   "execution_count": 41,
   "metadata": {},
   "outputs": [],
   "source": [
    "data = data.drop(1)"
   ]
  },
  {
   "cell_type": "code",
   "execution_count": 43,
   "metadata": {},
   "outputs": [],
   "source": [
    "X = data[['是否为终审','原被告分类','第三方分类','庭审程序分类','文书']]\n",
    "Y = data['是否成功']"
   ]
  },
  {
   "cell_type": "code",
   "execution_count": 47,
   "metadata": {},
   "outputs": [],
   "source": [
    "from sklearn import tree"
   ]
  },
  {
   "cell_type": "code",
   "execution_count": 80,
   "metadata": {},
   "outputs": [],
   "source": [
    "clf = tree.DecisionTreeClassifier()\n",
    "clf = clf.fit(X[:-200],Y[:-200])"
   ]
  },
  {
   "cell_type": "code",
   "execution_count": 81,
   "metadata": {},
   "outputs": [
    {
     "data": {
      "text/plain": [
       "0.63"
      ]
     },
     "execution_count": 81,
     "metadata": {},
     "output_type": "execute_result"
    }
   ],
   "source": [
    "(200 - np.sum(abs(clf.predict(X[-200:]) - Y[-200:])))/200"
   ]
  }
 ],
 "metadata": {
  "kernelspec": {
   "display_name": "Python 3",
   "language": "python",
   "name": "python3"
  },
  "language_info": {
   "codemirror_mode": {
    "name": "ipython",
    "version": 3
   },
   "file_extension": ".py",
   "mimetype": "text/x-python",
   "name": "python",
   "nbconvert_exporter": "python",
   "pygments_lexer": "ipython3",
   "version": "3.6.4"
  }
 },
 "nbformat": 4,
 "nbformat_minor": 2
}
